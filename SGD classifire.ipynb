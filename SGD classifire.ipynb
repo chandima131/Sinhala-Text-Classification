{
 "cells": [
  {
   "cell_type": "code",
   "execution_count": 2,
   "id": "6f7258d8",
   "metadata": {},
   "outputs": [
    {
     "name": "stdout",
     "output_type": "stream",
     "text": [
      "0      හාමුදුරුවරු සියලූම පූජකයන්ගේ මානසික සෞඛ්යය සොය...\n",
      "1      ද්විපාර්ශවික එකඟතා ජන ජීවිත සෞඛ්යය මනාව ආරක්ෂා...\n",
      "2      කරැනාකර චින නිෂ්පාදිත එන්නත ලබාගත් පුද්ගලයන් හ...\n",
      "3      කරැනාකර චින නිෂ්පාදිත එන්නත ලබාගත් පුද්ගලයන් හ...\n",
      "4        කරැනාකර චින නිෂ්පාදිත එන්නත ලබාගත් පුද්ගලයන් හට\n",
      "                             ...                        \n",
      "265    පාර්ලිමේන්තු මන්ත්රී රිෂාඩ් බදියුදීන්ගේ නිවසේ ...\n",
      "266    බදියුදීන්ගේ බිරිඳ සැකකරු අද අධිකරණයට පාර්ලිමේන...\n",
      "267    බදියුදීන්ගේ නිවසේදී දැරියක මියයෑමේ සිද්ධියේ වි...\n",
      "268    අත්අඩංගුව ගනු ලැබූ මන්ත්රී රිෂාඩ් බිරිඳ පිරිස ...\n",
      "269    ස එවල වැඩ නැති උනහම වැඩ කරන්න බැරි පාර්ලිමේන්ත...\n",
      "Name: stemming_words, Length: 270, dtype: object\n",
      "0         Other\n",
      "1      Politics\n",
      "2         Other\n",
      "3         Other\n",
      "4         Other\n",
      "         ...   \n",
      "265       Crime\n",
      "266       Crime\n",
      "267       Crime\n",
      "268       Crime\n",
      "269       Other\n",
      "Name: LABEL, Length: 270, dtype: object\n"
     ]
    },
    {
     "data": {
      "text/html": [
       "<div>\n",
       "<style scoped>\n",
       "    .dataframe tbody tr th:only-of-type {\n",
       "        vertical-align: middle;\n",
       "    }\n",
       "\n",
       "    .dataframe tbody tr th {\n",
       "        vertical-align: top;\n",
       "    }\n",
       "\n",
       "    .dataframe thead th {\n",
       "        text-align: right;\n",
       "    }\n",
       "</style>\n",
       "<table border=\"1\" class=\"dataframe\">\n",
       "  <thead>\n",
       "    <tr style=\"text-align: right;\">\n",
       "      <th></th>\n",
       "      <th>Unnamed: 0</th>\n",
       "      <th>User</th>\n",
       "      <th>CREATED_AT</th>\n",
       "      <th>LABEL</th>\n",
       "      <th>stemming_words</th>\n",
       "    </tr>\n",
       "  </thead>\n",
       "  <tbody>\n",
       "    <tr>\n",
       "      <th>0</th>\n",
       "      <td>2</td>\n",
       "      <td>1.420000e+18</td>\n",
       "      <td>7/29/2021 2:40</td>\n",
       "      <td>Other</td>\n",
       "      <td>හාමුදුරුවරු සියලූම පූජකයන්ගේ මානසික සෞඛ්යය සොය...</td>\n",
       "    </tr>\n",
       "    <tr>\n",
       "      <th>1</th>\n",
       "      <td>3</td>\n",
       "      <td>1.420000e+18</td>\n",
       "      <td>7/27/2021 10:40</td>\n",
       "      <td>Politics</td>\n",
       "      <td>ද්විපාර්ශවික එකඟතා ජන ජීවිත සෞඛ්යය මනාව ආරක්ෂා...</td>\n",
       "    </tr>\n",
       "    <tr>\n",
       "      <th>2</th>\n",
       "      <td>4</td>\n",
       "      <td>1.420000e+18</td>\n",
       "      <td>7/25/2021 20:56</td>\n",
       "      <td>Other</td>\n",
       "      <td>කරැනාකර චින නිෂ්පාදිත එන්නත ලබාගත් පුද්ගලයන් හ...</td>\n",
       "    </tr>\n",
       "    <tr>\n",
       "      <th>3</th>\n",
       "      <td>5</td>\n",
       "      <td>1.420000e+18</td>\n",
       "      <td>7/25/2021 20:53</td>\n",
       "      <td>Other</td>\n",
       "      <td>කරැනාකර චින නිෂ්පාදිත එන්නත ලබාගත් පුද්ගලයන් හ...</td>\n",
       "    </tr>\n",
       "    <tr>\n",
       "      <th>4</th>\n",
       "      <td>6</td>\n",
       "      <td>1.420000e+18</td>\n",
       "      <td>7/25/2021 20:52</td>\n",
       "      <td>Other</td>\n",
       "      <td>කරැනාකර චින නිෂ්පාදිත එන්නත ලබාගත් පුද්ගලයන් හට</td>\n",
       "    </tr>\n",
       "  </tbody>\n",
       "</table>\n",
       "</div>"
      ],
      "text/plain": [
       "   Unnamed: 0          User       CREATED_AT     LABEL  \\\n",
       "0           2  1.420000e+18   7/29/2021 2:40     Other   \n",
       "1           3  1.420000e+18  7/27/2021 10:40  Politics   \n",
       "2           4  1.420000e+18  7/25/2021 20:56     Other   \n",
       "3           5  1.420000e+18  7/25/2021 20:53     Other   \n",
       "4           6  1.420000e+18  7/25/2021 20:52     Other   \n",
       "\n",
       "                                      stemming_words  \n",
       "0  හාමුදුරුවරු සියලූම පූජකයන්ගේ මානසික සෞඛ්යය සොය...  \n",
       "1  ද්විපාර්ශවික එකඟතා ජන ජීවිත සෞඛ්යය මනාව ආරක්ෂා...  \n",
       "2  කරැනාකර චින නිෂ්පාදිත එන්නත ලබාගත් පුද්ගලයන් හ...  \n",
       "3  කරැනාකර චින නිෂ්පාදිත එන්නත ලබාගත් පුද්ගලයන් හ...  \n",
       "4    කරැනාකර චින නිෂ්පාදිත එන්නත ලබාගත් පුද්ගලයන් හට  "
      ]
     },
     "execution_count": 2,
     "metadata": {},
     "output_type": "execute_result"
    }
   ],
   "source": [
    "import numpy as np\n",
    "import pandas as pd\n",
    "import itertools\n",
    "from sklearn.model_selection import train_test_split\n",
    "from sklearn.feature_extraction.text import TfidfVectorizer\n",
    "from sklearn.linear_model import PassiveAggressiveClassifier\n",
    "from sklearn.metrics import accuracy_score, confusion_matrix\n",
    "import matplotlib.pyplot as plt\n",
    "from collections import Counter\n",
    "   \n",
    "    #from sklearn import naive_bayes, metrics, svm\n",
    "from IPython.display import Image\n",
    "import warnings\n",
    "warnings.filterwarnings(\"ignore\")\n",
    "#     %matplotlib inline\n",
    "\n",
    "df = pd.read_csv('FinalListPreprocessedData.csv')\n",
    "X=df['stemming_words']\n",
    "y=df['LABEL']\n",
    "\n",
    "print(X)\n",
    "\n",
    "print(y)\n",
    "\n",
    "y.value_counts()\n",
    "\n",
    "df.shape\n",
    "\n",
    "df.head()"
   ]
  },
  {
   "cell_type": "code",
   "execution_count": 4,
   "id": "4620617f",
   "metadata": {},
   "outputs": [
    {
     "data": {
      "image/png": "[encoded data removed]",
      "text/plain": [
       "<Figure size 432x288 with 1 Axes>"
      ]
     },
     "metadata": {
      "needs_background": "light"
     },
     "output_type": "display_data"
    },
    {
     "data": {
      "image/png": "[encoded data removed]",
      "text/plain": [
       "<Figure size 432x288 with 1 Axes>"
      ]
     },
     "metadata": {},
     "output_type": "display_data"
    }
   ],
   "source": [
    "count_Class=pd.value_counts(df[\"LABEL\"], sort= True)\n",
    "count_Class.plot(kind= 'bar', color= [\"blue\", \"orange\",\"yellow\",\"Green\",\"Red\"])\n",
    "plt.title('Bar chart')\n",
    "plt.show()\n",
    "\n",
    "count_Class.plot(kind = 'pie',  autopct='%1.0f%%')\n",
    "plt.title('Pie chart')\n",
    "plt.ylabel('')\n",
    "plt.show()"
   ]
  },
  {
   "cell_type": "code",
   "execution_count": 5,
   "id": "9317712c",
   "metadata": {},
   "outputs": [
    {
     "name": "stdout",
     "output_type": "stream",
     "text": [
      "[[ 5  0  2  1  0]\n",
      " [ 0  0  2  0  4]\n",
      " [ 1  1  9  6  2]\n",
      " [ 2  0  3 16  4]\n",
      " [ 0  0  4  3 25]]\n",
      "               precision    recall  f1-score   support\n",
      "\n",
      "        Crime       0.62      0.62      0.62         8\n",
      "Entertainment       0.00      0.00      0.00         6\n",
      "        Other       0.45      0.47      0.46        19\n",
      "     Politics       0.62      0.64      0.63        25\n",
      "        Sport       0.71      0.78      0.75        32\n",
      "\n",
      "     accuracy                           0.61        90\n",
      "    macro avg       0.48      0.50      0.49        90\n",
      " weighted avg       0.58      0.61      0.59        90\n",
      "\n"
     ]
    }
   ],
   "source": [
    "from sklearn.model_selection import train_test_split\n",
    "\n",
    "X = df['stemming_words'] \n",
    "y = df['LABEL']\n",
    "\n",
    "X_train, X_test, y_train, y_test = train_test_split(X, y, test_size=0.33, random_state=42)\n",
    "from sklearn.feature_extraction.text import TfidfVectorizer\n",
    "vectorizer = TfidfVectorizer()\n",
    "\n",
    "X_train_tfidf = vectorizer.fit_transform(X_train) # remember to use the original X_train set\n",
    "X_train_tfidf.shape\n",
    "\n",
    "from sklearn.svm import LinearSVC\n",
    "clf = LinearSVC()\n",
    "clf.fit(X_train_tfidf,y_train)\n",
    "\n",
    "from sklearn.pipeline import Pipeline\n",
    "# from sklearn.feature_extraction.text import TfidfVectorizer\n",
    "# from sklearn.svm import LinearSVC\n",
    "\n",
    "text_clf = Pipeline([('tfidf', TfidfVectorizer()),\n",
    "                     ('clf', LinearSVC()),\n",
    "])\n",
    "\n",
    "# Feed the training data through the pipeline\n",
    "text_clf.fit(X_train, y_train)\n",
    "\n",
    "predictions = text_clf.predict(X_test)\n",
    "from sklearn import metrics\n",
    "print(metrics.confusion_matrix(y_test,predictions))\n",
    "\n",
    "print(metrics.classification_report(y_test,predictions))\n",
    "\n"
   ]
  },
  {
   "cell_type": "code",
   "execution_count": 11,
   "id": "46faf239",
   "metadata": {},
   "outputs": [
    {
     "name": "stdout",
     "output_type": "stream",
     "text": [
      "['Sport']\n",
      "['Sport']\n",
      "['Crime']\n"
     ]
    }
   ],
   "source": [
    "predi = text_clf.predict([\"ඔලිම්පික් ක්‍රීඩාවේ නිරත වන්නන් ටෝකියෝ බලා පිටත් වේ\"])\n",
    "print(predi)\n",
    "predi = text_clf.predict([\"ගුරු වැටුප් විෂමතා වලට විසඳුම් ලැබේ\"])\n",
    "print(predi)\n",
    "predi = text_clf.predict([\" ටෝකියෝ අත්අඩංගුවට පත්වේ\"])\n",
    "print(predi)"
   ]
  },
  {
   "cell_type": "code",
   "execution_count": null,
   "id": "8c8b8f23",
   "metadata": {},
   "outputs": [],
   "source": []
  }
 ],
 "metadata": {
  "kernelspec": {
   "display_name": "Python 3",
   "language": "python",
   "name": "python3"
  },
  "language_info": {
   "codemirror_mode": {
    "name": "ipython",
    "version": 3
   },
   "file_extension": ".py",
   "mimetype": "text/x-python",
   "name": "python",
   "nbconvert_exporter": "python",
   "pygments_lexer": "ipython3",
   "version": "3.7.0"
  }
 },
 "nbformat": 4,
 "nbformat_minor": 5
}
