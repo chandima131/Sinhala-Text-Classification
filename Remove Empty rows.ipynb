{
 "cells": [
  {
   "cell_type": "code",
   "execution_count": 6,
   "id": "1a697bf4",
   "metadata": {},
   "outputs": [],
   "source": [
    "import csv\n",
    "\n",
    "with open('aa.csv') as input, open('aa.csv', 'w') as output:\n",
    "    non_blank = (line for line in input if line.strip())\n",
    "    output.writelines(non_blank)"
   ]
  },
  {
   "cell_type": "code",
   "execution_count": null,
   "id": "a19eb45f",
   "metadata": {},
   "outputs": [],
   "source": []
  }
 ],
 "metadata": {
  "kernelspec": {
   "display_name": "Python 3",
   "language": "python",
   "name": "python3"
  },
  "language_info": {
   "codemirror_mode": {
    "name": "ipython",
    "version": 3
   },
   "file_extension": ".py",
   "mimetype": "text/x-python",
   "name": "python",
   "nbconvert_exporter": "python",
   "pygments_lexer": "ipython3",
   "version": "3.7.0"
  }
 },
 "nbformat": 4,
 "nbformat_minor": 5
}
