{
 "cells": [
  {
   "cell_type": "code",
   "execution_count": 11,
   "id": "335c40bd",
   "metadata": {},
   "outputs": [],
   "source": [
    "# coding=utf-8\n",
    "import pandas as pd\n",
    "import csv  # Import csv\n",
    "import tweepy\n",
    "import re\n",
    "import string\n",
    "import nltk\n",
    "import pandas as pd\n",
    "from nltk import FreqDist\n",
    "from nltk.tokenize import word_tokenize\n",
    "from sklearn.feature_extraction.text import TfidfVectorizer\n",
    "from sklearn.naive_bayes import MultinomialNB\n",
    "import numpy as np\n",
    "pd.set_option('display.max_colwidth',1000)"
   ]
  },
  {
   "cell_type": "code",
   "execution_count": 12,
   "id": "eaaeb358",
   "metadata": {},
   "outputs": [
    {
     "data": {
      "text/html": [
       "<div>\n",
       "<style scoped>\n",
       "    .dataframe tbody tr th:only-of-type {\n",
       "        vertical-align: middle;\n",
       "    }\n",
       "\n",
       "    .dataframe tbody tr th {\n",
       "        vertical-align: top;\n",
       "    }\n",
       "\n",
       "    .dataframe thead th {\n",
       "        text-align: right;\n",
       "    }\n",
       "</style>\n",
       "<table border=\"1\" class=\"dataframe\">\n",
       "  <thead>\n",
       "    <tr style=\"text-align: right;\">\n",
       "      <th></th>\n",
       "      <th>ID</th>\n",
       "      <th>User</th>\n",
       "      <th>CREATED_AT</th>\n",
       "      <th>LABEL</th>\n",
       "      <th>stemming_words</th>\n",
       "    </tr>\n",
       "  </thead>\n",
       "  <tbody>\n",
       "    <tr>\n",
       "      <th>1</th>\n",
       "      <td>2.0</td>\n",
       "      <td>1.42E+18</td>\n",
       "      <td>7/29/2021 2:40</td>\n",
       "      <td>Other</td>\n",
       "      <td>හාමුදුරුවරු සියලූම පූජකයන්ගේ මානසික සෞඛ්යය සොයා බැලීමේ වැඩ පිලිවලක් ඕනේ</td>\n",
       "    </tr>\n",
       "    <tr>\n",
       "      <th>2</th>\n",
       "      <td>3.0</td>\n",
       "      <td>1.42E+18</td>\n",
       "      <td>7/27/2021 10:40</td>\n",
       "      <td>Politics</td>\n",
       "      <td>ද්විපාර්ශවික එකඟතා ජන ජීවිත සෞඛ්යය මනාව ආරක්ෂා කරමින් හැකි ඉක්මණින් ආර්ථිකය</td>\n",
       "    </tr>\n",
       "    <tr>\n",
       "      <th>3</th>\n",
       "      <td>4.0</td>\n",
       "      <td>1.42E+18</td>\n",
       "      <td>7/25/2021 20:56</td>\n",
       "      <td>Other</td>\n",
       "      <td>කරැනාකර චින නිෂ්පාදිත එන්නත ලබාගත් පුද්ගලයන් හට යුරෝපීය රට වලට විසා නිකුත් නොකි</td>\n",
       "    </tr>\n",
       "    <tr>\n",
       "      <th>4</th>\n",
       "      <td>5.0</td>\n",
       "      <td>1.42E+18</td>\n",
       "      <td>7/25/2021 20:53</td>\n",
       "      <td>Other</td>\n",
       "      <td>කරැනාකර චින නිෂ්පාදිත එන්නත ලබාගත් පුද්ගලයන් හට යුර</td>\n",
       "    </tr>\n",
       "    <tr>\n",
       "      <th>5</th>\n",
       "      <td>6.0</td>\n",
       "      <td>1.42E+18</td>\n",
       "      <td>7/25/2021 20:52</td>\n",
       "      <td>Other</td>\n",
       "      <td>කරැනාකර චින නිෂ්පාදිත එන්නත ලබාගත් පුද්ගලයන් හට</td>\n",
       "    </tr>\n",
       "  </tbody>\n",
       "</table>\n",
       "</div>"
      ],
      "text/plain": [
       "    ID      User       CREATED_AT     LABEL  \\\n",
       "1  2.0  1.42E+18   7/29/2021 2:40     Other   \n",
       "2  3.0  1.42E+18  7/27/2021 10:40  Politics   \n",
       "3  4.0  1.42E+18  7/25/2021 20:56     Other   \n",
       "4  5.0  1.42E+18  7/25/2021 20:53     Other   \n",
       "5  6.0  1.42E+18  7/25/2021 20:52     Other   \n",
       "\n",
       "                                                                    stemming_words  \n",
       "1          හාමුදුරුවරු සියලූම පූජකයන්ගේ මානසික සෞඛ්යය සොයා බැලීමේ වැඩ පිලිවලක් ඕනේ  \n",
       "2      ද්විපාර්ශවික එකඟතා ජන ජීවිත සෞඛ්යය මනාව ආරක්ෂා කරමින් හැකි ඉක්මණින් ආර්ථිකය  \n",
       "3  කරැනාකර චින නිෂ්පාදිත එන්නත ලබාගත් පුද්ගලයන් හට යුරෝපීය රට වලට විසා නිකුත් නොකි  \n",
       "4                              කරැනාකර චින නිෂ්පාදිත එන්නත ලබාගත් පුද්ගලයන් හට යුර  \n",
       "5                                  කරැනාකර චින නිෂ්පාදිත එන්නත ලබාගත් පුද්ගලයන් හට  "
      ]
     },
     "execution_count": 12,
     "metadata": {},
     "output_type": "execute_result"
    }
   ],
   "source": [
    "#!/usr/bin/env python\n",
    "# -*- coding:utf-8 -*-\n",
    "\n",
    "import codecs\n",
    "#data = pd.read_csv('PreprocessedData.csv', header = None, encoding='utf-8', engine='python') ## for older one \n",
    "data = pd.read_csv('FinalListPreprocessedData.csv', header = None, encoding='utf-8', engine='python')\n",
    "data.columns = ['ID','User','CREATED_AT','LABEL','stemming_words']\n",
    "data = data.iloc[1: , :] # start from first column\n",
    "data.head()"
   ]
  },
  {
   "cell_type": "code",
   "execution_count": 13,
   "id": "5e9c3280",
   "metadata": {},
   "outputs": [],
   "source": [
    "data.loc[data['LABEL']=='Crime',\"LABEL\"] = 0\n",
    "data.loc[data['LABEL']=='Entertainment',\"LABEL\"] = 1\n",
    "data.loc[data['LABEL']=='Politics',\"LABEL\"] = 3\n",
    "data.loc[data['LABEL']=='Sport',\"LABEL\"] = 4\n",
    "data.loc[data['LABEL']=='Other',\"LABEL\"] = 5"
   ]
  },
  {
   "cell_type": "code",
   "execution_count": 14,
   "id": "c253cce0",
   "metadata": {},
   "outputs": [
    {
     "data": {
      "text/html": [
       "<div>\n",
       "<style scoped>\n",
       "    .dataframe tbody tr th:only-of-type {\n",
       "        vertical-align: middle;\n",
       "    }\n",
       "\n",
       "    .dataframe tbody tr th {\n",
       "        vertical-align: top;\n",
       "    }\n",
       "\n",
       "    .dataframe thead th {\n",
       "        text-align: right;\n",
       "    }\n",
       "</style>\n",
       "<table border=\"1\" class=\"dataframe\">\n",
       "  <thead>\n",
       "    <tr style=\"text-align: right;\">\n",
       "      <th></th>\n",
       "      <th>ID</th>\n",
       "      <th>User</th>\n",
       "      <th>CREATED_AT</th>\n",
       "      <th>LABEL</th>\n",
       "      <th>stemming_words</th>\n",
       "    </tr>\n",
       "  </thead>\n",
       "  <tbody>\n",
       "    <tr>\n",
       "      <th>1</th>\n",
       "      <td>2.0</td>\n",
       "      <td>1.42E+18</td>\n",
       "      <td>7/29/2021 2:40</td>\n",
       "      <td>5</td>\n",
       "      <td>හාමුදුරුවරු සියලූම පූජකයන්ගේ මානසික සෞඛ්යය සොයා බැලීමේ වැඩ පිලිවලක් ඕනේ</td>\n",
       "    </tr>\n",
       "    <tr>\n",
       "      <th>2</th>\n",
       "      <td>3.0</td>\n",
       "      <td>1.42E+18</td>\n",
       "      <td>7/27/2021 10:40</td>\n",
       "      <td>3</td>\n",
       "      <td>ද්විපාර්ශවික එකඟතා ජන ජීවිත සෞඛ්යය මනාව ආරක්ෂා කරමින් හැකි ඉක්මණින් ආර්ථිකය</td>\n",
       "    </tr>\n",
       "    <tr>\n",
       "      <th>3</th>\n",
       "      <td>4.0</td>\n",
       "      <td>1.42E+18</td>\n",
       "      <td>7/25/2021 20:56</td>\n",
       "      <td>5</td>\n",
       "      <td>කරැනාකර චින නිෂ්පාදිත එන්නත ලබාගත් පුද්ගලයන් හට යුරෝපීය රට වලට විසා නිකුත් නොකි</td>\n",
       "    </tr>\n",
       "    <tr>\n",
       "      <th>4</th>\n",
       "      <td>5.0</td>\n",
       "      <td>1.42E+18</td>\n",
       "      <td>7/25/2021 20:53</td>\n",
       "      <td>5</td>\n",
       "      <td>කරැනාකර චින නිෂ්පාදිත එන්නත ලබාගත් පුද්ගලයන් හට යුර</td>\n",
       "    </tr>\n",
       "    <tr>\n",
       "      <th>5</th>\n",
       "      <td>6.0</td>\n",
       "      <td>1.42E+18</td>\n",
       "      <td>7/25/2021 20:52</td>\n",
       "      <td>5</td>\n",
       "      <td>කරැනාකර චින නිෂ්පාදිත එන්නත ලබාගත් පුද්ගලයන් හට</td>\n",
       "    </tr>\n",
       "  </tbody>\n",
       "</table>\n",
       "</div>"
      ],
      "text/plain": [
       "    ID      User       CREATED_AT LABEL  \\\n",
       "1  2.0  1.42E+18   7/29/2021 2:40     5   \n",
       "2  3.0  1.42E+18  7/27/2021 10:40     3   \n",
       "3  4.0  1.42E+18  7/25/2021 20:56     5   \n",
       "4  5.0  1.42E+18  7/25/2021 20:53     5   \n",
       "5  6.0  1.42E+18  7/25/2021 20:52     5   \n",
       "\n",
       "                                                                    stemming_words  \n",
       "1          හාමුදුරුවරු සියලූම පූජකයන්ගේ මානසික සෞඛ්යය සොයා බැලීමේ වැඩ පිලිවලක් ඕනේ  \n",
       "2      ද්විපාර්ශවික එකඟතා ජන ජීවිත සෞඛ්යය මනාව ආරක්ෂා කරමින් හැකි ඉක්මණින් ආර්ථිකය  \n",
       "3  කරැනාකර චින නිෂ්පාදිත එන්නත ලබාගත් පුද්ගලයන් හට යුරෝපීය රට වලට විසා නිකුත් නොකි  \n",
       "4                              කරැනාකර චින නිෂ්පාදිත එන්නත ලබාගත් පුද්ගලයන් හට යුර  \n",
       "5                                  කරැනාකර චින නිෂ්පාදිත එන්නත ලබාගත් පුද්ගලයන් හට  "
      ]
     },
     "execution_count": 14,
     "metadata": {},
     "output_type": "execute_result"
    }
   ],
   "source": [
    "data.head()"
   ]
  },
  {
   "cell_type": "code",
   "execution_count": 15,
   "id": "1ab4d1fc",
   "metadata": {},
   "outputs": [
    {
     "data": {
      "text/plain": [
       "4    86\n",
       "3    76\n",
       "5    69\n",
       "0    25\n",
       "1    14\n",
       "Name: LABEL, dtype: int64"
      ]
     },
     "execution_count": 15,
     "metadata": {},
     "output_type": "execute_result"
    }
   ],
   "source": [
    "data['LABEL'].value_counts()"
   ]
  },
  {
   "cell_type": "code",
   "execution_count": 16,
   "id": "02823b6e",
   "metadata": {},
   "outputs": [],
   "source": [
    "############### Apply tfidf vectorizer ######################"
   ]
  },
  {
   "cell_type": "code",
   "execution_count": 17,
   "id": "fda5c469",
   "metadata": {},
   "outputs": [],
   "source": [
    "data_x=data[\"stemming_words\"]\n",
    "data_y=data[\"LABEL\"]\n",
    "\n",
    "cv = TfidfVectorizer()"
   ]
  },
  {
   "cell_type": "code",
   "execution_count": 18,
   "id": "8581dc56",
   "metadata": {},
   "outputs": [],
   "source": [
    "from sklearn.model_selection import train_test_split\n",
    "x_train, x_test, y_train, y_test = train_test_split(data_x, data_y, test_size=0.2, random_state=4)"
   ]
  },
  {
   "cell_type": "code",
   "execution_count": 19,
   "id": "01fe1ee8",
   "metadata": {},
   "outputs": [],
   "source": [
    "x_traincv=cv.fit_transform(x_train)"
   ]
  },
  {
   "cell_type": "code",
   "execution_count": 20,
   "id": "eb82dc22",
   "metadata": {},
   "outputs": [
    {
     "data": {
      "text/plain": [
       "array([[0., 0., 0., ..., 0., 0., 0.],\n",
       "       [0., 0., 0., ..., 0., 0., 0.],\n",
       "       [0., 0., 0., ..., 0., 0., 0.],\n",
       "       ...,\n",
       "       [0., 0., 0., ..., 0., 0., 0.],\n",
       "       [0., 0., 0., ..., 0., 0., 0.],\n",
       "       [0., 0., 0., ..., 0., 0., 0.]])"
      ]
     },
     "execution_count": 20,
     "metadata": {},
     "output_type": "execute_result"
    }
   ],
   "source": [
    "a = x_traincv.toarray()\n",
    "a"
   ]
  },
  {
   "cell_type": "code",
   "execution_count": 21,
   "id": "d570cc41",
   "metadata": {},
   "outputs": [
    {
     "data": {
      "text/plain": [
       "651"
      ]
     },
     "execution_count": 21,
     "metadata": {},
     "output_type": "execute_result"
    }
   ],
   "source": [
    "len(a[0])"
   ]
  },
  {
   "cell_type": "code",
   "execution_count": 22,
   "id": "c7656e49",
   "metadata": {},
   "outputs": [],
   "source": [
    "###########  MultiNomial Naive bayes ############"
   ]
  },
  {
   "cell_type": "code",
   "execution_count": 23,
   "id": "94391688",
   "metadata": {},
   "outputs": [
    {
     "data": {
      "text/plain": [
       "MultinomialNB()"
      ]
     },
     "execution_count": 23,
     "metadata": {},
     "output_type": "execute_result"
    }
   ],
   "source": [
    "mnb = MultinomialNB()\n",
    "y_train = y_train.astype('int')\n",
    "mnb.fit(x_traincv,y_train)"
   ]
  },
  {
   "cell_type": "code",
   "execution_count": 24,
   "id": "45441ff0",
   "metadata": {},
   "outputs": [
    {
     "data": {
      "text/plain": [
       "array([4, 3, 4, 4, 3, 4, 5, 4, 4, 5, 4, 4, 5, 3, 3, 4, 4, 4, 5, 3, 3, 4,\n",
       "       4, 4, 3, 4, 3, 3, 3, 3, 4, 0, 4, 4, 3, 4, 5, 5, 3, 3, 3, 4, 4, 5,\n",
       "       3, 4, 3, 5, 5, 5, 4, 5, 4, 4])"
      ]
     },
     "execution_count": 24,
     "metadata": {},
     "output_type": "execute_result"
    }
   ],
   "source": [
    "x_testcv=cv.transform(x_test)\n",
    "prediction = mnb.predict(x_testcv)\n",
    "prediction"
   ]
  },
  {
   "cell_type": "code",
   "execution_count": 25,
   "id": "b8780972",
   "metadata": {},
   "outputs": [
    {
     "data": {
      "text/plain": [
       "array([4, 3, 4, 4, 4, 4, 5, 4, 4, 3, 4, 3, 0, 4, 0, 5, 0, 5, 5, 3, 3, 1,\n",
       "       4, 4, 3, 1, 3, 0, 3, 3, 4, 0, 5, 3, 3, 4, 0, 3, 3, 3, 5, 4, 4, 1,\n",
       "       5, 4, 3, 5, 5, 3, 5, 4, 4, 4], dtype=object)"
      ]
     },
     "execution_count": 25,
     "metadata": {},
     "output_type": "execute_result"
    }
   ],
   "source": [
    "actual = np.array(y_test)\n",
    "actual"
   ]
  },
  {
   "cell_type": "code",
   "execution_count": 26,
   "id": "efa02cb9",
   "metadata": {},
   "outputs": [],
   "source": [
    "count = 0\n",
    "for i in range (len(prediction)):\n",
    "    if prediction[i] == actual[i]:\n",
    "        count = count +1"
   ]
  },
  {
   "cell_type": "code",
   "execution_count": 27,
   "id": "5bc17be8",
   "metadata": {},
   "outputs": [
    {
     "data": {
      "text/plain": [
       "32"
      ]
     },
     "execution_count": 27,
     "metadata": {},
     "output_type": "execute_result"
    }
   ],
   "source": [
    "count #correct prediction"
   ]
  },
  {
   "cell_type": "code",
   "execution_count": 28,
   "id": "6b68b708",
   "metadata": {},
   "outputs": [
    {
     "data": {
      "text/plain": [
       "54"
      ]
     },
     "execution_count": 28,
     "metadata": {},
     "output_type": "execute_result"
    }
   ],
   "source": [
    "len(prediction) #total prediction"
   ]
  },
  {
   "cell_type": "code",
   "execution_count": 30,
   "id": "065dfa33",
   "metadata": {},
   "outputs": [
    {
     "data": {
      "text/plain": [
       "0.5925925925925926"
      ]
     },
     "execution_count": 30,
     "metadata": {},
     "output_type": "execute_result"
    }
   ],
   "source": [
    "32/54 ###### probbility"
   ]
  },
  {
   "cell_type": "code",
   "execution_count": null,
   "id": "6d3384a1",
   "metadata": {},
   "outputs": [],
   "source": []
  }
 ],
 "metadata": {
  "kernelspec": {
   "display_name": "Python 3",
   "language": "python",
   "name": "python3"
  },
  "language_info": {
   "codemirror_mode": {
    "name": "ipython",
    "version": 3
   },
   "file_extension": ".py",
   "mimetype": "text/x-python",
   "name": "python",
   "nbconvert_exporter": "python",
   "pygments_lexer": "ipython3",
   "version": "3.7.0"
  }
 },
 "nbformat": 4,
 "nbformat_minor": 5
}
