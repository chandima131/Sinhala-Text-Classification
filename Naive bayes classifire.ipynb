{
 "cells": [
  {
   "cell_type": "code",
   "execution_count": 1,
   "id": "335c40bd",
   "metadata": {},
   "outputs": [],
   "source": [
    "# coding=utf-8\n",
    "import pandas as pd\n",
    "import csv  # Import csv\n",
    "import tweepy\n",
    "import re\n",
    "import string\n",
    "import nltk\n",
    "import pandas as pd\n",
    "from nltk import FreqDist\n",
    "from nltk.tokenize import word_tokenize\n",
    "from sklearn.feature_extraction.text import TfidfVectorizer\n",
    "from sklearn.naive_bayes import MultinomialNB\n",
    "from sklearn.pipeline import make_pipeline\n",
    "import numpy as np\n",
    "pd.set_option('display.max_colwidth',1000)"
   ]
  },
  {
   "cell_type": "code",
   "execution_count": 16,
   "id": "eaaeb358",
   "metadata": {},
   "outputs": [
    {
     "data": {
      "text/html": [
       "<div>\n",
       "<style scoped>\n",
       "    .dataframe tbody tr th:only-of-type {\n",
       "        vertical-align: middle;\n",
       "    }\n",
       "\n",
       "    .dataframe tbody tr th {\n",
       "        vertical-align: top;\n",
       "    }\n",
       "\n",
       "    .dataframe thead th {\n",
       "        text-align: right;\n",
       "    }\n",
       "</style>\n",
       "<table border=\"1\" class=\"dataframe\">\n",
       "  <thead>\n",
       "    <tr style=\"text-align: right;\">\n",
       "      <th></th>\n",
       "      <th>ID</th>\n",
       "      <th>User</th>\n",
       "      <th>CREATED_AT</th>\n",
       "      <th>LABEL</th>\n",
       "      <th>stemming_words</th>\n",
       "      <th>LIKE COUNT</th>\n",
       "      <th>FOLLOWER COUNT</th>\n",
       "    </tr>\n",
       "  </thead>\n",
       "  <tbody>\n",
       "    <tr>\n",
       "      <th>1</th>\n",
       "      <td>2.0</td>\n",
       "      <td>1.42E+18</td>\n",
       "      <td>7/29/2021 2:40</td>\n",
       "      <td>Other</td>\n",
       "      <td>හාමුදුරුවරු සියලූම පූජකයන්ගේ මානසික සෞඛ්යය සොයා බැලීමේ වැඩ පිලිවලක් ඕනේ</td>\n",
       "      <td>1</td>\n",
       "      <td>1433</td>\n",
       "    </tr>\n",
       "    <tr>\n",
       "      <th>2</th>\n",
       "      <td>3.0</td>\n",
       "      <td>1.42E+18</td>\n",
       "      <td>7/27/2021 10:40</td>\n",
       "      <td>Politics</td>\n",
       "      <td>ද්විපාර්ශවික එකඟතා ජන ජීවිත සෞඛ්යය මනාව ආරක්ෂා කරමින් හැකි ඉක්මණින් ආර්ථිකය</td>\n",
       "      <td>10</td>\n",
       "      <td>13898</td>\n",
       "    </tr>\n",
       "    <tr>\n",
       "      <th>3</th>\n",
       "      <td>4.0</td>\n",
       "      <td>1.42E+18</td>\n",
       "      <td>7/25/2021 20:56</td>\n",
       "      <td>Other</td>\n",
       "      <td>කරැනාකර චින නිෂ්පාදිත එන්නත ලබාගත් පුද්ගලයන් හට යුරෝපීය රට වලට විසා නිකුත් නොකි</td>\n",
       "      <td>0</td>\n",
       "      <td>87</td>\n",
       "    </tr>\n",
       "    <tr>\n",
       "      <th>4</th>\n",
       "      <td>5.0</td>\n",
       "      <td>1.42E+18</td>\n",
       "      <td>7/25/2021 20:53</td>\n",
       "      <td>Other</td>\n",
       "      <td>කරැනාකර චින නිෂ්පාදිත එන්නත ලබාගත් පුද්ගලයන් හට යුර</td>\n",
       "      <td>0</td>\n",
       "      <td>87</td>\n",
       "    </tr>\n",
       "    <tr>\n",
       "      <th>5</th>\n",
       "      <td>6.0</td>\n",
       "      <td>1.42E+18</td>\n",
       "      <td>7/25/2021 20:52</td>\n",
       "      <td>Other</td>\n",
       "      <td>කරැනාකර චින නිෂ්පාදිත එන්නත ලබාගත් පුද්ගලයන් හට</td>\n",
       "      <td>1</td>\n",
       "      <td>87</td>\n",
       "    </tr>\n",
       "  </tbody>\n",
       "</table>\n",
       "</div>"
      ],
      "text/plain": [
       "    ID      User       CREATED_AT     LABEL  \\\n",
       "1  2.0  1.42E+18   7/29/2021 2:40     Other   \n",
       "2  3.0  1.42E+18  7/27/2021 10:40  Politics   \n",
       "3  4.0  1.42E+18  7/25/2021 20:56     Other   \n",
       "4  5.0  1.42E+18  7/25/2021 20:53     Other   \n",
       "5  6.0  1.42E+18  7/25/2021 20:52     Other   \n",
       "\n",
       "                                                                    stemming_words  \\\n",
       "1          හාමුදුරුවරු සියලූම පූජකයන්ගේ මානසික සෞඛ්යය සොයා බැලීමේ වැඩ පිලිවලක් ඕනේ   \n",
       "2      ද්විපාර්ශවික එකඟතා ජන ජීවිත සෞඛ්යය මනාව ආරක්ෂා කරමින් හැකි ඉක්මණින් ආර්ථිකය   \n",
       "3  කරැනාකර චින නිෂ්පාදිත එන්නත ලබාගත් පුද්ගලයන් හට යුරෝපීය රට වලට විසා නිකුත් නොකි   \n",
       "4                              කරැනාකර චින නිෂ්පාදිත එන්නත ලබාගත් පුද්ගලයන් හට යුර   \n",
       "5                                  කරැනාකර චින නිෂ්පාදිත එන්නත ලබාගත් පුද්ගලයන් හට   \n",
       "\n",
       "  LIKE COUNT FOLLOWER COUNT  \n",
       "1          1           1433  \n",
       "2         10          13898  \n",
       "3          0             87  \n",
       "4          0             87  \n",
       "5          1             87  "
      ]
     },
     "execution_count": 16,
     "metadata": {},
     "output_type": "execute_result"
    }
   ],
   "source": [
    "#!/usr/bin/env python\n",
    "# -*- coding:utf-8 -*-\n",
    "\n",
    "import codecs\n",
    "#data = pd.read_csv('PreprocessedData.csv', header = None, encoding='utf-8', engine='python') ## for older one \n",
    "data = pd.read_csv('FinalListPreprocessedData.csv', header = None, encoding='utf-8', engine='python')\n",
    "data.columns = ['ID','User','CREATED_AT','LABEL','stemming_words','LIKE COUNT','FOLLOWER COUNT']\n",
    "data = data.iloc[1: , :] # start from first column\n",
    "data = data.dropna()\n",
    "data.head()"
   ]
  },
  {
   "cell_type": "code",
   "execution_count": 17,
   "id": "5e9c3280",
   "metadata": {},
   "outputs": [],
   "source": [
    "data.loc[data['LABEL']=='Crime',\"LABEL\"] = 0\n",
    "data.loc[data['LABEL']=='Entertainment',\"LABEL\"] = 1\n",
    "data.loc[data['LABEL']=='Politics',\"LABEL\"] = 3\n",
    "data.loc[data['LABEL']=='Sport',\"LABEL\"] = 4\n",
    "data.loc[data['LABEL']=='Other',\"LABEL\"] = 5"
   ]
  },
  {
   "cell_type": "code",
   "execution_count": 18,
   "id": "c253cce0",
   "metadata": {},
   "outputs": [
    {
     "data": {
      "text/html": [
       "<div>\n",
       "<style scoped>\n",
       "    .dataframe tbody tr th:only-of-type {\n",
       "        vertical-align: middle;\n",
       "    }\n",
       "\n",
       "    .dataframe tbody tr th {\n",
       "        vertical-align: top;\n",
       "    }\n",
       "\n",
       "    .dataframe thead th {\n",
       "        text-align: right;\n",
       "    }\n",
       "</style>\n",
       "<table border=\"1\" class=\"dataframe\">\n",
       "  <thead>\n",
       "    <tr style=\"text-align: right;\">\n",
       "      <th></th>\n",
       "      <th>ID</th>\n",
       "      <th>User</th>\n",
       "      <th>CREATED_AT</th>\n",
       "      <th>LABEL</th>\n",
       "      <th>stemming_words</th>\n",
       "      <th>LIKE COUNT</th>\n",
       "      <th>FOLLOWER COUNT</th>\n",
       "    </tr>\n",
       "  </thead>\n",
       "  <tbody>\n",
       "    <tr>\n",
       "      <th>1</th>\n",
       "      <td>2.0</td>\n",
       "      <td>1.42E+18</td>\n",
       "      <td>7/29/2021 2:40</td>\n",
       "      <td>5</td>\n",
       "      <td>හාමුදුරුවරු සියලූම පූජකයන්ගේ මානසික සෞඛ්යය සොයා බැලීමේ වැඩ පිලිවලක් ඕනේ</td>\n",
       "      <td>1</td>\n",
       "      <td>1433</td>\n",
       "    </tr>\n",
       "    <tr>\n",
       "      <th>2</th>\n",
       "      <td>3.0</td>\n",
       "      <td>1.42E+18</td>\n",
       "      <td>7/27/2021 10:40</td>\n",
       "      <td>3</td>\n",
       "      <td>ද්විපාර්ශවික එකඟතා ජන ජීවිත සෞඛ්යය මනාව ආරක්ෂා කරමින් හැකි ඉක්මණින් ආර්ථිකය</td>\n",
       "      <td>10</td>\n",
       "      <td>13898</td>\n",
       "    </tr>\n",
       "    <tr>\n",
       "      <th>3</th>\n",
       "      <td>4.0</td>\n",
       "      <td>1.42E+18</td>\n",
       "      <td>7/25/2021 20:56</td>\n",
       "      <td>5</td>\n",
       "      <td>කරැනාකර චින නිෂ්පාදිත එන්නත ලබාගත් පුද්ගලයන් හට යුරෝපීය රට වලට විසා නිකුත් නොකි</td>\n",
       "      <td>0</td>\n",
       "      <td>87</td>\n",
       "    </tr>\n",
       "    <tr>\n",
       "      <th>4</th>\n",
       "      <td>5.0</td>\n",
       "      <td>1.42E+18</td>\n",
       "      <td>7/25/2021 20:53</td>\n",
       "      <td>5</td>\n",
       "      <td>කරැනාකර චින නිෂ්පාදිත එන්නත ලබාගත් පුද්ගලයන් හට යුර</td>\n",
       "      <td>0</td>\n",
       "      <td>87</td>\n",
       "    </tr>\n",
       "    <tr>\n",
       "      <th>5</th>\n",
       "      <td>6.0</td>\n",
       "      <td>1.42E+18</td>\n",
       "      <td>7/25/2021 20:52</td>\n",
       "      <td>5</td>\n",
       "      <td>කරැනාකර චින නිෂ්පාදිත එන්නත ලබාගත් පුද්ගලයන් හට</td>\n",
       "      <td>1</td>\n",
       "      <td>87</td>\n",
       "    </tr>\n",
       "  </tbody>\n",
       "</table>\n",
       "</div>"
      ],
      "text/plain": [
       "    ID      User       CREATED_AT LABEL  \\\n",
       "1  2.0  1.42E+18   7/29/2021 2:40     5   \n",
       "2  3.0  1.42E+18  7/27/2021 10:40     3   \n",
       "3  4.0  1.42E+18  7/25/2021 20:56     5   \n",
       "4  5.0  1.42E+18  7/25/2021 20:53     5   \n",
       "5  6.0  1.42E+18  7/25/2021 20:52     5   \n",
       "\n",
       "                                                                    stemming_words  \\\n",
       "1          හාමුදුරුවරු සියලූම පූජකයන්ගේ මානසික සෞඛ්යය සොයා බැලීමේ වැඩ පිලිවලක් ඕනේ   \n",
       "2      ද්විපාර්ශවික එකඟතා ජන ජීවිත සෞඛ්යය මනාව ආරක්ෂා කරමින් හැකි ඉක්මණින් ආර්ථිකය   \n",
       "3  කරැනාකර චින නිෂ්පාදිත එන්නත ලබාගත් පුද්ගලයන් හට යුරෝපීය රට වලට විසා නිකුත් නොකි   \n",
       "4                              කරැනාකර චින නිෂ්පාදිත එන්නත ලබාගත් පුද්ගලයන් හට යුර   \n",
       "5                                  කරැනාකර චින නිෂ්පාදිත එන්නත ලබාගත් පුද්ගලයන් හට   \n",
       "\n",
       "  LIKE COUNT FOLLOWER COUNT  \n",
       "1          1           1433  \n",
       "2         10          13898  \n",
       "3          0             87  \n",
       "4          0             87  \n",
       "5          1             87  "
      ]
     },
     "execution_count": 18,
     "metadata": {},
     "output_type": "execute_result"
    }
   ],
   "source": [
    "data.head()"
   ]
  },
  {
   "cell_type": "code",
   "execution_count": 19,
   "id": "1ab4d1fc",
   "metadata": {},
   "outputs": [
    {
     "data": {
      "text/plain": [
       "5    185\n",
       "3    130\n",
       "0    109\n",
       "4     93\n",
       "1     15\n",
       "Name: LABEL, dtype: int64"
      ]
     },
     "execution_count": 19,
     "metadata": {},
     "output_type": "execute_result"
    }
   ],
   "source": [
    "data['LABEL'].value_counts()"
   ]
  },
  {
   "cell_type": "code",
   "execution_count": 20,
   "id": "02823b6e",
   "metadata": {},
   "outputs": [],
   "source": [
    "############### Apply tfidf vectorizer ######################"
   ]
  },
  {
   "cell_type": "code",
   "execution_count": 45,
   "id": "fda5c469",
   "metadata": {},
   "outputs": [],
   "source": [
    "data_x=data[\"stemming_words\"]\n",
    "data_y=data[\"LABEL\"]\n",
    "\n",
    "cv = TfidfVectorizer(analyzer = 'word', max_features = 10000, ngram_range=(1,3))"
   ]
  },
  {
   "cell_type": "code",
   "execution_count": 46,
   "id": "8581dc56",
   "metadata": {},
   "outputs": [],
   "source": [
    "from sklearn.model_selection import train_test_split\n",
    "x_train, x_test, y_train, y_test = train_test_split(data_x, data_y, test_size=0.2, random_state=42)"
   ]
  },
  {
   "cell_type": "code",
   "execution_count": 47,
   "id": "01fe1ee8",
   "metadata": {},
   "outputs": [],
   "source": [
    "x_traincv=cv.fit_transform(x_train)"
   ]
  },
  {
   "cell_type": "code",
   "execution_count": 48,
   "id": "eb82dc22",
   "metadata": {},
   "outputs": [
    {
     "data": {
      "text/plain": [
       "array([[0.        , 0.        , 0.        , ..., 0.        , 0.        ,\n",
       "        0.        ],\n",
       "       [0.        , 0.        , 0.        , ..., 0.        , 0.        ,\n",
       "        0.        ],\n",
       "       [0.        , 0.        , 0.        , ..., 0.        , 0.        ,\n",
       "        0.        ],\n",
       "       ...,\n",
       "       [0.        , 0.        , 0.        , ..., 0.        , 0.        ,\n",
       "        0.        ],\n",
       "       [0.68112667, 0.        , 0.        , ..., 0.        , 0.        ,\n",
       "        0.        ],\n",
       "       [0.        , 0.        , 0.        , ..., 0.        , 0.        ,\n",
       "        0.        ]])"
      ]
     },
     "execution_count": 48,
     "metadata": {},
     "output_type": "execute_result"
    }
   ],
   "source": [
    "a = x_traincv.toarray()\n",
    "a"
   ]
  },
  {
   "cell_type": "code",
   "execution_count": 49,
   "id": "d570cc41",
   "metadata": {},
   "outputs": [
    {
     "data": {
      "text/plain": [
       "9518"
      ]
     },
     "execution_count": 49,
     "metadata": {},
     "output_type": "execute_result"
    }
   ],
   "source": [
    "len(a[0])"
   ]
  },
  {
   "cell_type": "code",
   "execution_count": 50,
   "id": "c7656e49",
   "metadata": {},
   "outputs": [],
   "source": [
    "###########  MultiNomial Naive bayes ############"
   ]
  },
  {
   "cell_type": "code",
   "execution_count": 51,
   "id": "94391688",
   "metadata": {},
   "outputs": [
    {
     "data": {
      "text/plain": [
       "MultinomialNB()"
      ]
     },
     "execution_count": 51,
     "metadata": {},
     "output_type": "execute_result"
    }
   ],
   "source": [
    "mnb = MultinomialNB()\n",
    "y_train = y_train.astype('int')\n",
    "mnb.fit(x_traincv,y_train)"
   ]
  },
  {
   "cell_type": "code",
   "execution_count": 52,
   "id": "45441ff0",
   "metadata": {},
   "outputs": [
    {
     "data": {
      "text/plain": [
       "array([5, 0, 4, 0, 5, 3, 0, 5, 3, 4, 0, 5, 5, 5, 4, 0, 5, 5, 3, 5, 5, 5,\n",
       "       5, 5, 5, 5, 4, 5, 0, 5, 5, 5, 3, 5, 5, 0, 0, 3, 5, 5, 3, 4, 5, 5,\n",
       "       5, 5, 5, 5, 5, 5, 3, 5, 5, 5, 5, 0, 5, 5, 3, 0, 5, 5, 0, 5, 5, 5,\n",
       "       5, 5, 5, 3, 3, 4, 4, 5, 5, 5, 3, 5, 5, 3, 5, 5, 5, 3, 5, 5, 3, 5,\n",
       "       3, 3, 3, 3, 5, 3, 4, 5, 5, 5, 0, 5, 4, 5, 3, 3, 0, 0, 5])"
      ]
     },
     "execution_count": 52,
     "metadata": {},
     "output_type": "execute_result"
    }
   ],
   "source": [
    "x_testcv=cv.transform(x_test)\n",
    "prediction = mnb.predict(x_testcv)\n",
    "prediction"
   ]
  },
  {
   "cell_type": "code",
   "execution_count": 53,
   "id": "b8780972",
   "metadata": {},
   "outputs": [
    {
     "data": {
      "text/plain": [
       "array([5, 0, 4, 0, 5, 3, 0, 5, 5, 4, 0, 5, 4, 5, 1, 0, 5, 5, 0, 5, 3, 5,\n",
       "       3, 4, 5, 5, 4, 5, 0, 5, 5, 5, 5, 5, 4, 0, 0, 3, 4, 4, 3, 4, 5, 4,\n",
       "       3, 5, 0, 0, 3, 5, 3, 5, 5, 3, 4, 0, 4, 3, 3, 0, 5, 5, 0, 5, 4, 5,\n",
       "       5, 4, 3, 3, 3, 1, 1, 4, 5, 5, 4, 5, 4, 3, 5, 5, 5, 5, 4, 5, 3, 5,\n",
       "       3, 3, 0, 3, 5, 3, 4, 5, 4, 5, 0, 1, 4, 5, 3, 3, 0, 0, 5],\n",
       "      dtype=object)"
      ]
     },
     "execution_count": 53,
     "metadata": {},
     "output_type": "execute_result"
    }
   ],
   "source": [
    "actual = np.array(y_test)\n",
    "actual"
   ]
  },
  {
   "cell_type": "code",
   "execution_count": 54,
   "id": "efa02cb9",
   "metadata": {},
   "outputs": [],
   "source": [
    "count = 0\n",
    "for i in range (len(prediction)):\n",
    "    if prediction[i] == actual[i]:\n",
    "        count = count +1"
   ]
  },
  {
   "cell_type": "code",
   "execution_count": 55,
   "id": "5bc17be8",
   "metadata": {},
   "outputs": [
    {
     "data": {
      "text/plain": [
       "74"
      ]
     },
     "execution_count": 55,
     "metadata": {},
     "output_type": "execute_result"
    }
   ],
   "source": [
    "count #correct prediction"
   ]
  },
  {
   "cell_type": "code",
   "execution_count": 56,
   "id": "6b68b708",
   "metadata": {},
   "outputs": [
    {
     "data": {
      "text/plain": [
       "107"
      ]
     },
     "execution_count": 56,
     "metadata": {},
     "output_type": "execute_result"
    }
   ],
   "source": [
    "len(prediction) #total prediction"
   ]
  },
  {
   "cell_type": "code",
   "execution_count": null,
   "id": "065dfa33",
   "metadata": {},
   "outputs": [],
   "source": [
    "67/107 ###### probbility"
   ]
  },
  {
   "cell_type": "code",
   "execution_count": null,
   "id": "d590d158",
   "metadata": {},
   "outputs": [],
   "source": []
  }
 ],
 "metadata": {
  "kernelspec": {
   "display_name": "Python 3",
   "language": "python",
   "name": "python3"
  },
  "language_info": {
   "codemirror_mode": {
    "name": "ipython",
    "version": 3
   },
   "file_extension": ".py",
   "mimetype": "text/x-python",
   "name": "python",
   "nbconvert_exporter": "python",
   "pygments_lexer": "ipython3",
   "version": "3.7.0"
  }
 },
 "nbformat": 4,
 "nbformat_minor": 5
}
