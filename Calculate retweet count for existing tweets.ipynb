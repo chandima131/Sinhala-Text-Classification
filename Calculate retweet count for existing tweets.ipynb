{
 "cells": [
  {
   "cell_type": "code",
   "execution_count": null,
   "id": "efc7c72e",
   "metadata": {},
   "outputs": [],
   "source": []
  },
  {
   "cell_type": "code",
   "execution_count": 8,
   "id": "59174bc2",
   "metadata": {},
   "outputs": [
    {
     "name": "stdout",
     "output_type": "stream",
     "text": [
      "0\n"
     ]
    }
   ],
   "source": [
    "import tweepy\n",
    "  \n",
    "# assign the values accordingly\n",
    "consumer_key = \"WIbMrSSW0BUeUx7aY1fcdaS4h\"\n",
    "consumer_secret = \"mRUi2zN6dMIjIJF5XicHPAGMSN3kKjxWlVv8NrOoCmzteU3T4S\"\n",
    "access_token = \"1349380034700533764-mPojYykP7Cmk5SeKfJbN8O1RG7hVFx\"\n",
    "access_token_secret = \"FK1p1wqbzP8Hkj3ZsnOkPXs47lum9QTT6tAAyCiyTwmUt\"\n",
    "  \n",
    "# authorization of consumer key and consumer secret\n",
    "auth = tweepy.OAuthHandler(consumer_key, consumer_secret)\n",
    "  \n",
    "# set access to user's access key and access secret \n",
    "auth.set_access_token(access_token, access_token_secret)\n",
    "  \n",
    "# calling the api \n",
    "api = tweepy.API(auth)\n",
    "  \n",
    "# the ID of the tweet\n",
    "ID = 1436186550623113218 \n",
    "\n",
    "# printing the screen names of the retweeters\n",
    "print(len(api.retweets(ID)))"
   ]
  },
  {
   "cell_type": "code",
   "execution_count": null,
   "id": "1c81373d",
   "metadata": {},
   "outputs": [],
   "source": []
  }
 ],
 "metadata": {
  "kernelspec": {
   "display_name": "Python 3",
   "language": "python",
   "name": "python3"
  },
  "language_info": {
   "codemirror_mode": {
    "name": "ipython",
    "version": 3
   },
   "file_extension": ".py",
   "mimetype": "text/x-python",
   "name": "python",
   "nbconvert_exporter": "python",
   "pygments_lexer": "ipython3",
   "version": "3.7.0"
  }
 },
 "nbformat": 4,
 "nbformat_minor": 5
}
