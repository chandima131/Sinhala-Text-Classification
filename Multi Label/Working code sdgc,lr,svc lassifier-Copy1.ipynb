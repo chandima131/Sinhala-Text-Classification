{
 "cells": [
  {
   "cell_type": "code",
   "execution_count": 1,
   "id": "acacc507",
   "metadata": {},
   "outputs": [],
   "source": [
    "import os\n",
    "import csv\n",
    "import pandas as pd\n",
    "import numpy as np\n",
    "import matplotlib.pyplot as plt\n",
    "import seaborn as sns\n",
    "\n",
    "# coding=utf-8\n",
    "import tweepy\n",
    "import re\n",
    "import string\n",
    "import nltk\n",
    "from nltk import FreqDist\n",
    "from nltk.tokenize import word_tokenize\n",
    "from sklearn.feature_extraction.text import TfidfVectorizer\n",
    "from sklearn.naive_bayes import MultinomialNB\n",
    "pd.set_option('display.max_colwidth',1000)"
   ]
  },
  {
   "cell_type": "code",
   "execution_count": 2,
   "id": "c3b72051",
   "metadata": {},
   "outputs": [],
   "source": [
    "from IPython.display import Markdown, display\n",
    "def printmd(string):\n",
    "    display(Markdown(string))\n",
    "#printmd('**bold**')"
   ]
  },
  {
   "cell_type": "code",
   "execution_count": 3,
   "id": "f8033c14",
   "metadata": {},
   "outputs": [],
   "source": [
    "df = pd.read_csv(\"FinalListPreprocessedData.csv\",encoding='utf-8', engine='python')\n",
    "df = df.dropna()"
   ]
  },
  {
   "cell_type": "code",
   "execution_count": 4,
   "id": "1743a828",
   "metadata": {},
   "outputs": [
    {
     "data": {
      "text/html": [
       "<div>\n",
       "<style scoped>\n",
       "    .dataframe tbody tr th:only-of-type {\n",
       "        vertical-align: middle;\n",
       "    }\n",
       "\n",
       "    .dataframe tbody tr th {\n",
       "        vertical-align: top;\n",
       "    }\n",
       "\n",
       "    .dataframe thead th {\n",
       "        text-align: right;\n",
       "    }\n",
       "</style>\n",
       "<table border=\"1\" class=\"dataframe\">\n",
       "  <thead>\n",
       "    <tr style=\"text-align: right;\">\n",
       "      <th></th>\n",
       "      <th>Unnamed: 0</th>\n",
       "      <th>User</th>\n",
       "      <th>CREATED_AT</th>\n",
       "      <th>LABEL</th>\n",
       "      <th>stemming_words</th>\n",
       "      <th>LIKE COUNT</th>\n",
       "      <th>FOLLOWERS COUNT</th>\n",
       "    </tr>\n",
       "  </thead>\n",
       "  <tbody>\n",
       "    <tr>\n",
       "      <th>0</th>\n",
       "      <td>2</td>\n",
       "      <td>1.420000e+18</td>\n",
       "      <td>7/29/2021 2:40</td>\n",
       "      <td>Other</td>\n",
       "      <td>හාමුදුරුවරු සියලූම පූජකයන්ගේ මානසික සෞඛ්යය සොයා බැලීමේ වැඩ පිලිවලක් ඕනේ</td>\n",
       "      <td>1</td>\n",
       "      <td>1433</td>\n",
       "    </tr>\n",
       "    <tr>\n",
       "      <th>1</th>\n",
       "      <td>3</td>\n",
       "      <td>1.420000e+18</td>\n",
       "      <td>7/27/2021 10:40</td>\n",
       "      <td>Politics</td>\n",
       "      <td>ද්විපාර්ශවික එකඟතා ජන ජීවිත සෞඛ්යය මනාව ආරක්ෂා කරමින් හැකි ඉක්මණින් ආර්ථිකය</td>\n",
       "      <td>10</td>\n",
       "      <td>13898</td>\n",
       "    </tr>\n",
       "    <tr>\n",
       "      <th>2</th>\n",
       "      <td>4</td>\n",
       "      <td>1.420000e+18</td>\n",
       "      <td>7/25/2021 20:56</td>\n",
       "      <td>Other</td>\n",
       "      <td>කරැනාකර චින නිෂ්පාදිත එන්නත ලබාගත් පුද්ගලයන් හට යුරෝපීය රට වලට විසා නිකුත් නොකි</td>\n",
       "      <td>0</td>\n",
       "      <td>87</td>\n",
       "    </tr>\n",
       "    <tr>\n",
       "      <th>3</th>\n",
       "      <td>5</td>\n",
       "      <td>1.420000e+18</td>\n",
       "      <td>7/25/2021 20:53</td>\n",
       "      <td>Other</td>\n",
       "      <td>කරැනාකර චින නිෂ්පාදිත එන්නත ලබාගත් පුද්ගලයන් හට යුර</td>\n",
       "      <td>0</td>\n",
       "      <td>87</td>\n",
       "    </tr>\n",
       "    <tr>\n",
       "      <th>4</th>\n",
       "      <td>6</td>\n",
       "      <td>1.420000e+18</td>\n",
       "      <td>7/25/2021 20:52</td>\n",
       "      <td>Other</td>\n",
       "      <td>කරැනාකර චින නිෂ්පාදිත එන්නත ලබාගත් පුද්ගලයන් හට</td>\n",
       "      <td>1</td>\n",
       "      <td>87</td>\n",
       "    </tr>\n",
       "  </tbody>\n",
       "</table>\n",
       "</div>"
      ],
      "text/plain": [
       "   Unnamed: 0          User       CREATED_AT     LABEL  \\\n",
       "0           2  1.420000e+18   7/29/2021 2:40     Other   \n",
       "1           3  1.420000e+18  7/27/2021 10:40  Politics   \n",
       "2           4  1.420000e+18  7/25/2021 20:56     Other   \n",
       "3           5  1.420000e+18  7/25/2021 20:53     Other   \n",
       "4           6  1.420000e+18  7/25/2021 20:52     Other   \n",
       "\n",
       "                                                                    stemming_words  \\\n",
       "0          හාමුදුරුවරු සියලූම පූජකයන්ගේ මානසික සෞඛ්යය සොයා බැලීමේ වැඩ පිලිවලක් ඕනේ   \n",
       "1      ද්විපාර්ශවික එකඟතා ජන ජීවිත සෞඛ්යය මනාව ආරක්ෂා කරමින් හැකි ඉක්මණින් ආර්ථිකය   \n",
       "2  කරැනාකර චින නිෂ්පාදිත එන්නත ලබාගත් පුද්ගලයන් හට යුරෝපීය රට වලට විසා නිකුත් නොකි   \n",
       "3                              කරැනාකර චින නිෂ්පාදිත එන්නත ලබාගත් පුද්ගලයන් හට යුර   \n",
       "4                                  කරැනාකර චින නිෂ්පාදිත එන්නත ලබාගත් පුද්ගලයන් හට   \n",
       "\n",
       "   LIKE COUNT  FOLLOWERS COUNT  \n",
       "0           1             1433  \n",
       "1          10            13898  \n",
       "2           0               87  \n",
       "3           0               87  \n",
       "4           1               87  "
      ]
     },
     "execution_count": 4,
     "metadata": {},
     "output_type": "execute_result"
    }
   ],
   "source": [
    "df.head()"
   ]
  },
  {
   "cell_type": "code",
   "execution_count": 45,
   "id": "c0062756",
   "metadata": {},
   "outputs": [],
   "source": [
    "import ast\n",
    "import json"
   ]
  },
  {
   "cell_type": "code",
   "execution_count": 46,
   "id": "d094da49",
   "metadata": {},
   "outputs": [
    {
     "data": {
      "text/plain": [
       "\"['Crime','Politics']\""
      ]
     },
     "execution_count": 46,
     "metadata": {},
     "output_type": "execute_result"
    }
   ],
   "source": [
    "df['LABEL'].iloc[0]"
   ]
  },
  {
   "cell_type": "code",
   "execution_count": 47,
   "id": "ff3c4e6f",
   "metadata": {},
   "outputs": [
    {
     "data": {
      "text/plain": [
       "['Crime', 'Politics']"
      ]
     },
     "execution_count": 47,
     "metadata": {},
     "output_type": "execute_result"
    }
   ],
   "source": [
    "ast.literal_eval(df['LABEL'].iloc[0])"
   ]
  },
  {
   "cell_type": "code",
   "execution_count": 8,
   "id": "ccb8546d",
   "metadata": {},
   "outputs": [],
   "source": [
    "#convert all form of data into the list\n",
    "\n",
    "df['LABEL'] = df['LABEL'].apply(lambda x: ast.literal_eval(x))\n",
    "                                 "
   ]
  },
  {
   "cell_type": "code",
   "execution_count": 9,
   "id": "24e8840b",
   "metadata": {},
   "outputs": [
    {
     "data": {
      "text/html": [
       "<div>\n",
       "<style scoped>\n",
       "    .dataframe tbody tr th:only-of-type {\n",
       "        vertical-align: middle;\n",
       "    }\n",
       "\n",
       "    .dataframe tbody tr th {\n",
       "        vertical-align: top;\n",
       "    }\n",
       "\n",
       "    .dataframe thead th {\n",
       "        text-align: right;\n",
       "    }\n",
       "</style>\n",
       "<table border=\"1\" class=\"dataframe\">\n",
       "  <thead>\n",
       "    <tr style=\"text-align: right;\">\n",
       "      <th></th>\n",
       "      <th>ID</th>\n",
       "      <th>User</th>\n",
       "      <th>CREATED_AT</th>\n",
       "      <th>LABEL</th>\n",
       "      <th>stemming_words</th>\n",
       "    </tr>\n",
       "  </thead>\n",
       "  <tbody>\n",
       "    <tr>\n",
       "      <th>0</th>\n",
       "      <td>2</td>\n",
       "      <td>1.410000e+18</td>\n",
       "      <td>7/11/2021 9:59</td>\n",
       "      <td>[Crime, Politics]</td>\n",
       "      <td>අන්තර්ජාල ඔස්සේ අළෙවි වූ බාලවයස්කාර දැරිය අපයෝජන කිරීමේ සිද්ධිය සම්බන්ධ පොලිස් ක්රීඩා කොට්ඨාසයේ උප පොලිස් පරීක්ෂකවරයකු රජයේ ප්රධාන පෙළේ බැංකුවක හිටපු කළමණාකාරවරයකු ළමා කාන්තා කාර්යාංශ අද අත්අඩංගුව ගනු ලැබ තිබේ</td>\n",
       "    </tr>\n",
       "    <tr>\n",
       "      <th>1</th>\n",
       "      <td>4</td>\n",
       "      <td>1.410000e+18</td>\n",
       "      <td>7/11/2021 9:14</td>\n",
       "      <td>[Sport]</td>\n",
       "      <td>ක්රීඩා අමාත්යාංශයෙන් බොක්සිං මිලියන</td>\n",
       "    </tr>\n",
       "    <tr>\n",
       "      <th>2</th>\n",
       "      <td>6</td>\n",
       "      <td>1.410000e+18</td>\n",
       "      <td>7/11/2021 9:13</td>\n",
       "      <td>[Sport]</td>\n",
       "      <td>මේසපන්දුව දියුණු කරන්නට ක්රීඩා අමාත්යංශය ගිවිසුම්ගත වෙයි</td>\n",
       "    </tr>\n",
       "    <tr>\n",
       "      <th>3</th>\n",
       "      <td>8</td>\n",
       "      <td>1.410000e+18</td>\n",
       "      <td>7/11/2021 6:39</td>\n",
       "      <td>[Sport, Other]</td>\n",
       "      <td>පී සරවනමුත්තු කුසලා අන්තර්සමාජ පළමු ඛාණ්ඩ ශූරයන් වූ සිංහල ක්රීඩා සමාජ පිල ශ්රී ලංකව විවිධ අවධි වල නියෝජන කල ක්රීඩකයන් රැසක් සිටින එවක ශ්රී ලංකා නායක අර්ජුන රණතුංග සාමාන් ක්රීඩකයෙක් වසරේදී ක්රීඩා සමාජයට ක්රීඩා කර ඇත</td>\n",
       "    </tr>\n",
       "    <tr>\n",
       "      <th>4</th>\n",
       "      <td>10</td>\n",
       "      <td>1.410000e+18</td>\n",
       "      <td>7/11/2021 6:11</td>\n",
       "      <td>[Politics]</td>\n",
       "      <td>ක්රීඩා ඇමැතිතුමා තවම හරි අය හරි තැන්වල දාගෙන සුනිල ගුණවර්ධන</td>\n",
       "    </tr>\n",
       "  </tbody>\n",
       "</table>\n",
       "</div>"
      ],
      "text/plain": [
       "   ID          User      CREATED_AT              LABEL  \\\n",
       "0   2  1.410000e+18  7/11/2021 9:59  [Crime, Politics]   \n",
       "1   4  1.410000e+18  7/11/2021 9:14            [Sport]   \n",
       "2   6  1.410000e+18  7/11/2021 9:13            [Sport]   \n",
       "3   8  1.410000e+18  7/11/2021 6:39     [Sport, Other]   \n",
       "4  10  1.410000e+18  7/11/2021 6:11         [Politics]   \n",
       "\n",
       "                                                                                                                                                                                                           stemming_words  \n",
       "0       අන්තර්ජාල ඔස්සේ අළෙවි වූ බාලවයස්කාර දැරිය අපයෝජන කිරීමේ සිද්ධිය සම්බන්ධ පොලිස් ක්රීඩා කොට්ඨාසයේ උප පොලිස් පරීක්ෂකවරයකු රජයේ ප්රධාන පෙළේ බැංකුවක හිටපු කළමණාකාරවරයකු ළමා කාන්තා කාර්යාංශ අද අත්අඩංගුව ගනු ලැබ තිබේ  \n",
       "1                                                                                                                                                                                     ක්රීඩා අමාත්යාංශයෙන් බොක්සිං මිලියන  \n",
       "2                                                                                                                                                                මේසපන්දුව දියුණු කරන්නට ක්රීඩා අමාත්යංශය ගිවිසුම්ගත වෙයි  \n",
       "3  පී සරවනමුත්තු කුසලා අන්තර්සමාජ පළමු ඛාණ්ඩ ශූරයන් වූ සිංහල ක්රීඩා සමාජ පිල ශ්රී ලංකව විවිධ අවධි වල නියෝජන කල ක්රීඩකයන් රැසක් සිටින එවක ශ්රී ලංකා නායක අර්ජුන රණතුංග සාමාන් ක්රීඩකයෙක් වසරේදී ක්රීඩා සමාජයට ක්රීඩා කර ඇත  \n",
       "4                                                                                                                                                             ක්රීඩා ඇමැතිතුමා තවම හරි අය හරි තැන්වල දාගෙන සුනිල ගුණවර්ධන  "
      ]
     },
     "execution_count": 9,
     "metadata": {},
     "output_type": "execute_result"
    }
   ],
   "source": [
    "df.head()"
   ]
  },
  {
   "cell_type": "code",
   "execution_count": 10,
   "id": "2895c9c5",
   "metadata": {},
   "outputs": [],
   "source": [
    "#apply onehot encoding\n",
    "\n",
    "from sklearn.feature_extraction.text import TfidfVectorizer\n",
    "from sklearn.preprocessing import MultiLabelBinarizer\n",
    "from sklearn.model_selection import train_test_split\n",
    "\n",
    "from sklearn.linear_model import SGDClassifier\n",
    "from sklearn.linear_model import LogisticRegression\n",
    "from sklearn.svm import LinearSVC\n",
    "from skmultilearn.adapt import MLkNN\n",
    "\n",
    "\n",
    "from sklearn.multiclass import OneVsRestClassifier"
   ]
  },
  {
   "cell_type": "code",
   "execution_count": 11,
   "id": "bfb6790b",
   "metadata": {},
   "outputs": [
    {
     "data": {
      "text/plain": [
       "0    [Crime, Politics]\n",
       "1              [Sport]\n",
       "2              [Sport]\n",
       "3       [Sport, Other]\n",
       "4           [Politics]\n",
       "5      [Entertainment]\n",
       "6              [Sport]\n",
       "7              [Other]\n",
       "Name: LABEL, dtype: object"
      ]
     },
     "execution_count": 11,
     "metadata": {},
     "output_type": "execute_result"
    }
   ],
   "source": [
    "y = df['LABEL']\n",
    "y"
   ]
  },
  {
   "cell_type": "code",
   "execution_count": 12,
   "id": "71c7e2a5",
   "metadata": {},
   "outputs": [],
   "source": [
    "multilabel = MultiLabelBinarizer()"
   ]
  },
  {
   "cell_type": "code",
   "execution_count": 13,
   "id": "af4bd834",
   "metadata": {},
   "outputs": [],
   "source": [
    "y = multilabel.fit_transform(df['LABEL'])  "
   ]
  },
  {
   "cell_type": "code",
   "execution_count": 14,
   "id": "36f1a6e3",
   "metadata": {},
   "outputs": [
    {
     "data": {
      "text/plain": [
       "array([[1, 0, 0, 1, 0],\n",
       "       [0, 0, 0, 0, 1],\n",
       "       [0, 0, 0, 0, 1],\n",
       "       [0, 0, 1, 0, 1],\n",
       "       [0, 0, 0, 1, 0],\n",
       "       [0, 1, 0, 0, 0],\n",
       "       [0, 0, 0, 0, 1],\n",
       "       [0, 0, 1, 0, 0]])"
      ]
     },
     "execution_count": 14,
     "metadata": {},
     "output_type": "execute_result"
    }
   ],
   "source": [
    "y"
   ]
  },
  {
   "cell_type": "code",
   "execution_count": 15,
   "id": "a01847b5",
   "metadata": {},
   "outputs": [
    {
     "data": {
      "text/plain": [
       "array(['Crime', 'Entertainment', 'Other', 'Politics', 'Sport'],\n",
       "      dtype=object)"
      ]
     },
     "execution_count": 15,
     "metadata": {},
     "output_type": "execute_result"
    }
   ],
   "source": [
    "multilabel.classes_"
   ]
  },
  {
   "cell_type": "code",
   "execution_count": 16,
   "id": "076468b8",
   "metadata": {
    "scrolled": true
   },
   "outputs": [
    {
     "data": {
      "text/html": [
       "<div>\n",
       "<style scoped>\n",
       "    .dataframe tbody tr th:only-of-type {\n",
       "        vertical-align: middle;\n",
       "    }\n",
       "\n",
       "    .dataframe tbody tr th {\n",
       "        vertical-align: top;\n",
       "    }\n",
       "\n",
       "    .dataframe thead th {\n",
       "        text-align: right;\n",
       "    }\n",
       "</style>\n",
       "<table border=\"1\" class=\"dataframe\">\n",
       "  <thead>\n",
       "    <tr style=\"text-align: right;\">\n",
       "      <th></th>\n",
       "      <th>Crime</th>\n",
       "      <th>Entertainment</th>\n",
       "      <th>Other</th>\n",
       "      <th>Politics</th>\n",
       "      <th>Sport</th>\n",
       "    </tr>\n",
       "  </thead>\n",
       "  <tbody>\n",
       "    <tr>\n",
       "      <th>0</th>\n",
       "      <td>1</td>\n",
       "      <td>0</td>\n",
       "      <td>0</td>\n",
       "      <td>1</td>\n",
       "      <td>0</td>\n",
       "    </tr>\n",
       "    <tr>\n",
       "      <th>1</th>\n",
       "      <td>0</td>\n",
       "      <td>0</td>\n",
       "      <td>0</td>\n",
       "      <td>0</td>\n",
       "      <td>1</td>\n",
       "    </tr>\n",
       "    <tr>\n",
       "      <th>2</th>\n",
       "      <td>0</td>\n",
       "      <td>0</td>\n",
       "      <td>0</td>\n",
       "      <td>0</td>\n",
       "      <td>1</td>\n",
       "    </tr>\n",
       "    <tr>\n",
       "      <th>3</th>\n",
       "      <td>0</td>\n",
       "      <td>0</td>\n",
       "      <td>1</td>\n",
       "      <td>0</td>\n",
       "      <td>1</td>\n",
       "    </tr>\n",
       "    <tr>\n",
       "      <th>4</th>\n",
       "      <td>0</td>\n",
       "      <td>0</td>\n",
       "      <td>0</td>\n",
       "      <td>1</td>\n",
       "      <td>0</td>\n",
       "    </tr>\n",
       "    <tr>\n",
       "      <th>5</th>\n",
       "      <td>0</td>\n",
       "      <td>1</td>\n",
       "      <td>0</td>\n",
       "      <td>0</td>\n",
       "      <td>0</td>\n",
       "    </tr>\n",
       "    <tr>\n",
       "      <th>6</th>\n",
       "      <td>0</td>\n",
       "      <td>0</td>\n",
       "      <td>0</td>\n",
       "      <td>0</td>\n",
       "      <td>1</td>\n",
       "    </tr>\n",
       "    <tr>\n",
       "      <th>7</th>\n",
       "      <td>0</td>\n",
       "      <td>0</td>\n",
       "      <td>1</td>\n",
       "      <td>0</td>\n",
       "      <td>0</td>\n",
       "    </tr>\n",
       "  </tbody>\n",
       "</table>\n",
       "</div>"
      ],
      "text/plain": [
       "   Crime  Entertainment  Other  Politics  Sport\n",
       "0      1              0      0         1      0\n",
       "1      0              0      0         0      1\n",
       "2      0              0      0         0      1\n",
       "3      0              0      1         0      1\n",
       "4      0              0      0         1      0\n",
       "5      0              1      0         0      0\n",
       "6      0              0      0         0      1\n",
       "7      0              0      1         0      0"
      ]
     },
     "execution_count": 16,
     "metadata": {},
     "output_type": "execute_result"
    }
   ],
   "source": [
    "pd.DataFrame(y, columns= multilabel.classes_)"
   ]
  },
  {
   "cell_type": "code",
   "execution_count": 17,
   "id": "fc55457f",
   "metadata": {},
   "outputs": [],
   "source": [
    "#TFIDF Vectorizer\n",
    "\n",
    "tfidf = TfidfVectorizer(analyzer = 'word', max_features = 10000, ngram_range=(1,2))\n",
    "X = tfidf.fit_transform(df['stemming_words'])"
   ]
  },
  {
   "cell_type": "code",
   "execution_count": 18,
   "id": "ea153871",
   "metadata": {},
   "outputs": [
    {
     "data": {
      "text/plain": [
       "<8x169 sparse matrix of type '<class 'numpy.float64'>'\n",
       "\twith 187 stored elements in Compressed Sparse Row format>"
      ]
     },
     "execution_count": 18,
     "metadata": {},
     "output_type": "execute_result"
    }
   ],
   "source": [
    "X"
   ]
  },
  {
   "cell_type": "code",
   "execution_count": 19,
   "id": "3e6641c8",
   "metadata": {},
   "outputs": [],
   "source": [
    "#tfidf.vocabulary_"
   ]
  },
  {
   "cell_type": "code",
   "execution_count": 20,
   "id": "32428d62",
   "metadata": {},
   "outputs": [
    {
     "data": {
      "text/plain": [
       "((8, 169), (8, 5))"
      ]
     },
     "execution_count": 20,
     "metadata": {},
     "output_type": "execute_result"
    }
   ],
   "source": [
    "X.shape, y.shape"
   ]
  },
  {
   "cell_type": "code",
   "execution_count": 21,
   "id": "b53fc1cf",
   "metadata": {},
   "outputs": [],
   "source": [
    "X_train, X_test, y_train, y_test = train_test_split(X,y, test_size = 0.2, random_state = 0)"
   ]
  },
  {
   "cell_type": "markdown",
   "id": "43bf9d49",
   "metadata": {},
   "source": [
    "# Build Model"
   ]
  },
  {
   "cell_type": "code",
   "execution_count": 22,
   "id": "2c7b1f14",
   "metadata": {},
   "outputs": [],
   "source": [
    "sgd = SGDClassifier()\n",
    "lr = LogisticRegression(solver ='lbfgs')\n",
    "svc = LinearSVC()\n"
   ]
  },
  {
   "cell_type": "code",
   "execution_count": 23,
   "id": "048f3aff",
   "metadata": {},
   "outputs": [],
   "source": [
    "def j_score(y_true, y_pred):\n",
    "    jaccard = np.minimum(y_true, y_pred).sum(axis = 1)/np.maximum(y_true, y_pred).sum(axis = 1)\n",
    "    return jaccard.mean()*100\n",
    "\n",
    "def print_score(y_pred, clf):\n",
    "    print(\"clf\", clf.__class__.__name__)\n",
    "    print('Jaccard score:{}'.format(j_score(y_test, y_pred)))\n",
    "    print('---')   \n",
    "                                "
   ]
  },
  {
   "cell_type": "code",
   "execution_count": 24,
   "id": "04a11cf6",
   "metadata": {},
   "outputs": [
    {
     "name": "stdout",
     "output_type": "stream",
     "text": [
      "clf SGDClassifier\n",
      "Jaccard score:75.0\n",
      "---\n",
      "clf LogisticRegression\n",
      "Jaccard score:0.0\n",
      "---\n",
      "clf LinearSVC\n",
      "Jaccard score:0.0\n",
      "---\n"
     ]
    }
   ],
   "source": [
    "for classifier in [sgd, lr, svc]:\n",
    "    clf = OneVsRestClassifier(classifier)\n",
    "    clf.fit(X_train, y_train)\n",
    "    y_pred = clf.predict(X_test)\n",
    "    print_score(y_pred, classifier)"
   ]
  },
  {
   "cell_type": "markdown",
   "id": "3bf10611",
   "metadata": {},
   "source": [
    "# Model Test with Real Data"
   ]
  },
  {
   "cell_type": "code",
   "execution_count": 25,
   "id": "152c7f89",
   "metadata": {},
   "outputs": [],
   "source": [
    " x = ['ටෝකියෝ පැරාලිම්පික් ක්රීඩා උළෙලේදී රටට කීර්තිය ගෙන දුන් ක්රීඩකයන් කටුනායක ගුවන්තොටුප පරිශ්රය උණුසුම පිළිගැනීම']"
   ]
  },
  {
   "cell_type": "code",
   "execution_count": 27,
   "id": "4aaf62a4",
   "metadata": {},
   "outputs": [],
   "source": [
    "xt = tfidf.transform(x)"
   ]
  },
  {
   "cell_type": "code",
   "execution_count": 29,
   "id": "a8a9b6ce",
   "metadata": {},
   "outputs": [
    {
     "data": {
      "text/plain": [
       "array([[0, 0, 0, 0, 0]])"
      ]
     },
     "execution_count": 29,
     "metadata": {},
     "output_type": "execute_result"
    }
   ],
   "source": [
    "clf.predict(xt)"
   ]
  },
  {
   "cell_type": "code",
   "execution_count": 30,
   "id": "7cf4f933",
   "metadata": {},
   "outputs": [
    {
     "data": {
      "text/plain": [
       "[()]"
      ]
     },
     "execution_count": 30,
     "metadata": {},
     "output_type": "execute_result"
    }
   ],
   "source": [
    "multilabel.inverse_transform(clf.predict(xt)) "
   ]
  },
  {
   "cell_type": "code",
   "execution_count": null,
   "id": "f8b3fe30",
   "metadata": {},
   "outputs": [],
   "source": [
    "from skmultilearn.adapt import MLkNN\n",
    "\n"
   ]
  },
  {
   "cell_type": "code",
   "execution_count": null,
   "id": "38b350c6",
   "metadata": {},
   "outputs": [],
   "source": []
  },
  {
   "cell_type": "code",
   "execution_count": null,
   "id": "c63b54e4",
   "metadata": {},
   "outputs": [],
   "source": []
  },
  {
   "cell_type": "code",
   "execution_count": null,
   "id": "601112c2",
   "metadata": {},
   "outputs": [],
   "source": []
  }
 ],
 "metadata": {
  "kernelspec": {
   "display_name": "Python 3",
   "language": "python",
   "name": "python3"
  },
  "language_info": {
   "codemirror_mode": {
    "name": "ipython",
    "version": 3
   },
   "file_extension": ".py",
   "mimetype": "text/x-python",
   "name": "python",
   "nbconvert_exporter": "python",
   "pygments_lexer": "ipython3",
   "version": "3.7.0"
  }
 },
 "nbformat": 4,
 "nbformat_minor": 5
}
