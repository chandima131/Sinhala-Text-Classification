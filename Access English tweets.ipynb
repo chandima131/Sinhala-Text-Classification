{
 "cells": [
  {
   "cell_type": "code",
   "execution_count": 1,
   "id": "c9e1d4c6",
   "metadata": {},
   "outputs": [],
   "source": [
    "# coding=utf-8\n",
    "import tweepy\n",
    "import pandas as pd\n",
    "import csv  # Import csv\n",
    "import re\n",
    "import string\n",
    "import nltk\n",
    "from nltk import FreqDist\n",
    "from nltk.tokenize import word_tokenize"
   ]
  },
  {
   "cell_type": "code",
   "execution_count": 2,
   "id": "0f3383a2",
   "metadata": {},
   "outputs": [],
   "source": [
    "consumer_key = 'WIbMrSSW0BUeUx7aY1fcdaS4h'\n",
    "consumer_secret='mRUi2zN6dMIjIJF5XicHPAGMSN3kKjxWlVv8NrOoCmzteU3T4S'\n",
    "access_token = '1349380034700533764-mPojYykP7Cmk5SeKfJbN8O1RG7hVFx'\n",
    "access_secret = 'FK1p1wqbzP8Hkj3ZsnOkPXs47lum9QTT6tAAyCiyTwmUt'"
   ]
  },
  {
   "cell_type": "code",
   "execution_count": 3,
   "id": "9e45d074",
   "metadata": {},
   "outputs": [],
   "source": [
    "auth = tweepy.OAuthHandler(consumer_key, consumer_secret)\n",
    "auth.set_access_token(access_token, access_secret)\n",
    "api = tweepy.API(auth)"
   ]
  },
  {
   "cell_type": "code",
   "execution_count": 4,
   "id": "cf153f6b",
   "metadata": {},
   "outputs": [],
   "source": [
    "tweetsIds = []  # the list containing the tweet ids\n",
    "tweets = []  # the list containing the tweets\n",
    "\n",
    "search_words = \"ඇමති\"\n",
    "tweets_df = pd.DataFrame(columns=['ID', 'FULL TEXT', 'CREATED AT','LIKE COUNT','FOLLOWERS COUNT'])\n",
    "\n",
    "for tweet in tweepy.Cursor(api.search,\n",
    "                           q=search_words,\n",
    "                 lang=\"si\", tweet_mode='extended').items():\n",
    "\n",
    "    if (tweet.id_str not in tweetsIds) and ('RT @' not in           tweet.full_text) and (not tweet.retweeted):\n",
    "        # create a dataframe from the existing information\n",
    "        df = pd.DataFrame([[ tweet.id_str, tweet.full_text, tweet.created_at,tweet.favorite_count,tweet.user.followers_count]],\n",
    "                          columns=['ID', 'FULL TEXT', 'CREATED AT','LIKE COUNT','FOLLOWERS COUNT'])\n",
    "\n",
    "        # append it to the tweets_df\n",
    "        tweets_df =  tweets_df.append(df , ignore_index=True)"
   ]
  },
  {
   "cell_type": "code",
   "execution_count": 5,
   "id": "f3837a7b",
   "metadata": {},
   "outputs": [
    {
     "data": {
      "text/html": [
       "<div>\n",
       "<style scoped>\n",
       "    .dataframe tbody tr th:only-of-type {\n",
       "        vertical-align: middle;\n",
       "    }\n",
       "\n",
       "    .dataframe tbody tr th {\n",
       "        vertical-align: top;\n",
       "    }\n",
       "\n",
       "    .dataframe thead th {\n",
       "        text-align: right;\n",
       "    }\n",
       "</style>\n",
       "<table border=\"1\" class=\"dataframe\">\n",
       "  <thead>\n",
       "    <tr style=\"text-align: right;\">\n",
       "      <th></th>\n",
       "      <th>ID</th>\n",
       "      <th>FULL TEXT</th>\n",
       "      <th>CREATED AT</th>\n",
       "      <th>LIKE COUNT</th>\n",
       "      <th>FOLLOWERS COUNT</th>\n",
       "    </tr>\n",
       "  </thead>\n",
       "  <tbody>\n",
       "    <tr>\n",
       "      <th>0</th>\n",
       "      <td>1418085520803045377</td>\n",
       "      <td>හිටපු ඇමති රිෂාඩ්ගේ නිවසේ දැරිය මියයාම ගැන පුද...</td>\n",
       "      <td>2021-07-22 05:48:29</td>\n",
       "      <td>1</td>\n",
       "      <td>74</td>\n",
       "    </tr>\n",
       "  </tbody>\n",
       "</table>\n",
       "</div>"
      ],
      "text/plain": [
       "                    ID                                          FULL TEXT  \\\n",
       "0  1418085520803045377  හිටපු ඇමති රිෂාඩ්ගේ නිවසේ දැරිය මියයාම ගැන පුද...   \n",
       "\n",
       "           CREATED AT  LIKE COUNT  FOLLOWERS COUNT  \n",
       "0 2021-07-22 05:48:29           1               74  "
      ]
     },
     "execution_count": 5,
     "metadata": {},
     "output_type": "execute_result"
    }
   ],
   "source": [
    "df.head()"
   ]
  },
  {
   "cell_type": "code",
   "execution_count": null,
   "id": "0066dd8a",
   "metadata": {},
   "outputs": [],
   "source": []
  }
 ],
 "metadata": {
  "kernelspec": {
   "display_name": "Python 3",
   "language": "python",
   "name": "python3"
  },
  "language_info": {
   "codemirror_mode": {
    "name": "ipython",
    "version": 3
   },
   "file_extension": ".py",
   "mimetype": "text/x-python",
   "name": "python",
   "nbconvert_exporter": "python",
   "pygments_lexer": "ipython3",
   "version": "3.7.0"
  }
 },
 "nbformat": 4,
 "nbformat_minor": 5
}
