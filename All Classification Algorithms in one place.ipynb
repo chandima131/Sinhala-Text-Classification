{
 "cells": [
  {
   "cell_type": "code",
   "execution_count": 1,
   "id": "335c40bd",
   "metadata": {},
   "outputs": [],
   "source": [
    "# coding=utf-8\n",
    "import pandas as pd\n",
    "import csv  # Import csv\n",
    "import tweepy\n",
    "import re\n",
    "import string\n",
    "import nltk\n",
    "import pandas as pd\n",
    "from nltk import FreqDist\n",
    "from nltk.tokenize import word_tokenize\n",
    "from sklearn.feature_extraction.text import TfidfVectorizer\n",
    "from sklearn.naive_bayes import MultinomialNB\n",
    "from sklearn.pipeline import make_pipeline\n",
    "import numpy as np\n",
    "pd.set_option('display.max_colwidth',1000)"
   ]
  },
  {
   "cell_type": "code",
   "execution_count": 2,
   "id": "eaaeb358",
   "metadata": {},
   "outputs": [
    {
     "data": {
      "text/html": [
       "<div>\n",
       "<style scoped>\n",
       "    .dataframe tbody tr th:only-of-type {\n",
       "        vertical-align: middle;\n",
       "    }\n",
       "\n",
       "    .dataframe tbody tr th {\n",
       "        vertical-align: top;\n",
       "    }\n",
       "\n",
       "    .dataframe thead th {\n",
       "        text-align: right;\n",
       "    }\n",
       "</style>\n",
       "<table border=\"1\" class=\"dataframe\">\n",
       "  <thead>\n",
       "    <tr style=\"text-align: right;\">\n",
       "      <th></th>\n",
       "      <th>ID</th>\n",
       "      <th>User</th>\n",
       "      <th>CREATED_AT</th>\n",
       "      <th>LABEL</th>\n",
       "      <th>stemming_words</th>\n",
       "      <th>LIKE COUNT</th>\n",
       "      <th>FOLLOWER COUNT</th>\n",
       "    </tr>\n",
       "  </thead>\n",
       "  <tbody>\n",
       "    <tr>\n",
       "      <th>1</th>\n",
       "      <td>2.0</td>\n",
       "      <td>1.42E+18</td>\n",
       "      <td>7/29/2021 2:40</td>\n",
       "      <td>Other</td>\n",
       "      <td>හාමුදුරුවරු සියලූම පූජකයන්ගේ මානසික සෞඛ්යය සොයා බැලීමේ වැඩ පිලිවලක් ඕනේ</td>\n",
       "      <td>1</td>\n",
       "      <td>1433</td>\n",
       "    </tr>\n",
       "    <tr>\n",
       "      <th>2</th>\n",
       "      <td>3.0</td>\n",
       "      <td>1.42E+18</td>\n",
       "      <td>7/27/2021 10:40</td>\n",
       "      <td>Politics</td>\n",
       "      <td>ද්විපාර්ශවික එකඟතා ජන ජීවිත සෞඛ්යය මනාව ආරක්ෂා කරමින් හැකි ඉක්මණින් ආර්ථිකය</td>\n",
       "      <td>10</td>\n",
       "      <td>13898</td>\n",
       "    </tr>\n",
       "    <tr>\n",
       "      <th>3</th>\n",
       "      <td>4.0</td>\n",
       "      <td>1.42E+18</td>\n",
       "      <td>7/25/2021 20:56</td>\n",
       "      <td>Other</td>\n",
       "      <td>කරැනාකර චින නිෂ්පාදිත එන්නත ලබාගත් පුද්ගලයන් හට යුරෝපීය රට වලට විසා නිකුත් නොකි</td>\n",
       "      <td>0</td>\n",
       "      <td>87</td>\n",
       "    </tr>\n",
       "    <tr>\n",
       "      <th>4</th>\n",
       "      <td>5.0</td>\n",
       "      <td>1.42E+18</td>\n",
       "      <td>7/25/2021 20:53</td>\n",
       "      <td>Other</td>\n",
       "      <td>කරැනාකර චින නිෂ්පාදිත එන්නත ලබාගත් පුද්ගලයන් හට යුර</td>\n",
       "      <td>0</td>\n",
       "      <td>87</td>\n",
       "    </tr>\n",
       "    <tr>\n",
       "      <th>5</th>\n",
       "      <td>6.0</td>\n",
       "      <td>1.42E+18</td>\n",
       "      <td>7/25/2021 20:52</td>\n",
       "      <td>Other</td>\n",
       "      <td>කරැනාකර චින නිෂ්පාදිත එන්නත ලබාගත් පුද්ගලයන් හට</td>\n",
       "      <td>1</td>\n",
       "      <td>87</td>\n",
       "    </tr>\n",
       "  </tbody>\n",
       "</table>\n",
       "</div>"
      ],
      "text/plain": [
       "    ID      User       CREATED_AT     LABEL  \\\n",
       "1  2.0  1.42E+18   7/29/2021 2:40     Other   \n",
       "2  3.0  1.42E+18  7/27/2021 10:40  Politics   \n",
       "3  4.0  1.42E+18  7/25/2021 20:56     Other   \n",
       "4  5.0  1.42E+18  7/25/2021 20:53     Other   \n",
       "5  6.0  1.42E+18  7/25/2021 20:52     Other   \n",
       "\n",
       "                                                                    stemming_words  \\\n",
       "1          හාමුදුරුවරු සියලූම පූජකයන්ගේ මානසික සෞඛ්යය සොයා බැලීමේ වැඩ පිලිවලක් ඕනේ   \n",
       "2      ද්විපාර්ශවික එකඟතා ජන ජීවිත සෞඛ්යය මනාව ආරක්ෂා කරමින් හැකි ඉක්මණින් ආර්ථිකය   \n",
       "3  කරැනාකර චින නිෂ්පාදිත එන්නත ලබාගත් පුද්ගලයන් හට යුරෝපීය රට වලට විසා නිකුත් නොකි   \n",
       "4                              කරැනාකර චින නිෂ්පාදිත එන්නත ලබාගත් පුද්ගලයන් හට යුර   \n",
       "5                                  කරැනාකර චින නිෂ්පාදිත එන්නත ලබාගත් පුද්ගලයන් හට   \n",
       "\n",
       "  LIKE COUNT FOLLOWER COUNT  \n",
       "1          1           1433  \n",
       "2         10          13898  \n",
       "3          0             87  \n",
       "4          0             87  \n",
       "5          1             87  "
      ]
     },
     "execution_count": 2,
     "metadata": {},
     "output_type": "execute_result"
    }
   ],
   "source": [
    "#!/usr/bin/env python\n",
    "# -*- coding:utf-8 -*-\n",
    "\n",
    "import codecs\n",
    "#data = pd.read_csv('PreprocessedData.csv', header = None, encoding='utf-8', engine='python') ## for older one \n",
    "data = pd.read_csv('FinalListPreprocessedData.csv', header = None, encoding='utf-8', engine='python')\n",
    "data.columns = ['ID','User','CREATED_AT','LABEL','stemming_words','LIKE COUNT','FOLLOWER COUNT']\n",
    "data = data.iloc[1: , :] # start from first column\n",
    "data = data.dropna()\n",
    "data.head()"
   ]
  },
  {
   "cell_type": "code",
   "execution_count": 3,
   "id": "5e9c3280",
   "metadata": {},
   "outputs": [],
   "source": [
    "data.loc[data['LABEL']=='Crime',\"LABEL\"] = 0\n",
    "data.loc[data['LABEL']=='Entertainment',\"LABEL\"] = 1\n",
    "data.loc[data['LABEL']=='Politics',\"LABEL\"] = 3\n",
    "data.loc[data['LABEL']=='Sport',\"LABEL\"] = 4\n",
    "data.loc[data['LABEL']=='Other',\"LABEL\"] = 5"
   ]
  },
  {
   "cell_type": "code",
   "execution_count": 4,
   "id": "c253cce0",
   "metadata": {},
   "outputs": [
    {
     "data": {
      "text/html": [
       "<div>\n",
       "<style scoped>\n",
       "    .dataframe tbody tr th:only-of-type {\n",
       "        vertical-align: middle;\n",
       "    }\n",
       "\n",
       "    .dataframe tbody tr th {\n",
       "        vertical-align: top;\n",
       "    }\n",
       "\n",
       "    .dataframe thead th {\n",
       "        text-align: right;\n",
       "    }\n",
       "</style>\n",
       "<table border=\"1\" class=\"dataframe\">\n",
       "  <thead>\n",
       "    <tr style=\"text-align: right;\">\n",
       "      <th></th>\n",
       "      <th>ID</th>\n",
       "      <th>User</th>\n",
       "      <th>CREATED_AT</th>\n",
       "      <th>LABEL</th>\n",
       "      <th>stemming_words</th>\n",
       "      <th>LIKE COUNT</th>\n",
       "      <th>FOLLOWER COUNT</th>\n",
       "    </tr>\n",
       "  </thead>\n",
       "  <tbody>\n",
       "    <tr>\n",
       "      <th>1</th>\n",
       "      <td>2.0</td>\n",
       "      <td>1.42E+18</td>\n",
       "      <td>7/29/2021 2:40</td>\n",
       "      <td>5</td>\n",
       "      <td>හාමුදුරුවරු සියලූම පූජකයන්ගේ මානසික සෞඛ්යය සොයා බැලීමේ වැඩ පිලිවලක් ඕනේ</td>\n",
       "      <td>1</td>\n",
       "      <td>1433</td>\n",
       "    </tr>\n",
       "    <tr>\n",
       "      <th>2</th>\n",
       "      <td>3.0</td>\n",
       "      <td>1.42E+18</td>\n",
       "      <td>7/27/2021 10:40</td>\n",
       "      <td>3</td>\n",
       "      <td>ද්විපාර්ශවික එකඟතා ජන ජීවිත සෞඛ්යය මනාව ආරක්ෂා කරමින් හැකි ඉක්මණින් ආර්ථිකය</td>\n",
       "      <td>10</td>\n",
       "      <td>13898</td>\n",
       "    </tr>\n",
       "    <tr>\n",
       "      <th>3</th>\n",
       "      <td>4.0</td>\n",
       "      <td>1.42E+18</td>\n",
       "      <td>7/25/2021 20:56</td>\n",
       "      <td>5</td>\n",
       "      <td>කරැනාකර චින නිෂ්පාදිත එන්නත ලබාගත් පුද්ගලයන් හට යුරෝපීය රට වලට විසා නිකුත් නොකි</td>\n",
       "      <td>0</td>\n",
       "      <td>87</td>\n",
       "    </tr>\n",
       "    <tr>\n",
       "      <th>4</th>\n",
       "      <td>5.0</td>\n",
       "      <td>1.42E+18</td>\n",
       "      <td>7/25/2021 20:53</td>\n",
       "      <td>5</td>\n",
       "      <td>කරැනාකර චින නිෂ්පාදිත එන්නත ලබාගත් පුද්ගලයන් හට යුර</td>\n",
       "      <td>0</td>\n",
       "      <td>87</td>\n",
       "    </tr>\n",
       "    <tr>\n",
       "      <th>5</th>\n",
       "      <td>6.0</td>\n",
       "      <td>1.42E+18</td>\n",
       "      <td>7/25/2021 20:52</td>\n",
       "      <td>5</td>\n",
       "      <td>කරැනාකර චින නිෂ්පාදිත එන්නත ලබාගත් පුද්ගලයන් හට</td>\n",
       "      <td>1</td>\n",
       "      <td>87</td>\n",
       "    </tr>\n",
       "  </tbody>\n",
       "</table>\n",
       "</div>"
      ],
      "text/plain": [
       "    ID      User       CREATED_AT LABEL  \\\n",
       "1  2.0  1.42E+18   7/29/2021 2:40     5   \n",
       "2  3.0  1.42E+18  7/27/2021 10:40     3   \n",
       "3  4.0  1.42E+18  7/25/2021 20:56     5   \n",
       "4  5.0  1.42E+18  7/25/2021 20:53     5   \n",
       "5  6.0  1.42E+18  7/25/2021 20:52     5   \n",
       "\n",
       "                                                                    stemming_words  \\\n",
       "1          හාමුදුරුවරු සියලූම පූජකයන්ගේ මානසික සෞඛ්යය සොයා බැලීමේ වැඩ පිලිවලක් ඕනේ   \n",
       "2      ද්විපාර්ශවික එකඟතා ජන ජීවිත සෞඛ්යය මනාව ආරක්ෂා කරමින් හැකි ඉක්මණින් ආර්ථිකය   \n",
       "3  කරැනාකර චින නිෂ්පාදිත එන්නත ලබාගත් පුද්ගලයන් හට යුරෝපීය රට වලට විසා නිකුත් නොකි   \n",
       "4                              කරැනාකර චින නිෂ්පාදිත එන්නත ලබාගත් පුද්ගලයන් හට යුර   \n",
       "5                                  කරැනාකර චින නිෂ්පාදිත එන්නත ලබාගත් පුද්ගලයන් හට   \n",
       "\n",
       "  LIKE COUNT FOLLOWER COUNT  \n",
       "1          1           1433  \n",
       "2         10          13898  \n",
       "3          0             87  \n",
       "4          0             87  \n",
       "5          1             87  "
      ]
     },
     "execution_count": 4,
     "metadata": {},
     "output_type": "execute_result"
    }
   ],
   "source": [
    "data.head()"
   ]
  },
  {
   "cell_type": "code",
   "execution_count": 5,
   "id": "1ab4d1fc",
   "metadata": {},
   "outputs": [
    {
     "data": {
      "text/plain": [
       "5    185\n",
       "3    130\n",
       "0    109\n",
       "4     93\n",
       "1     15\n",
       "Name: LABEL, dtype: int64"
      ]
     },
     "execution_count": 5,
     "metadata": {},
     "output_type": "execute_result"
    }
   ],
   "source": [
    "data['LABEL'].value_counts()"
   ]
  },
  {
   "cell_type": "code",
   "execution_count": 6,
   "id": "02823b6e",
   "metadata": {},
   "outputs": [],
   "source": [
    "############### Apply tfidf vectorizer ######################"
   ]
  },
  {
   "cell_type": "code",
   "execution_count": 7,
   "id": "fda5c469",
   "metadata": {},
   "outputs": [],
   "source": [
    "data_x=data[\"stemming_words\"]\n",
    "data_y=data[\"LABEL\"]\n",
    "\n",
    "cv = TfidfVectorizer(analyzer = 'word', max_features = 10000, ngram_range=(1,3))"
   ]
  },
  {
   "cell_type": "code",
   "execution_count": 8,
   "id": "8581dc56",
   "metadata": {},
   "outputs": [],
   "source": [
    "from sklearn.model_selection import train_test_split\n",
    "x_train, x_test, y_train, y_test = train_test_split(data_x, data_y, test_size=0.2, random_state=42)"
   ]
  },
  {
   "cell_type": "code",
   "execution_count": 9,
   "id": "01fe1ee8",
   "metadata": {},
   "outputs": [],
   "source": [
    "x_traincv=cv.fit_transform(x_train)"
   ]
  },
  {
   "cell_type": "code",
   "execution_count": 10,
   "id": "eb82dc22",
   "metadata": {},
   "outputs": [
    {
     "data": {
      "text/plain": [
       "array([[0.        , 0.        , 0.        , ..., 0.        , 0.        ,\n",
       "        0.        ],\n",
       "       [0.        , 0.        , 0.        , ..., 0.        , 0.        ,\n",
       "        0.        ],\n",
       "       [0.        , 0.        , 0.        , ..., 0.        , 0.        ,\n",
       "        0.        ],\n",
       "       ...,\n",
       "       [0.        , 0.        , 0.        , ..., 0.        , 0.        ,\n",
       "        0.        ],\n",
       "       [0.68112667, 0.        , 0.        , ..., 0.        , 0.        ,\n",
       "        0.        ],\n",
       "       [0.        , 0.        , 0.        , ..., 0.        , 0.        ,\n",
       "        0.        ]])"
      ]
     },
     "execution_count": 10,
     "metadata": {},
     "output_type": "execute_result"
    }
   ],
   "source": [
    "a = x_traincv.toarray()\n",
    "a"
   ]
  },
  {
   "cell_type": "code",
   "execution_count": 11,
   "id": "d570cc41",
   "metadata": {},
   "outputs": [
    {
     "data": {
      "text/plain": [
       "9518"
      ]
     },
     "execution_count": 11,
     "metadata": {},
     "output_type": "execute_result"
    }
   ],
   "source": [
    "len(a[0])"
   ]
  },
  {
   "cell_type": "code",
   "execution_count": 12,
   "id": "c7656e49",
   "metadata": {},
   "outputs": [],
   "source": [
    "###########  MultiNomial Naive bayes ############"
   ]
  },
  {
   "cell_type": "code",
   "execution_count": 13,
   "id": "94391688",
   "metadata": {},
   "outputs": [
    {
     "data": {
      "text/plain": [
       "MultinomialNB()"
      ]
     },
     "execution_count": 13,
     "metadata": {},
     "output_type": "execute_result"
    }
   ],
   "source": [
    "mnb = MultinomialNB()\n",
    "y_train = y_train.astype('int')\n",
    "mnb.fit(x_traincv,y_train)"
   ]
  },
  {
   "cell_type": "code",
   "execution_count": 14,
   "id": "45441ff0",
   "metadata": {},
   "outputs": [
    {
     "data": {
      "text/plain": [
       "array([5, 0, 4, 0, 5, 3, 0, 5, 3, 4, 0, 5, 5, 5, 4, 0, 5, 5, 3, 5, 5, 5,\n",
       "       5, 5, 5, 5, 4, 5, 0, 5, 5, 5, 3, 5, 5, 0, 0, 3, 5, 5, 3, 4, 5, 5,\n",
       "       5, 5, 5, 5, 5, 5, 3, 5, 5, 5, 5, 0, 5, 5, 3, 0, 5, 5, 0, 5, 5, 5,\n",
       "       5, 5, 5, 3, 3, 4, 4, 5, 5, 5, 3, 5, 5, 3, 5, 5, 5, 3, 5, 5, 3, 5,\n",
       "       3, 3, 3, 3, 5, 3, 4, 5, 5, 5, 0, 5, 4, 5, 3, 3, 0, 0, 5])"
      ]
     },
     "execution_count": 14,
     "metadata": {},
     "output_type": "execute_result"
    }
   ],
   "source": [
    "x_testcv=cv.transform(x_test)\n",
    "prediction = mnb.predict(x_testcv)\n",
    "prediction"
   ]
  },
  {
   "cell_type": "code",
   "execution_count": 15,
   "id": "b8780972",
   "metadata": {},
   "outputs": [
    {
     "data": {
      "text/plain": [
       "array([5, 0, 4, 0, 5, 3, 0, 5, 5, 4, 0, 5, 4, 5, 1, 0, 5, 5, 0, 5, 3, 5,\n",
       "       3, 4, 5, 5, 4, 5, 0, 5, 5, 5, 5, 5, 4, 0, 0, 3, 4, 4, 3, 4, 5, 4,\n",
       "       3, 5, 0, 0, 3, 5, 3, 5, 5, 3, 4, 0, 4, 3, 3, 0, 5, 5, 0, 5, 4, 5,\n",
       "       5, 4, 3, 3, 3, 1, 1, 4, 5, 5, 4, 5, 4, 3, 5, 5, 5, 5, 4, 5, 3, 5,\n",
       "       3, 3, 0, 3, 5, 3, 4, 5, 4, 5, 0, 1, 4, 5, 3, 3, 0, 0, 5],\n",
       "      dtype=object)"
      ]
     },
     "execution_count": 15,
     "metadata": {},
     "output_type": "execute_result"
    }
   ],
   "source": [
    "actual = np.array(y_test)\n",
    "actual"
   ]
  },
  {
   "cell_type": "code",
   "execution_count": 16,
   "id": "efa02cb9",
   "metadata": {},
   "outputs": [],
   "source": [
    "count = 0\n",
    "for i in range (len(prediction)):\n",
    "    if prediction[i] == actual[i]:\n",
    "        count = count +1"
   ]
  },
  {
   "cell_type": "code",
   "execution_count": 17,
   "id": "5bc17be8",
   "metadata": {},
   "outputs": [
    {
     "data": {
      "text/plain": [
       "74"
      ]
     },
     "execution_count": 17,
     "metadata": {},
     "output_type": "execute_result"
    }
   ],
   "source": [
    "count #correct prediction"
   ]
  },
  {
   "cell_type": "code",
   "execution_count": 18,
   "id": "6b68b708",
   "metadata": {},
   "outputs": [
    {
     "data": {
      "text/plain": [
       "107"
      ]
     },
     "execution_count": 18,
     "metadata": {},
     "output_type": "execute_result"
    }
   ],
   "source": [
    "len(prediction) #total prediction"
   ]
  },
  {
   "cell_type": "code",
   "execution_count": 19,
   "id": "065dfa33",
   "metadata": {},
   "outputs": [
    {
     "data": {
      "text/plain": [
       "0.6261682242990654"
      ]
     },
     "execution_count": 19,
     "metadata": {},
     "output_type": "execute_result"
    }
   ],
   "source": [
    "67/107 ###### probbility"
   ]
  },
  {
   "cell_type": "code",
   "execution_count": 20,
   "id": "d590d158",
   "metadata": {},
   "outputs": [
    {
     "ename": "ValueError",
     "evalue": "Classification metrics can't handle a mix of unknown and multiclass targets",
     "output_type": "error",
     "traceback": [
      "\u001b[1;31m---------------------------------------------------------------------------\u001b[0m",
      "\u001b[1;31mValueError\u001b[0m                                Traceback (most recent call last)",
      "\u001b[1;32m<ipython-input-20-041e9843685b>\u001b[0m in \u001b[0;36m<module>\u001b[1;34m\u001b[0m\n\u001b[0;32m      1\u001b[0m \u001b[1;32mfrom\u001b[0m \u001b[0msklearn\u001b[0m \u001b[1;32mimport\u001b[0m \u001b[0mmetrics\u001b[0m\u001b[1;33m\u001b[0m\u001b[0m\n\u001b[1;32m----> 2\u001b[1;33m \u001b[0mprint\u001b[0m\u001b[1;33m(\u001b[0m\u001b[0mmetrics\u001b[0m\u001b[1;33m.\u001b[0m\u001b[0mconfusion_matrix\u001b[0m\u001b[1;33m(\u001b[0m\u001b[0my_test\u001b[0m\u001b[1;33m,\u001b[0m\u001b[0mprediction\u001b[0m\u001b[1;33m)\u001b[0m\u001b[1;33m)\u001b[0m\u001b[1;33m\u001b[0m\u001b[0m\n\u001b[0m\u001b[0;32m      3\u001b[0m \u001b[1;33m\u001b[0m\u001b[0m\n\u001b[0;32m      4\u001b[0m \u001b[0mprint\u001b[0m\u001b[1;33m(\u001b[0m\u001b[0mmetrics\u001b[0m\u001b[1;33m.\u001b[0m\u001b[0mclassification_report\u001b[0m\u001b[1;33m(\u001b[0m\u001b[0my_test\u001b[0m\u001b[1;33m,\u001b[0m\u001b[0mprediction\u001b[0m\u001b[1;33m)\u001b[0m\u001b[1;33m)\u001b[0m\u001b[1;33m\u001b[0m\u001b[0m\n",
      "\u001b[1;32mc:\\users\\chandima samarakoon\\appdata\\local\\programs\\python\\python37\\lib\\site-packages\\sklearn\\utils\\validation.py\u001b[0m in \u001b[0;36minner_f\u001b[1;34m(*args, **kwargs)\u001b[0m\n\u001b[0;32m     61\u001b[0m             \u001b[0mextra_args\u001b[0m \u001b[1;33m=\u001b[0m \u001b[0mlen\u001b[0m\u001b[1;33m(\u001b[0m\u001b[0margs\u001b[0m\u001b[1;33m)\u001b[0m \u001b[1;33m-\u001b[0m \u001b[0mlen\u001b[0m\u001b[1;33m(\u001b[0m\u001b[0mall_args\u001b[0m\u001b[1;33m)\u001b[0m\u001b[1;33m\u001b[0m\u001b[0m\n\u001b[0;32m     62\u001b[0m             \u001b[1;32mif\u001b[0m \u001b[0mextra_args\u001b[0m \u001b[1;33m<=\u001b[0m \u001b[1;36m0\u001b[0m\u001b[1;33m:\u001b[0m\u001b[1;33m\u001b[0m\u001b[0m\n\u001b[1;32m---> 63\u001b[1;33m                 \u001b[1;32mreturn\u001b[0m \u001b[0mf\u001b[0m\u001b[1;33m(\u001b[0m\u001b[1;33m*\u001b[0m\u001b[0margs\u001b[0m\u001b[1;33m,\u001b[0m \u001b[1;33m**\u001b[0m\u001b[0mkwargs\u001b[0m\u001b[1;33m)\u001b[0m\u001b[1;33m\u001b[0m\u001b[0m\n\u001b[0m\u001b[0;32m     64\u001b[0m \u001b[1;33m\u001b[0m\u001b[0m\n\u001b[0;32m     65\u001b[0m             \u001b[1;31m# extra_args > 0\u001b[0m\u001b[1;33m\u001b[0m\u001b[1;33m\u001b[0m\u001b[0m\n",
      "\u001b[1;32mc:\\users\\chandima samarakoon\\appdata\\local\\programs\\python\\python37\\lib\\site-packages\\sklearn\\metrics\\_classification.py\u001b[0m in \u001b[0;36mconfusion_matrix\u001b[1;34m(y_true, y_pred, labels, sample_weight, normalize)\u001b[0m\n\u001b[0;32m    297\u001b[0m \u001b[1;33m\u001b[0m\u001b[0m\n\u001b[0;32m    298\u001b[0m     \"\"\"\n\u001b[1;32m--> 299\u001b[1;33m     \u001b[0my_type\u001b[0m\u001b[1;33m,\u001b[0m \u001b[0my_true\u001b[0m\u001b[1;33m,\u001b[0m \u001b[0my_pred\u001b[0m \u001b[1;33m=\u001b[0m \u001b[0m_check_targets\u001b[0m\u001b[1;33m(\u001b[0m\u001b[0my_true\u001b[0m\u001b[1;33m,\u001b[0m \u001b[0my_pred\u001b[0m\u001b[1;33m)\u001b[0m\u001b[1;33m\u001b[0m\u001b[0m\n\u001b[0m\u001b[0;32m    300\u001b[0m     \u001b[1;32mif\u001b[0m \u001b[0my_type\u001b[0m \u001b[1;32mnot\u001b[0m \u001b[1;32min\u001b[0m \u001b[1;33m(\u001b[0m\u001b[1;34m\"binary\"\u001b[0m\u001b[1;33m,\u001b[0m \u001b[1;34m\"multiclass\"\u001b[0m\u001b[1;33m)\u001b[0m\u001b[1;33m:\u001b[0m\u001b[1;33m\u001b[0m\u001b[0m\n\u001b[0;32m    301\u001b[0m         \u001b[1;32mraise\u001b[0m \u001b[0mValueError\u001b[0m\u001b[1;33m(\u001b[0m\u001b[1;34m\"%s is not supported\"\u001b[0m \u001b[1;33m%\u001b[0m \u001b[0my_type\u001b[0m\u001b[1;33m)\u001b[0m\u001b[1;33m\u001b[0m\u001b[0m\n",
      "\u001b[1;32mc:\\users\\chandima samarakoon\\appdata\\local\\programs\\python\\python37\\lib\\site-packages\\sklearn\\metrics\\_classification.py\u001b[0m in \u001b[0;36m_check_targets\u001b[1;34m(y_true, y_pred)\u001b[0m\n\u001b[0;32m     91\u001b[0m     \u001b[1;32mif\u001b[0m \u001b[0mlen\u001b[0m\u001b[1;33m(\u001b[0m\u001b[0my_type\u001b[0m\u001b[1;33m)\u001b[0m \u001b[1;33m>\u001b[0m \u001b[1;36m1\u001b[0m\u001b[1;33m:\u001b[0m\u001b[1;33m\u001b[0m\u001b[0m\n\u001b[0;32m     92\u001b[0m         raise ValueError(\"Classification metrics can't handle a mix of {0} \"\n\u001b[1;32m---> 93\u001b[1;33m                          \"and {1} targets\".format(type_true, type_pred))\n\u001b[0m\u001b[0;32m     94\u001b[0m \u001b[1;33m\u001b[0m\u001b[0m\n\u001b[0;32m     95\u001b[0m     \u001b[1;31m# We can't have more than one value on y_type => The set is no more needed\u001b[0m\u001b[1;33m\u001b[0m\u001b[1;33m\u001b[0m\u001b[0m\n",
      "\u001b[1;31mValueError\u001b[0m: Classification metrics can't handle a mix of unknown and multiclass targets"
     ]
    }
   ],
   "source": [
    "from sklearn import metrics\n",
    "print(metrics.confusion_matrix(y_test,prediction))\n",
    "\n",
    "print(metrics.classification_report(y_test,prediction))\n"
   ]
  }
 ],
 "metadata": {
  "kernelspec": {
   "display_name": "Python 3",
   "language": "python",
   "name": "python3"
  },
  "language_info": {
   "codemirror_mode": {
    "name": "ipython",
    "version": 3
   },
   "file_extension": ".py",
   "mimetype": "text/x-python",
   "name": "python",
   "nbconvert_exporter": "python",
   "pygments_lexer": "ipython3",
   "version": "3.7.0"
  }
 },
 "nbformat": 4,
 "nbformat_minor": 5
}
