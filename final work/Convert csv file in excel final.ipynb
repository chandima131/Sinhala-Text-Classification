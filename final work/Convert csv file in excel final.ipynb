{
 "cells": [
  {
   "cell_type": "markdown",
   "id": "9d738d47",
   "metadata": {},
   "source": [
    "# csv to excel"
   ]
  },
  {
   "cell_type": "code",
   "execution_count": 4,
   "id": "44da4b22",
   "metadata": {},
   "outputs": [],
   "source": [
    "import pandas as pd\n",
    "\n",
    "read_file = pd.read_csv ('FinalListPreprocessedDataNew.csv',encoding=\"utf-8\")\n",
    "read_file.to_excel ('FinalListPreprocessedDataNew.xlsx', index = None, header=True,encoding=\"utf-8\")"
   ]
  },
  {
   "cell_type": "markdown",
   "id": "d59c11fe",
   "metadata": {},
   "source": [
    "# Excel to CSV"
   ]
  },
  {
   "cell_type": "code",
   "execution_count": 5,
   "id": "7eb656bd",
   "metadata": {},
   "outputs": [],
   "source": [
    "import pandas as pd\n",
    "\n",
    "read_file = pd.read_excel (r'FinalListPreprocessedDataNew.xlsx',engine='openpyxl')\n",
    "read_file.to_csv (r'FinalListPreprocessedDataNew.csv', index = None, header=True)"
   ]
  },
  {
   "cell_type": "code",
   "execution_count": null,
   "id": "66dd12ab",
   "metadata": {},
   "outputs": [],
   "source": []
  }
 ],
 "metadata": {
  "kernelspec": {
   "display_name": "Python 3",
   "language": "python",
   "name": "python3"
  },
  "language_info": {
   "codemirror_mode": {
    "name": "ipython",
    "version": 3
   },
   "file_extension": ".py",
   "mimetype": "text/x-python",
   "name": "python",
   "nbconvert_exporter": "python",
   "pygments_lexer": "ipython3",
   "version": "3.7.0"
  }
 },
 "nbformat": 4,
 "nbformat_minor": 5
}
