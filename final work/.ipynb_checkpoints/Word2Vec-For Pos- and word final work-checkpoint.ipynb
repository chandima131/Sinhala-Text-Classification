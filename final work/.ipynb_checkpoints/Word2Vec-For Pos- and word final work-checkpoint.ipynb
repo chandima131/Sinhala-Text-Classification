{
 "cells": [
  {
   "cell_type": "code",
   "execution_count": 1,
   "id": "8e07f6b8",
   "metadata": {},
   "outputs": [],
   "source": [
    "# coding=utf-8\n",
    "import pandas as pd\n",
    "import csv  # Import csv\n",
    "import tweepy\n",
    "import re\n",
    "import string\n",
    "import nltk\n",
    "import pandas as pd\n",
    "from nltk import FreqDist\n",
    "from nltk.tokenize import word_tokenize\n",
    "from sklearn.feature_extraction.text import TfidfVectorizer\n",
    "from sklearn.naive_bayes import MultinomialNB\n",
    "import numpy as np\n",
    "from sinling import SinhalaTokenizer, POSTagger\n",
    "#pd.set_option('display.max_colwidth',1000)\n",
    "tokenizer = SinhalaTokenizer()"
   ]
  },
  {
   "cell_type": "code",
   "execution_count": 2,
   "id": "55359658",
   "metadata": {},
   "outputs": [
    {
     "data": {
      "text/html": [
       "<div>\n",
       "<style scoped>\n",
       "    .dataframe tbody tr th:only-of-type {\n",
       "        vertical-align: middle;\n",
       "    }\n",
       "\n",
       "    .dataframe tbody tr th {\n",
       "        vertical-align: top;\n",
       "    }\n",
       "\n",
       "    .dataframe thead th {\n",
       "        text-align: right;\n",
       "    }\n",
       "</style>\n",
       "<table border=\"1\" class=\"dataframe\">\n",
       "  <thead>\n",
       "    <tr style=\"text-align: right;\">\n",
       "      <th></th>\n",
       "      <th>ID</th>\n",
       "      <th>User</th>\n",
       "      <th>CREATED_AT</th>\n",
       "      <th>LABEL</th>\n",
       "      <th>stemming_words</th>\n",
       "      <th>LIKE COUNT</th>\n",
       "      <th>FOLLOWERS COUNT</th>\n",
       "      <th>RETWEET COUNT</th>\n",
       "    </tr>\n",
       "  </thead>\n",
       "  <tbody>\n",
       "    <tr>\n",
       "      <th>0</th>\n",
       "      <td>Unnamed: 0</td>\n",
       "      <td>User</td>\n",
       "      <td>CREATED_AT</td>\n",
       "      <td>LABEL</td>\n",
       "      <td>STEMMING WORDS</td>\n",
       "      <td>LIKE COUNT</td>\n",
       "      <td>FOLLOWERS COUNT</td>\n",
       "      <td>RETWEET COUNT</td>\n",
       "    </tr>\n",
       "    <tr>\n",
       "      <th>1</th>\n",
       "      <td>1</td>\n",
       "      <td>1.43633E+18</td>\n",
       "      <td>9/10/2021 13:53</td>\n",
       "      <td>Sport</td>\n",
       "      <td>ශ්රී ලංකා හා දකුණු අප්රිකාව අතර අද පැවැත්වී නි...</td>\n",
       "      <td>0</td>\n",
       "      <td>116</td>\n",
       "      <td>0</td>\n",
       "    </tr>\n",
       "    <tr>\n",
       "      <th>2</th>\n",
       "      <td>2</td>\n",
       "      <td>1.43632E+18</td>\n",
       "      <td>9/10/2021 13:09</td>\n",
       "      <td>Sport</td>\n",
       "      <td>අද තරඟ ක්රීඩා කරන කන්ඩායම දෙක චන්දි ඉන්</td>\n",
       "      <td>3</td>\n",
       "      <td>1344</td>\n",
       "      <td>0</td>\n",
       "    </tr>\n",
       "    <tr>\n",
       "      <th>3</th>\n",
       "      <td>3</td>\n",
       "      <td>1.43618E+18</td>\n",
       "      <td>9/10/2021 4:11</td>\n",
       "      <td>Sport</td>\n",
       "      <td>ක්රීඩාවෙන් ජාත්යන්තර ජයගත් ඔබේ කතාව අනාගත පරම්...</td>\n",
       "      <td>0</td>\n",
       "      <td>373</td>\n",
       "      <td>0</td>\n",
       "    </tr>\n",
       "    <tr>\n",
       "      <th>4</th>\n",
       "      <td>4</td>\n",
       "      <td>1.43614E+18</td>\n",
       "      <td>9/10/2021 1:30</td>\n",
       "      <td>Sport</td>\n",
       "      <td>ඒසේනම් ප්රිය ක්රීඩා ලෝලී හිතවතුනි අද තමා දවස</td>\n",
       "      <td>5</td>\n",
       "      <td>88</td>\n",
       "      <td>0</td>\n",
       "    </tr>\n",
       "  </tbody>\n",
       "</table>\n",
       "</div>"
      ],
      "text/plain": [
       "           ID         User       CREATED_AT  LABEL  \\\n",
       "0  Unnamed: 0         User       CREATED_AT  LABEL   \n",
       "1           1  1.43633E+18  9/10/2021 13:53  Sport   \n",
       "2           2  1.43632E+18  9/10/2021 13:09  Sport   \n",
       "3           3  1.43618E+18   9/10/2021 4:11  Sport   \n",
       "4           4  1.43614E+18   9/10/2021 1:30  Sport   \n",
       "\n",
       "                                      stemming_words  LIKE COUNT  \\\n",
       "0                                     STEMMING WORDS  LIKE COUNT   \n",
       "1  ශ්රී ලංකා හා දකුණු අප්රිකාව අතර අද පැවැත්වී නි...           0   \n",
       "2            අද තරඟ ක්රීඩා කරන කන්ඩායම දෙක චන්දි ඉන්           3   \n",
       "3  ක්රීඩාවෙන් ජාත්යන්තර ජයගත් ඔබේ කතාව අනාගත පරම්...           0   \n",
       "4       ඒසේනම් ප්රිය ක්රීඩා ලෝලී හිතවතුනි අද තමා දවස           5   \n",
       "\n",
       "   FOLLOWERS COUNT  RETWEET COUNT  \n",
       "0  FOLLOWERS COUNT  RETWEET COUNT  \n",
       "1              116              0  \n",
       "2             1344              0  \n",
       "3              373              0  \n",
       "4               88              0  "
      ]
     },
     "execution_count": 2,
     "metadata": {},
     "output_type": "execute_result"
    }
   ],
   "source": [
    "#!/usr/bin/env python\n",
    "# -*- coding:utf-8 -*-\n",
    "\n",
    "import codecs\n",
    "df = pd.read_csv('FinalListPreprocessedDataNew.csv', header = None, encoding='utf-8', engine='python')\n",
    "df.columns = ['ID','User','CREATED_AT','LABEL','stemming_words','LIKE COUNT','FOLLOWERS COUNT','RETWEET COUNT']\n",
    "df = df.dropna()\n",
    "df.head()"
   ]
  },
  {
   "cell_type": "code",
   "execution_count": 3,
   "id": "999d37b7",
   "metadata": {},
   "outputs": [],
   "source": [
    "tokenizer = SinhalaTokenizer()\n",
    "def clean_text(text):\n",
    "    tokenized_sentences = [tokenizer.tokenize(f'{ss}.') for ss in tokenizer.split_sentences(text)]\n",
    "    tagger = POSTagger()\n",
    "    pos_tags =tagger.predict(tokenized_sentences) \n",
    "    return pos_tags \n",
    "\n"
   ]
  },
  {
   "cell_type": "code",
   "execution_count": null,
   "id": "76408b75",
   "metadata": {},
   "outputs": [],
   "source": [
    "df['cleaned_msg'] = df['stemming_words'].apply(lambda x: clean_text(x))\n",
    "df.head()"
   ]
  },
  {
   "cell_type": "code",
   "execution_count": null,
   "id": "8024542d",
   "metadata": {},
   "outputs": [],
   "source": [
    "def pos_tag(data):\n",
    "    result = []\n",
    "    if type(data) == tuple:\n",
    "        return data[1]\n",
    "\n",
    "    if type(data) == list:\n",
    "        for inner in data:\n",
    "            result.append(pos_tag(inner))\n",
    "    return result "
   ]
  },
  {
   "cell_type": "code",
   "execution_count": null,
   "id": "763bcf5a",
   "metadata": {},
   "outputs": [],
   "source": [
    "df['pos_tagging'] = df['cleaned_msg'].apply(lambda x: pos_tag(x))\n",
    "df.head()"
   ]
  },
  {
   "cell_type": "code",
   "execution_count": 26,
   "id": "4268f456",
   "metadata": {},
   "outputs": [],
   "source": [
    "import gensim\n",
    "from gensim.models import Word2Vec\n",
    "import nltk\n",
    "from nltk.corpus import stopwords\n",
    "import re"
   ]
  },
  {
   "cell_type": "markdown",
   "id": "5dd2f3b5",
   "metadata": {},
   "source": [
    "# My work"
   ]
  },
  {
   "cell_type": "code",
   "execution_count": 27,
   "id": "1e1a60ad",
   "metadata": {},
   "outputs": [],
   "source": [
    "def get_pos_vec(x):\n",
    "    w2v_model = Word2Vec(min_count=1,window=2,vector_size=5,sample=1e-5,alpha=0.01,min_alpha=0.0007,negative=0,workers=2)\n",
    "    w2v_model.build_vocab(x, progress_per=1)\n",
    "    w2v_model.train(x, total_examples=w2v_model.corpus_count, epochs=3, report_delay=1)\n",
    "    \n",
    "    for index, key in enumerate(w2v_model.wv.key_to_index):\n",
    "        vec = w2v_model.wv[key]\n",
    "    return vec"
   ]
  },
  {
   "cell_type": "code",
   "execution_count": 28,
   "id": "3fb6f163",
   "metadata": {},
   "outputs": [],
   "source": [
    "df['pos_vec'] = df['pos_tagging'].apply(lambda x: get_pos_vec(x))"
   ]
  },
  {
   "cell_type": "code",
   "execution_count": 29,
   "id": "53fab499",
   "metadata": {},
   "outputs": [],
   "source": [
    "def get_word_vec(text):\n",
    "    x = [tokenizer.tokenize(f'{ss}.') for ss in tokenizer.split_sentences(text)]\n",
    "    w2v_model = Word2Vec(min_count=1,window=2,vector_size=5,sample=1e-5,alpha=0.01,min_alpha=0.0007,negative=0,workers=2)\n",
    "    w2v_model.build_vocab(x, progress_per=1)\n",
    "    w2v_model.train(x, total_examples=w2v_model.corpus_count, epochs=3, report_delay=1)\n",
    "    \n",
    "    for index, key in enumerate(w2v_model.wv.key_to_index):\n",
    "        vec = w2v_model.wv[key]\n",
    "    return vec"
   ]
  },
  {
   "cell_type": "code",
   "execution_count": 30,
   "id": "a0dba107",
   "metadata": {},
   "outputs": [],
   "source": [
    "df['word_vec'] = df['stemming_words'].apply(lambda x: get_word_vec(x))"
   ]
  },
  {
   "cell_type": "code",
   "execution_count": 31,
   "id": "1dd4b6e9",
   "metadata": {},
   "outputs": [],
   "source": [
    "#get sum of columns\n",
    "\n",
    "dflist = ['pos_vec','word_vec']\n",
    "df['sums'] = df[dflist].sum(axis=1)"
   ]
  },
  {
   "cell_type": "code",
   "execution_count": 32,
   "id": "9ef66b45",
   "metadata": {},
   "outputs": [
    {
     "data": {
      "text/html": [
       "<div>\n",
       "<style scoped>\n",
       "    .dataframe tbody tr th:only-of-type {\n",
       "        vertical-align: middle;\n",
       "    }\n",
       "\n",
       "    .dataframe tbody tr th {\n",
       "        vertical-align: top;\n",
       "    }\n",
       "\n",
       "    .dataframe thead th {\n",
       "        text-align: right;\n",
       "    }\n",
       "</style>\n",
       "<table border=\"1\" class=\"dataframe\">\n",
       "  <thead>\n",
       "    <tr style=\"text-align: right;\">\n",
       "      <th></th>\n",
       "      <th>ID</th>\n",
       "      <th>User</th>\n",
       "      <th>CREATED_AT</th>\n",
       "      <th>LABEL</th>\n",
       "      <th>stemming_words</th>\n",
       "      <th>LIKE COUNT</th>\n",
       "      <th>FOLLOWERS COUNT</th>\n",
       "      <th>RETWEET COUNT</th>\n",
       "      <th>cleaned_msg</th>\n",
       "      <th>pos_tagging</th>\n",
       "      <th>pos_vec</th>\n",
       "      <th>word_vec</th>\n",
       "      <th>sums</th>\n",
       "    </tr>\n",
       "  </thead>\n",
       "  <tbody>\n",
       "    <tr>\n",
       "      <th>0</th>\n",
       "      <td>Unnamed: 0</td>\n",
       "      <td>User</td>\n",
       "      <td>CREATED_AT</td>\n",
       "      <td>LABEL</td>\n",
       "      <td>STEMMING WORDS</td>\n",
       "      <td>LIKE COUNT</td>\n",
       "      <td>FOLLOWERS COUNT</td>\n",
       "      <td>RETWEET COUNT</td>\n",
       "      <td>[[(STEMMING, NNC), (WORDS, VFM), (., FS)]]</td>\n",
       "      <td>[[NNC, VFM, FS]]</td>\n",
       "      <td>[0.1476101, -0.03066945, -0.09073229, 0.131081...</td>\n",
       "      <td>[0.1476101, -0.03066945, -0.09073229, 0.131081...</td>\n",
       "      <td>[0.2952202, -0.0613389, -0.18146458, 0.2621620...</td>\n",
       "    </tr>\n",
       "    <tr>\n",
       "      <th>1</th>\n",
       "      <td>1.0</td>\n",
       "      <td>1436326903552613888</td>\n",
       "      <td>2021-09-10 13:53:14</td>\n",
       "      <td>Sport</td>\n",
       "      <td>ශ්රී ලංකා හා දකුණු අප්රිකාව අතර අද පැවැත්වී නි...</td>\n",
       "      <td>0</td>\n",
       "      <td>116</td>\n",
       "      <td>0</td>\n",
       "      <td>[[(ශ්රී, NNP), (ලංකා, NNP), (හා, CC), (දකුණු, ...</td>\n",
       "      <td>[[NNP, NNP, CC, NNP, NNP, POST, NNC, VNF, RB, ...</td>\n",
       "      <td>[0.10911588, 0.16691904, -0.029074812, -0.1841...</td>\n",
       "      <td>[0.02175293, -0.031524517, 0.04393344, -0.1576...</td>\n",
       "      <td>[0.1308688, 0.13539451, 0.014858628, -0.341794...</td>\n",
       "    </tr>\n",
       "    <tr>\n",
       "      <th>2</th>\n",
       "      <td>2.0</td>\n",
       "      <td>1436315945258012928</td>\n",
       "      <td>2021-09-10 13:09:41</td>\n",
       "      <td>Sport</td>\n",
       "      <td>අද තරඟ ක්රීඩා කරන කන්ඩායම දෙක චන්දි ඉන්</td>\n",
       "      <td>3</td>\n",
       "      <td>1344</td>\n",
       "      <td>0</td>\n",
       "      <td>[[(අද, NNC), (තරඟ, NCV), (ක්රීඩා, VNF), (කරන, ...</td>\n",
       "      <td>[[NNC, NCV, VNF, VP, NNC, NUM, NNC, POST, FS]]</td>\n",
       "      <td>[-0.15023164, -0.018600846, 0.19076237, -0.146...</td>\n",
       "      <td>[-0.192071, 0.10014586, -0.17519173, -0.087836...</td>\n",
       "      <td>[-0.34230265, 0.08154502, 0.015570641, -0.2342...</td>\n",
       "    </tr>\n",
       "    <tr>\n",
       "      <th>3</th>\n",
       "      <td>3.0</td>\n",
       "      <td>1436180401593019904</td>\n",
       "      <td>2021-09-10 04:11:05</td>\n",
       "      <td>Sport</td>\n",
       "      <td>ක්රීඩාවෙන් ජාත්යන්තර ජයගත් ඔබේ කතාව අනාගත පරම්...</td>\n",
       "      <td>0</td>\n",
       "      <td>373</td>\n",
       "      <td>0</td>\n",
       "      <td>[[(ක්රීඩාවෙන්, NNC), (ජාත්යන්තර, NNC), (ජයගත්,...</td>\n",
       "      <td>[[NNC, NNC, VP, PRP, NNC, JJ, NNC, NNC, VP, AU...</td>\n",
       "      <td>[-0.16315837, 0.089915946, -0.08274154, 0.0164...</td>\n",
       "      <td>[-0.17239375, 0.07331476, 0.103797674, 0.11483...</td>\n",
       "      <td>[-0.33555213, 0.16323072, 0.02105613, 0.131329...</td>\n",
       "    </tr>\n",
       "    <tr>\n",
       "      <th>4</th>\n",
       "      <td>4.0</td>\n",
       "      <td>1436139990413558016</td>\n",
       "      <td>2021-09-10 01:30:30</td>\n",
       "      <td>Sport</td>\n",
       "      <td>ඒසේනම් ප්රිය ක්රීඩා ලෝලී හිතවතුනි අද තමා දවස</td>\n",
       "      <td>5</td>\n",
       "      <td>88</td>\n",
       "      <td>0</td>\n",
       "      <td>[[(ඒසේනම්, NNP), (ප්රිය, NNP), (ක්රීඩා, NNP), ...</td>\n",
       "      <td>[[NNP, NNP, NNP, NNP, NNP, NNC, PRP, NNC, FS]]</td>\n",
       "      <td>[-0.03632035, 0.057531595, 0.019837474, -0.165...</td>\n",
       "      <td>[-0.192071, 0.10014586, -0.17519173, -0.087836...</td>\n",
       "      <td>[-0.22839135, 0.15767746, -0.15535426, -0.2535...</td>\n",
       "    </tr>\n",
       "  </tbody>\n",
       "</table>\n",
       "</div>"
      ],
      "text/plain": [
       "           ID                 User           CREATED_AT  LABEL  \\\n",
       "0  Unnamed: 0                 User           CREATED_AT  LABEL   \n",
       "1         1.0  1436326903552613888  2021-09-10 13:53:14  Sport   \n",
       "2         2.0  1436315945258012928  2021-09-10 13:09:41  Sport   \n",
       "3         3.0  1436180401593019904  2021-09-10 04:11:05  Sport   \n",
       "4         4.0  1436139990413558016  2021-09-10 01:30:30  Sport   \n",
       "\n",
       "                                      stemming_words  LIKE COUNT  \\\n",
       "0                                     STEMMING WORDS  LIKE COUNT   \n",
       "1  ශ්රී ලංකා හා දකුණු අප්රිකාව අතර අද පැවැත්වී නි...           0   \n",
       "2            අද තරඟ ක්රීඩා කරන කන්ඩායම දෙක චන්දි ඉන්           3   \n",
       "3  ක්රීඩාවෙන් ජාත්යන්තර ජයගත් ඔබේ කතාව අනාගත පරම්...           0   \n",
       "4       ඒසේනම් ප්රිය ක්රීඩා ලෝලී හිතවතුනි අද තමා දවස           5   \n",
       "\n",
       "   FOLLOWERS COUNT  RETWEET COUNT  \\\n",
       "0  FOLLOWERS COUNT  RETWEET COUNT   \n",
       "1              116              0   \n",
       "2             1344              0   \n",
       "3              373              0   \n",
       "4               88              0   \n",
       "\n",
       "                                         cleaned_msg  \\\n",
       "0         [[(STEMMING, NNC), (WORDS, VFM), (., FS)]]   \n",
       "1  [[(ශ්රී, NNP), (ලංකා, NNP), (හා, CC), (දකුණු, ...   \n",
       "2  [[(අද, NNC), (තරඟ, NCV), (ක්රීඩා, VNF), (කරන, ...   \n",
       "3  [[(ක්රීඩාවෙන්, NNC), (ජාත්යන්තර, NNC), (ජයගත්,...   \n",
       "4  [[(ඒසේනම්, NNP), (ප්රිය, NNP), (ක්රීඩා, NNP), ...   \n",
       "\n",
       "                                         pos_tagging  \\\n",
       "0                                   [[NNC, VFM, FS]]   \n",
       "1  [[NNP, NNP, CC, NNP, NNP, POST, NNC, VNF, RB, ...   \n",
       "2     [[NNC, NCV, VNF, VP, NNC, NUM, NNC, POST, FS]]   \n",
       "3  [[NNC, NNC, VP, PRP, NNC, JJ, NNC, NNC, VP, AU...   \n",
       "4     [[NNP, NNP, NNP, NNP, NNP, NNC, PRP, NNC, FS]]   \n",
       "\n",
       "                                             pos_vec  \\\n",
       "0  [0.1476101, -0.03066945, -0.09073229, 0.131081...   \n",
       "1  [0.10911588, 0.16691904, -0.029074812, -0.1841...   \n",
       "2  [-0.15023164, -0.018600846, 0.19076237, -0.146...   \n",
       "3  [-0.16315837, 0.089915946, -0.08274154, 0.0164...   \n",
       "4  [-0.03632035, 0.057531595, 0.019837474, -0.165...   \n",
       "\n",
       "                                            word_vec  \\\n",
       "0  [0.1476101, -0.03066945, -0.09073229, 0.131081...   \n",
       "1  [0.02175293, -0.031524517, 0.04393344, -0.1576...   \n",
       "2  [-0.192071, 0.10014586, -0.17519173, -0.087836...   \n",
       "3  [-0.17239375, 0.07331476, 0.103797674, 0.11483...   \n",
       "4  [-0.192071, 0.10014586, -0.17519173, -0.087836...   \n",
       "\n",
       "                                                sums  \n",
       "0  [0.2952202, -0.0613389, -0.18146458, 0.2621620...  \n",
       "1  [0.1308688, 0.13539451, 0.014858628, -0.341794...  \n",
       "2  [-0.34230265, 0.08154502, 0.015570641, -0.2342...  \n",
       "3  [-0.33555213, 0.16323072, 0.02105613, 0.131329...  \n",
       "4  [-0.22839135, 0.15767746, -0.15535426, -0.2535...  "
      ]
     },
     "execution_count": 32,
     "metadata": {},
     "output_type": "execute_result"
    }
   ],
   "source": [
    "df.head()"
   ]
  },
  {
   "cell_type": "markdown",
   "id": "c06c316c",
   "metadata": {},
   "source": [
    "# SVC"
   ]
  },
  {
   "cell_type": "code",
   "execution_count": 33,
   "id": "7119f39d",
   "metadata": {},
   "outputs": [
    {
     "name": "stdout",
     "output_type": "stream",
     "text": [
      "[[ 0  1 32  1  0]\n",
      " [ 0  1 35  2  0]\n",
      " [ 0  2 64  4  0]\n",
      " [ 0  1 49  2  0]\n",
      " [ 0  2 42  2  0]]\n",
      "               precision    recall  f1-score   support\n",
      "\n",
      "        Crime       0.00      0.00      0.00        34\n",
      "Entertainment       0.14      0.03      0.04        38\n",
      "        Other       0.29      0.91      0.44        70\n",
      "     Politics       0.18      0.04      0.06        52\n",
      "        Sport       0.00      0.00      0.00        46\n",
      "\n",
      "     accuracy                           0.28       240\n",
      "    macro avg       0.12      0.20      0.11       240\n",
      " weighted avg       0.15      0.28      0.15       240\n",
      "\n"
     ]
    },
    {
     "name": "stderr",
     "output_type": "stream",
     "text": [
      "c:\\users\\chandima samarakoon\\appdata\\local\\programs\\python\\python37\\lib\\site-packages\\sklearn\\metrics\\_classification.py:1248: UndefinedMetricWarning: Precision and F-score are ill-defined and being set to 0.0 in labels with no predicted samples. Use `zero_division` parameter to control this behavior.\n",
      "  _warn_prf(average, modifier, msg_start, len(result))\n",
      "c:\\users\\chandima samarakoon\\appdata\\local\\programs\\python\\python37\\lib\\site-packages\\sklearn\\metrics\\_classification.py:1248: UndefinedMetricWarning: Precision and F-score are ill-defined and being set to 0.0 in labels with no predicted samples. Use `zero_division` parameter to control this behavior.\n",
      "  _warn_prf(average, modifier, msg_start, len(result))\n",
      "c:\\users\\chandima samarakoon\\appdata\\local\\programs\\python\\python37\\lib\\site-packages\\sklearn\\metrics\\_classification.py:1248: UndefinedMetricWarning: Precision and F-score are ill-defined and being set to 0.0 in labels with no predicted samples. Use `zero_division` parameter to control this behavior.\n",
      "  _warn_prf(average, modifier, msg_start, len(result))\n"
     ]
    }
   ],
   "source": [
    "from sklearn.model_selection import train_test_split\n",
    "from sklearn.linear_model import LogisticRegression\n",
    "from sklearn.svm import LinearSVC\n",
    "from sklearn.metrics import classification_report\n",
    "from sklearn import metrics\n",
    "\n",
    "X = df['sums'].to_numpy()\n",
    "X = X.reshape(-1,1)\n",
    "X.shape\n",
    "X = np.concatenate(np.concatenate(X, axis = 0),axis = 0).reshape(-1,5)\n",
    "y=df['LABEL']\n",
    "\n",
    "\n",
    "X_train, X_test, y_train, y_test = train_test_split(X,y, test_size=0.2, random_state=42)\n",
    "\n",
    "X_train.shape, X_test.shape\n",
    "\n",
    "\n",
    "clf = LinearSVC()\n",
    "clf.fit(X_train,y_train)\n",
    "y_pred = clf.predict(X_test)\n",
    "\n",
    "\n",
    "print(metrics.confusion_matrix(y_test,y_pred))\n",
    "\n",
    "print(metrics.classification_report(y_test,y_pred))"
   ]
  },
  {
   "cell_type": "markdown",
   "id": "c1fd2182",
   "metadata": {},
   "source": [
    "# Logestic Regression"
   ]
  },
  {
   "cell_type": "code",
   "execution_count": 34,
   "id": "4e181e1b",
   "metadata": {
    "scrolled": true
   },
   "outputs": [
    {
     "name": "stdout",
     "output_type": "stream",
     "text": [
      "[[ 0  0 33  1  0]\n",
      " [ 0  0 37  1  0]\n",
      " [ 0  1 66  3  0]\n",
      " [ 0  1 49  2  0]\n",
      " [ 0  0 44  2  0]]\n",
      "               precision    recall  f1-score   support\n",
      "\n",
      "        Crime       0.00      0.00      0.00        34\n",
      "Entertainment       0.00      0.00      0.00        38\n",
      "        Other       0.29      0.94      0.44        70\n",
      "     Politics       0.22      0.04      0.07        52\n",
      "        Sport       0.00      0.00      0.00        46\n",
      "\n",
      "     accuracy                           0.28       240\n",
      "    macro avg       0.10      0.20      0.10       240\n",
      " weighted avg       0.13      0.28      0.14       240\n",
      "\n"
     ]
    },
    {
     "name": "stderr",
     "output_type": "stream",
     "text": [
      "c:\\users\\chandima samarakoon\\appdata\\local\\programs\\python\\python37\\lib\\site-packages\\sklearn\\metrics\\_classification.py:1248: UndefinedMetricWarning: Precision and F-score are ill-defined and being set to 0.0 in labels with no predicted samples. Use `zero_division` parameter to control this behavior.\n",
      "  _warn_prf(average, modifier, msg_start, len(result))\n",
      "c:\\users\\chandima samarakoon\\appdata\\local\\programs\\python\\python37\\lib\\site-packages\\sklearn\\metrics\\_classification.py:1248: UndefinedMetricWarning: Precision and F-score are ill-defined and being set to 0.0 in labels with no predicted samples. Use `zero_division` parameter to control this behavior.\n",
      "  _warn_prf(average, modifier, msg_start, len(result))\n",
      "c:\\users\\chandima samarakoon\\appdata\\local\\programs\\python\\python37\\lib\\site-packages\\sklearn\\metrics\\_classification.py:1248: UndefinedMetricWarning: Precision and F-score are ill-defined and being set to 0.0 in labels with no predicted samples. Use `zero_division` parameter to control this behavior.\n",
      "  _warn_prf(average, modifier, msg_start, len(result))\n"
     ]
    }
   ],
   "source": [
    "from sklearn.model_selection import train_test_split\n",
    "from sklearn.linear_model import LogisticRegression\n",
    "from sklearn.svm import LinearSVC\n",
    "from sklearn.metrics import classification_report\n",
    "from sklearn import metrics\n",
    "\n",
    "\n",
    "\n",
    "X = df['sums'].to_numpy()\n",
    "X = X.reshape(-1,1)\n",
    "X.shape\n",
    "X = np.concatenate(np.concatenate(X, axis = 0),axis = 0).reshape(-1,5)\n",
    "y=df['LABEL']\n",
    "\n",
    "\n",
    "X_train, X_test, y_train, y_test = train_test_split(X,y, test_size=0.2, random_state=42)\n",
    "\n",
    "X_train.shape, X_test.shape\n",
    "\n",
    "\n",
    "clf = LogisticRegression()\n",
    "clf.fit(X_train,y_train)\n",
    "y_pred = clf.predict(X_test)\n",
    "\n",
    "\n",
    "print(metrics.confusion_matrix(y_test,y_pred))\n",
    "\n",
    "print(metrics.classification_report(y_test,y_pred))\n"
   ]
  },
  {
   "cell_type": "markdown",
   "id": "b11497c1",
   "metadata": {},
   "source": [
    "# KNN"
   ]
  },
  {
   "cell_type": "code",
   "execution_count": 35,
   "id": "fe1e61a1",
   "metadata": {},
   "outputs": [
    {
     "name": "stdout",
     "output_type": "stream",
     "text": [
      "[[ 8  7 10  4  5]\n",
      " [ 3  9 18  3  5]\n",
      " [14 11 23 16  6]\n",
      " [ 7  4 23 11  7]\n",
      " [ 5  8 21  9  3]]\n",
      "               precision    recall  f1-score   support\n",
      "\n",
      "        Crime       0.22      0.24      0.23        34\n",
      "Entertainment       0.23      0.24      0.23        38\n",
      "        Other       0.24      0.33      0.28        70\n",
      "     Politics       0.26      0.21      0.23        52\n",
      "        Sport       0.12      0.07      0.08        46\n",
      "\n",
      "     accuracy                           0.23       240\n",
      "    macro avg       0.21      0.22      0.21       240\n",
      " weighted avg       0.22      0.23      0.22       240\n",
      "\n"
     ]
    }
   ],
   "source": [
    "from sklearn.model_selection import train_test_split\n",
    "from sklearn.neighbors import KNeighborsClassifier\n",
    "from sklearn.metrics import classification_report\n",
    "from sklearn import metrics\n",
    "\n",
    "X = df['sums'].to_numpy()\n",
    "X = X.reshape(-1,1)\n",
    "X.shape\n",
    "X = np.concatenate(np.concatenate(X, axis = 0),axis = 0).reshape(-1,5)\n",
    "y=df['LABEL']\n",
    "\n",
    "\n",
    "X_train, X_test, y_train, y_test = train_test_split(X,y, test_size=0.2, random_state=42)\n",
    "\n",
    "X_train.shape, X_test.shape\n",
    "\n",
    "\n",
    "clf = KNeighborsClassifier()\n",
    "clf.fit(X_train,y_train)\n",
    "y_pred = clf.predict(X_test)\n",
    "\n",
    "\n",
    "print(metrics.confusion_matrix(y_test,y_pred))\n",
    "\n",
    "print(metrics.classification_report(y_test,y_pred))"
   ]
  },
  {
   "cell_type": "markdown",
   "id": "49ec0ad4",
   "metadata": {},
   "source": [
    "# sgd "
   ]
  },
  {
   "cell_type": "code",
   "execution_count": 36,
   "id": "3052b35a",
   "metadata": {},
   "outputs": [
    {
     "name": "stdout",
     "output_type": "stream",
     "text": [
      "[[ 0 32  2  0  0]\n",
      " [ 0 35  2  0  1]\n",
      " [ 0 66  4  0  0]\n",
      " [ 0 51  1  0  0]\n",
      " [ 0 44  2  0  0]]\n",
      "               precision    recall  f1-score   support\n",
      "\n",
      "        Crime       0.00      0.00      0.00        34\n",
      "Entertainment       0.15      0.92      0.26        38\n",
      "        Other       0.36      0.06      0.10        70\n",
      "     Politics       0.00      0.00      0.00        52\n",
      "        Sport       0.00      0.00      0.00        46\n",
      "\n",
      "     accuracy                           0.16       240\n",
      "    macro avg       0.10      0.20      0.07       240\n",
      " weighted avg       0.13      0.16      0.07       240\n",
      "\n"
     ]
    },
    {
     "name": "stderr",
     "output_type": "stream",
     "text": [
      "c:\\users\\chandima samarakoon\\appdata\\local\\programs\\python\\python37\\lib\\site-packages\\sklearn\\metrics\\_classification.py:1248: UndefinedMetricWarning: Precision and F-score are ill-defined and being set to 0.0 in labels with no predicted samples. Use `zero_division` parameter to control this behavior.\n",
      "  _warn_prf(average, modifier, msg_start, len(result))\n",
      "c:\\users\\chandima samarakoon\\appdata\\local\\programs\\python\\python37\\lib\\site-packages\\sklearn\\metrics\\_classification.py:1248: UndefinedMetricWarning: Precision and F-score are ill-defined and being set to 0.0 in labels with no predicted samples. Use `zero_division` parameter to control this behavior.\n",
      "  _warn_prf(average, modifier, msg_start, len(result))\n",
      "c:\\users\\chandima samarakoon\\appdata\\local\\programs\\python\\python37\\lib\\site-packages\\sklearn\\metrics\\_classification.py:1248: UndefinedMetricWarning: Precision and F-score are ill-defined and being set to 0.0 in labels with no predicted samples. Use `zero_division` parameter to control this behavior.\n",
      "  _warn_prf(average, modifier, msg_start, len(result))\n"
     ]
    }
   ],
   "source": [
    "from sklearn.model_selection import train_test_split\n",
    "from sklearn.linear_model import SGDClassifier\n",
    "from sklearn.metrics import classification_report\n",
    "from sklearn import metrics\n",
    "\n",
    "X = df['sums'].to_numpy()\n",
    "X = X.reshape(-1,1)\n",
    "X.shape\n",
    "X = np.concatenate(np.concatenate(X, axis = 0),axis = 0).reshape(-1,5)\n",
    "y=df['LABEL']\n",
    "\n",
    "\n",
    "X_train, X_test, y_train, y_test = train_test_split(X,y, test_size=0.2, random_state=42)\n",
    "\n",
    "X_train.shape, X_test.shape\n",
    "\n",
    "\n",
    "clf = SGDClassifier()\n",
    "clf.fit(X_train,y_train)\n",
    "y_pred = clf.predict(X_test)\n",
    "\n",
    "\n",
    "print(metrics.confusion_matrix(y_test,y_pred))\n",
    "\n",
    "print(metrics.classification_report(y_test,y_pred))"
   ]
  },
  {
   "cell_type": "code",
   "execution_count": null,
   "id": "bda823cc",
   "metadata": {},
   "outputs": [],
   "source": []
  },
  {
   "cell_type": "code",
   "execution_count": 76,
   "id": "273a8a8d",
   "metadata": {},
   "outputs": [],
   "source": [
    "X = df['sums'].to_numpy()\n",
    "X = X.reshape(-1,1)"
   ]
  },
  {
   "cell_type": "code",
   "execution_count": 77,
   "id": "cef7b6a7",
   "metadata": {},
   "outputs": [
    {
     "data": {
      "text/plain": [
       "(532, 1)"
      ]
     },
     "execution_count": 77,
     "metadata": {},
     "output_type": "execute_result"
    }
   ],
   "source": [
    "X.shape"
   ]
  },
  {
   "cell_type": "code",
   "execution_count": 78,
   "id": "cb37c9e3",
   "metadata": {},
   "outputs": [],
   "source": [
    "# 5 kiyana eka vector size ekath ekka wenas wenawa\n",
    "X = np.concatenate(np.concatenate(X, axis = 0),axis = 0).reshape(-1,5)"
   ]
  },
  {
   "cell_type": "code",
   "execution_count": 79,
   "id": "7eda0f59",
   "metadata": {},
   "outputs": [],
   "source": [
    "y=df['LABEL']"
   ]
  },
  {
   "cell_type": "code",
   "execution_count": 80,
   "id": "6d54f1df",
   "metadata": {},
   "outputs": [],
   "source": [
    "from sklearn.model_selection import train_test_split\n",
    "X_train, X_test, y_train, y_test = train_test_split(X,y, test_size=0.2, random_state=42)"
   ]
  },
  {
   "cell_type": "code",
   "execution_count": 81,
   "id": "121ee61b",
   "metadata": {},
   "outputs": [
    {
     "data": {
      "text/plain": [
       "((425, 5), (107, 5))"
      ]
     },
     "execution_count": 81,
     "metadata": {},
     "output_type": "execute_result"
    }
   ],
   "source": [
    "X_train.shape, X_test.shape"
   ]
  },
  {
   "cell_type": "code",
   "execution_count": 82,
   "id": "c872ecb2",
   "metadata": {},
   "outputs": [
    {
     "data": {
      "text/plain": [
       "LinearSVC()"
      ]
     },
     "execution_count": 82,
     "metadata": {},
     "output_type": "execute_result"
    }
   ],
   "source": [
    "from sklearn.linear_model import LogisticRegression\n",
    "from sklearn.svm import LinearSVC\n",
    "clf = LinearSVC()\n",
    "clf.fit(X_train,y_train)"
   ]
  },
  {
   "cell_type": "code",
   "execution_count": 83,
   "id": "f3b01f67",
   "metadata": {},
   "outputs": [],
   "source": [
    "y_pred = clf.predict(X_test)"
   ]
  },
  {
   "cell_type": "code",
   "execution_count": 84,
   "id": "c37fe263",
   "metadata": {},
   "outputs": [
    {
     "name": "stdout",
     "output_type": "stream",
     "text": [
      "[[ 0  0 14  4  0]\n",
      " [ 0  0  2  2  0]\n",
      " [ 0  0 34  8  0]\n",
      " [ 0  0 16  6  0]\n",
      " [ 0  0 16  5  0]]\n",
      "               precision    recall  f1-score   support\n",
      "\n",
      "        Crime       0.00      0.00      0.00        18\n",
      "Entertainment       0.00      0.00      0.00         4\n",
      "        Other       0.41      0.81      0.55        42\n",
      "     Politics       0.24      0.27      0.26        22\n",
      "        Sport       0.00      0.00      0.00        21\n",
      "\n",
      "     accuracy                           0.37       107\n",
      "    macro avg       0.13      0.22      0.16       107\n",
      " weighted avg       0.21      0.37      0.27       107\n",
      "\n"
     ]
    },
    {
     "name": "stderr",
     "output_type": "stream",
     "text": [
      "c:\\users\\chandima samarakoon\\appdata\\local\\programs\\python\\python37\\lib\\site-packages\\sklearn\\metrics\\_classification.py:1248: UndefinedMetricWarning: Precision and F-score are ill-defined and being set to 0.0 in labels with no predicted samples. Use `zero_division` parameter to control this behavior.\n",
      "  _warn_prf(average, modifier, msg_start, len(result))\n",
      "c:\\users\\chandima samarakoon\\appdata\\local\\programs\\python\\python37\\lib\\site-packages\\sklearn\\metrics\\_classification.py:1248: UndefinedMetricWarning: Precision and F-score are ill-defined and being set to 0.0 in labels with no predicted samples. Use `zero_division` parameter to control this behavior.\n",
      "  _warn_prf(average, modifier, msg_start, len(result))\n",
      "c:\\users\\chandima samarakoon\\appdata\\local\\programs\\python\\python37\\lib\\site-packages\\sklearn\\metrics\\_classification.py:1248: UndefinedMetricWarning: Precision and F-score are ill-defined and being set to 0.0 in labels with no predicted samples. Use `zero_division` parameter to control this behavior.\n",
      "  _warn_prf(average, modifier, msg_start, len(result))\n"
     ]
    }
   ],
   "source": [
    "from sklearn.metrics import classification_report\n",
    "from sklearn import metrics\n",
    "\n",
    "print(metrics.confusion_matrix(y_test,y_pred))\n",
    "\n",
    "print(metrics.classification_report(y_test,y_pred))\n",
    "\n"
   ]
  },
  {
   "cell_type": "code",
   "execution_count": null,
   "id": "521a1314",
   "metadata": {},
   "outputs": [],
   "source": []
  },
  {
   "cell_type": "code",
   "execution_count": 25,
   "id": "b5d25766",
   "metadata": {},
   "outputs": [
    {
     "name": "stdout",
     "output_type": "stream",
     "text": [
      "{'NN': array([-0.02681136,  0.01182151], dtype=float32), 'DT': array([0.25516748, 0.45046365], dtype=float32), 'JJ': array([-0.4651475 , -0.35584044], dtype=float32), 'IN': array([0.32294357, 0.4486494 ], dtype=float32), 'VBD': array([-0.2507714 , -0.18816864], dtype=float32), 'NNS': array([ 0.36902523, -0.07667363], dtype=float32), 'VBP': array([-0.22683072,  0.32770252], dtype=float32), 'PRP': array([-0.24300802, -0.09080088], dtype=float32)}\n"
     ]
    }
   ],
   "source": [
    "# from gensim.test.utils import common_texts\n",
    "from gensim.models import Word2Vec\n",
    "\n",
    "pos_tag_list = [['DT', 'JJ', 'NN', 'NN', 'VBD', 'IN', 'DT', 'NN'],\n",
    "                      ['DT','NN','VBD','IN','DT','NN'],['PRP','VBP','JJ','JJ','NNS']]\n",
    "w2v_model = Word2Vec(min_count=1,\n",
    "                 window=2,\n",
    "                 vector_size=2,\n",
    "                 sample=1e-5, \n",
    "                 alpha=0.01, \n",
    "                 min_alpha=0.0007, \n",
    "                 negative=0,\n",
    "                 workers=2)\n",
    "w2v_model.build_vocab(pos_tag_list, progress_per=1)\n",
    "w2v_model.train(pos_tag_list, total_examples=w2v_model.corpus_count, epochs=3, report_delay=1)\n",
    "\n",
    "# get the vectors for the Pos_tags from w2v_model\n",
    "my_dict = dict({})\n",
    "for index, key in enumerate(w2v_model.wv.key_to_index):\n",
    "    my_dict[key] = w2v_model.wv[key]\n",
    "\n",
    "print(my_dict)"
   ]
  },
  {
   "cell_type": "code",
   "execution_count": null,
   "id": "02335b5d",
   "metadata": {},
   "outputs": [],
   "source": []
  }
 ],
 "metadata": {
  "kernelspec": {
   "display_name": "Python 3",
   "language": "python",
   "name": "python3"
  },
  "language_info": {
   "codemirror_mode": {
    "name": "ipython",
    "version": 3
   },
   "file_extension": ".py",
   "mimetype": "text/x-python",
   "name": "python",
   "nbconvert_exporter": "python",
   "pygments_lexer": "ipython3",
   "version": "3.7.0"
  }
 },
 "nbformat": 4,
 "nbformat_minor": 5
}
