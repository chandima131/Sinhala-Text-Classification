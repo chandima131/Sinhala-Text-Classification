{
 "cells": [
  {
   "cell_type": "code",
   "execution_count": 1,
   "id": "6f7258d8",
   "metadata": {},
   "outputs": [
    {
     "name": "stdout",
     "output_type": "stream",
     "text": [
      "0       ශ්රී ලංකා හා දකුණු අප්රිකාව අතර අද පැවැත්වී නි...\n",
      "1                 අද තරඟ ක්රීඩා කරන කන්ඩායම දෙක චන්දි ඉන්\n",
      "2       ක්රීඩාවෙන් ජාත්යන්තර ජයගත් ඔබේ කතාව අනාගත පරම්...\n",
      "3            ඒසේනම් ප්රිය ක්රීඩා ලෝලී හිතවතුනි අද තමා දවස\n",
      "4       වත්මන ශ්රී ලංකා කණ්ඩායමට ලොකු ගමනක යා හැකි බව ...\n",
      "                              ...                        \n",
      "2007    මේ රටේ අසරන මිනිස්සුන් ඇස් වලින් වැටෙන කදුලක් ...\n",
      "2008      ගිය ආණ්ඩුව කාලයේ වරුන් උසාවි ගානේ බේරෙව්වේ මෙයා\n",
      "2009    තියෙනවා අප්පච්චි ගාව අස් වුණොත් උසාවි ගානේ රස්...\n",
      "2010    අඟහරුවාදා කොළඹට ලක්ෂයක එන්නේ මොකාටද යන්නේ කොහේ...\n",
      "2011    දැන් මහින්ද අප්පච්චි ගාව තියෙන ඔහුගේ සේරම එළිය...\n",
      "Name: STEMMING WORDS, Length: 2002, dtype: object\n",
      "0       Sport\n",
      "1       Sport\n",
      "2       Sport\n",
      "3       Sport\n",
      "4       Sport\n",
      "        ...  \n",
      "2007    Other\n",
      "2008    Other\n",
      "2009    Other\n",
      "2010    Other\n",
      "2011    Other\n",
      "Name: LABEL, Length: 2002, dtype: object\n"
     ]
    },
    {
     "data": {
      "text/html": [
       "<div>\n",
       "<style scoped>\n",
       "    .dataframe tbody tr th:only-of-type {\n",
       "        vertical-align: middle;\n",
       "    }\n",
       "\n",
       "    .dataframe tbody tr th {\n",
       "        vertical-align: top;\n",
       "    }\n",
       "\n",
       "    .dataframe thead th {\n",
       "        text-align: right;\n",
       "    }\n",
       "</style>\n",
       "<table border=\"1\" class=\"dataframe\">\n",
       "  <thead>\n",
       "    <tr style=\"text-align: right;\">\n",
       "      <th></th>\n",
       "      <th>Unnamed: 0</th>\n",
       "      <th>User</th>\n",
       "      <th>CREATED_AT</th>\n",
       "      <th>LABEL</th>\n",
       "      <th>STEMMING WORDS</th>\n",
       "      <th>LIKE COUNT</th>\n",
       "      <th>FOLLOWERS COUNT</th>\n",
       "      <th>RETWEET COUNT</th>\n",
       "    </tr>\n",
       "  </thead>\n",
       "  <tbody>\n",
       "    <tr>\n",
       "      <th>0</th>\n",
       "      <td>1.0</td>\n",
       "      <td>1.436330e+18</td>\n",
       "      <td>9/10/2021 13:53</td>\n",
       "      <td>Sport</td>\n",
       "      <td>ශ්රී ලංකා හා දකුණු අප්රිකාව අතර අද පැවැත්වී නි...</td>\n",
       "      <td>0</td>\n",
       "      <td>116</td>\n",
       "      <td>0</td>\n",
       "    </tr>\n",
       "    <tr>\n",
       "      <th>1</th>\n",
       "      <td>2.0</td>\n",
       "      <td>1.436320e+18</td>\n",
       "      <td>9/10/2021 13:09</td>\n",
       "      <td>Sport</td>\n",
       "      <td>අද තරඟ ක්රීඩා කරන කන්ඩායම දෙක චන්දි ඉන්</td>\n",
       "      <td>3</td>\n",
       "      <td>1344</td>\n",
       "      <td>0</td>\n",
       "    </tr>\n",
       "    <tr>\n",
       "      <th>2</th>\n",
       "      <td>3.0</td>\n",
       "      <td>1.436180e+18</td>\n",
       "      <td>9/10/2021 4:11</td>\n",
       "      <td>Sport</td>\n",
       "      <td>ක්රීඩාවෙන් ජාත්යන්තර ජයගත් ඔබේ කතාව අනාගත පරම්...</td>\n",
       "      <td>0</td>\n",
       "      <td>373</td>\n",
       "      <td>0</td>\n",
       "    </tr>\n",
       "    <tr>\n",
       "      <th>3</th>\n",
       "      <td>4.0</td>\n",
       "      <td>1.436140e+18</td>\n",
       "      <td>9/10/2021 1:30</td>\n",
       "      <td>Sport</td>\n",
       "      <td>ඒසේනම් ප්රිය ක්රීඩා ලෝලී හිතවතුනි අද තමා දවස</td>\n",
       "      <td>5</td>\n",
       "      <td>88</td>\n",
       "      <td>0</td>\n",
       "    </tr>\n",
       "    <tr>\n",
       "      <th>4</th>\n",
       "      <td>5.0</td>\n",
       "      <td>1.436040e+18</td>\n",
       "      <td>9/9/2021 18:43</td>\n",
       "      <td>Sport</td>\n",
       "      <td>වත්මන ශ්රී ලංකා කණ්ඩායමට ලොකු ගමනක යා හැකි බව ...</td>\n",
       "      <td>7</td>\n",
       "      <td>7425</td>\n",
       "      <td>0</td>\n",
       "    </tr>\n",
       "  </tbody>\n",
       "</table>\n",
       "</div>"
      ],
      "text/plain": [
       "   Unnamed: 0          User       CREATED_AT  LABEL  \\\n",
       "0         1.0  1.436330e+18  9/10/2021 13:53  Sport   \n",
       "1         2.0  1.436320e+18  9/10/2021 13:09  Sport   \n",
       "2         3.0  1.436180e+18   9/10/2021 4:11  Sport   \n",
       "3         4.0  1.436140e+18   9/10/2021 1:30  Sport   \n",
       "4         5.0  1.436040e+18   9/9/2021 18:43  Sport   \n",
       "\n",
       "                                      STEMMING WORDS  LIKE COUNT  \\\n",
       "0  ශ්රී ලංකා හා දකුණු අප්රිකාව අතර අද පැවැත්වී නි...           0   \n",
       "1            අද තරඟ ක්රීඩා කරන කන්ඩායම දෙක චන්දි ඉන්           3   \n",
       "2  ක්රීඩාවෙන් ජාත්යන්තර ජයගත් ඔබේ කතාව අනාගත පරම්...           0   \n",
       "3       ඒසේනම් ප්රිය ක්රීඩා ලෝලී හිතවතුනි අද තමා දවස           5   \n",
       "4  වත්මන ශ්රී ලංකා කණ්ඩායමට ලොකු ගමනක යා හැකි බව ...           7   \n",
       "\n",
       "   FOLLOWERS COUNT  RETWEET COUNT  \n",
       "0              116              0  \n",
       "1             1344              0  \n",
       "2              373              0  \n",
       "3               88              0  \n",
       "4             7425              0  "
      ]
     },
     "execution_count": 1,
     "metadata": {},
     "output_type": "execute_result"
    }
   ],
   "source": [
    "import numpy as np\n",
    "import pandas as pd\n",
    "import itertools\n",
    "from sklearn.model_selection import train_test_split\n",
    "from sklearn.feature_extraction.text import TfidfVectorizer\n",
    "from sklearn.linear_model import PassiveAggressiveClassifier\n",
    "from sklearn.metrics import accuracy_score, confusion_matrix\n",
    "import matplotlib.pyplot as plt\n",
    "from collections import Counter\n",
    "   \n",
    "    #from sklearn import naive_bayes, metrics, svm\n",
    "from IPython.display import Image\n",
    "import warnings\n",
    "warnings.filterwarnings(\"ignore\")\n",
    "#     %matplotlib inline\n",
    "\n",
    "df = pd.read_csv('FinalListPreprocessedDataNew.csv')\n",
    "\n",
    "df = df.dropna()\n",
    "X=df['STEMMING WORDS']\n",
    "y=df['LABEL']\n",
    "\n",
    "print(X)\n",
    "\n",
    "print(y)\n",
    "\n",
    "y.value_counts()\n",
    "\n",
    "df.shape\n",
    "\n",
    "df.head()"
   ]
  },
  {
   "cell_type": "code",
   "execution_count": 2,
   "id": "4620617f",
   "metadata": {},
   "outputs": [
    {
     "data": {
      "image/png": "[encoded data removed]",
      "text/plain": [
       "<Figure size 432x288 with 1 Axes>"
      ]
     },
     "metadata": {
      "needs_background": "light"
     },
     "output_type": "display_data"
    },
    {
     "data": {
      "image/png": "[encoded data removed]",
      "text/plain": [
       "<Figure size 432x288 with 1 Axes>"
      ]
     },
     "metadata": {},
     "output_type": "display_data"
    }
   ],
   "source": [
    "count_Class=pd.value_counts(df[\"LABEL\"], sort= True)\n",
    "count_Class.plot(kind= 'bar', color= [\"blue\", \"orange\",\"yellow\",\"Green\",\"Red\"])\n",
    "plt.title('Bar chart')\n",
    "plt.show()\n",
    "\n",
    "count_Class.plot(kind = 'pie',  autopct='%1.0f%%')\n",
    "plt.title('Pie chart')\n",
    "plt.ylabel('')\n",
    "plt.show()"
   ]
  },
  {
   "cell_type": "code",
   "execution_count": 3,
   "id": "d99070a8",
   "metadata": {},
   "outputs": [
    {
     "name": "stdout",
     "output_type": "stream",
     "text": [
      "2013\n"
     ]
    },
    {
     "data": {
      "text/plain": [
       "Other            578\n",
       "Sport            385\n",
       "Politics         375\n",
       "Crime            354\n",
       "Entertainment    310\n",
       "Name: LABEL, dtype: int64"
      ]
     },
     "execution_count": 3,
     "metadata": {},
     "output_type": "execute_result"
    }
   ],
   "source": [
    "csvfile = open('FinalListPreprocessedDataNew.csv', encoding=\"utf-8\")\n",
    "lines= len(csvfile.readlines())\n",
    "print(lines)\n",
    "df['LABEL'].value_counts()"
   ]
  },
  {
   "cell_type": "markdown",
   "id": "6f752679",
   "metadata": {},
   "source": [
    "# SVM"
   ]
  },
  {
   "cell_type": "code",
   "execution_count": 4,
   "id": "9317712c",
   "metadata": {},
   "outputs": [
    {
     "name": "stdout",
     "output_type": "stream",
     "text": [
      "[[ 82   2  18   9   3]\n",
      " [  4  61  27   4   8]\n",
      " [ 11  17 117  37   8]\n",
      " [  2   2  21  88   2]\n",
      " [ 10   6  23   9  90]]\n",
      "               precision    recall  f1-score   support\n",
      "\n",
      "        Crime       0.75      0.72      0.74       114\n",
      "Entertainment       0.69      0.59      0.64       104\n",
      "        Other       0.57      0.62      0.59       190\n",
      "     Politics       0.60      0.77      0.67       115\n",
      "        Sport       0.81      0.65      0.72       138\n",
      "\n",
      "     accuracy                           0.66       661\n",
      "    macro avg       0.68      0.67      0.67       661\n",
      " weighted avg       0.68      0.66      0.66       661\n",
      "\n"
     ]
    }
   ],
   "source": [
    "from sklearn.model_selection import train_test_split\n",
    "\n",
    "X = df['STEMMING WORDS'] \n",
    "y = df['LABEL']\n",
    "\n",
    "X_train, X_test, y_train, y_test = train_test_split(X, y, test_size=0.33, random_state=42)\n",
    "\n",
    "from sklearn.feature_extraction.text import TfidfVectorizer\n",
    "vectorizer = TfidfVectorizer()\n",
    "\n",
    "X_train_tfidf = vectorizer.fit_transform(X_train) # remember to use the original X_train set\n",
    "X_train_tfidf.shape\n",
    "\n",
    "from sklearn.svm import LinearSVC\n",
    "clf = LinearSVC()\n",
    "clf.fit(X_train_tfidf,y_train)\n",
    "\n",
    "from sklearn.pipeline import Pipeline\n",
    "# from sklearn.feature_extraction.text import TfidfVectorizer\n",
    "# from sklearn.svm import LinearSVC\n",
    "\n",
    "text_clf = Pipeline([('tfidf', TfidfVectorizer(analyzer = 'word', max_features = 10000, ngram_range=(1,2))),\n",
    "                     ('clf', LinearSVC()),\n",
    "])\n",
    "#\n",
    "# Feed the training data through the pipeline\n",
    "text_clf.fit(X_train, y_train)\n",
    "\n",
    "predictions = text_clf.predict(X_test)\n",
    "from sklearn import metrics\n",
    "print(metrics.confusion_matrix(y_test,predictions))\n",
    "\n",
    "print(metrics.classification_report(y_test,predictions))\n",
    "\n"
   ]
  },
  {
   "cell_type": "markdown",
   "id": "b18917a1",
   "metadata": {},
   "source": [
    "# Logestic Regression"
   ]
  },
  {
   "cell_type": "code",
   "execution_count": 5,
   "id": "fb26bbb9",
   "metadata": {},
   "outputs": [
    {
     "name": "stdout",
     "output_type": "stream",
     "text": [
      "[[ 75   0  30   8   1]\n",
      " [  1  41  55   1   6]\n",
      " [  9   9 137  29   6]\n",
      " [  2   0  28  84   1]\n",
      " [  6   4  32  10  86]]\n",
      "               precision    recall  f1-score   support\n",
      "\n",
      "        Crime       0.81      0.66      0.72       114\n",
      "Entertainment       0.76      0.39      0.52       104\n",
      "        Other       0.49      0.72      0.58       190\n",
      "     Politics       0.64      0.73      0.68       115\n",
      "        Sport       0.86      0.62      0.72       138\n",
      "\n",
      "     accuracy                           0.64       661\n",
      "    macro avg       0.71      0.63      0.65       661\n",
      " weighted avg       0.69      0.64      0.64       661\n",
      "\n"
     ]
    }
   ],
   "source": [
    "from sklearn.model_selection import train_test_split\n",
    "\n",
    "X = df['STEMMING WORDS'] \n",
    "y = df['LABEL']\n",
    "\n",
    "X_train, X_test, y_train, y_test = train_test_split(X, y, test_size=0.33, random_state=42)\n",
    "from sklearn.feature_extraction.text import TfidfVectorizer\n",
    "vectorizer = TfidfVectorizer()\n",
    "\n",
    "X_train_tfidf = vectorizer.fit_transform(X_train) # remember to use the original X_train set\n",
    "X_train_tfidf.shape\n",
    "\n",
    "from sklearn.linear_model import LogisticRegression\n",
    "model = LogisticRegression()\n",
    "\n",
    "model.fit(X_train_tfidf,y_train)\n",
    "\n",
    "from sklearn.pipeline import Pipeline\n",
    "# from sklearn.feature_extraction.text import TfidfVectorizer\n",
    "# from sklearn.svm import LinearSVC\n",
    "\n",
    "logistic_text_clf = Pipeline([('tfidf', TfidfVectorizer(analyzer = 'word', max_features = 10000, ngram_range=(1,2))),\n",
    "                     ('model', LogisticRegression()),\n",
    "])\n",
    "#\n",
    "# Feed the training data through the pipeline\n",
    "logistic_text_clf.fit(X_train, y_train)\n",
    "\n",
    "logistic_predictions = logistic_text_clf.predict(X_test)\n",
    "from sklearn import metrics\n",
    "print(metrics.confusion_matrix(y_test,logistic_predictions))\n",
    "\n",
    "print(metrics.classification_report(y_test,logistic_predictions))\n",
    "\n"
   ]
  },
  {
   "cell_type": "markdown",
   "id": "5ee59032",
   "metadata": {},
   "source": [
    "# Naive Bayes"
   ]
  },
  {
   "cell_type": "code",
   "execution_count": 6,
   "id": "29bf2013",
   "metadata": {},
   "outputs": [
    {
     "name": "stdout",
     "output_type": "stream",
     "text": [
      "[[ 61   0  49   3   1]\n",
      " [  0   3  96   1   4]\n",
      " [  3   0 180   5   2]\n",
      " [  0   0  61  53   1]\n",
      " [  3   0  54   5  76]]\n",
      "               precision    recall  f1-score   support\n",
      "\n",
      "        Crime       0.91      0.54      0.67       114\n",
      "Entertainment       1.00      0.03      0.06       104\n",
      "        Other       0.41      0.95      0.57       190\n",
      "     Politics       0.79      0.46      0.58       115\n",
      "        Sport       0.90      0.55      0.68       138\n",
      "\n",
      "     accuracy                           0.56       661\n",
      "    macro avg       0.80      0.50      0.51       661\n",
      " weighted avg       0.76      0.56      0.53       661\n",
      "\n"
     ]
    }
   ],
   "source": [
    "from sklearn.model_selection import train_test_split\n",
    "\n",
    "X = df['STEMMING WORDS'] \n",
    "y = df['LABEL']\n",
    "\n",
    "X_train, X_test, y_train, y_test = train_test_split(X, y, test_size=0.33, random_state=42)\n",
    "from sklearn.feature_extraction.text import TfidfVectorizer\n",
    "vectorizer = TfidfVectorizer()\n",
    "\n",
    "X_train_tfidf = vectorizer.fit_transform(X_train) # remember to use the original X_train set\n",
    "X_train_tfidf.shape\n",
    "\n",
    "from sklearn.naive_bayes import MultinomialNB\n",
    "mnb = MultinomialNB()\n",
    "mnb.fit(X_train_tfidf,y_train)\n",
    "\n",
    "from sklearn.pipeline import Pipeline\n",
    "# from sklearn.feature_extraction.text import TfidfVectorizer\n",
    "# from sklearn.svm import LinearSVC\n",
    "\n",
    "NB_text_clf = Pipeline([('tfidf', TfidfVectorizer(analyzer = 'word', max_features = 10000, ngram_range=(1,2))),\n",
    "                     ('mnb', MultinomialNB()),\n",
    "])\n",
    "#\n",
    "# Feed the training data through the pipeline\n",
    "NB_text_clf.fit(X_train, y_train)\n",
    "\n",
    "NB_predictions = NB_text_clf.predict(X_test)\n",
    "from sklearn import metrics\n",
    "print(metrics.confusion_matrix(y_test,NB_predictions))\n",
    "\n",
    "print(metrics.classification_report(y_test,NB_predictions))\n",
    "\n"
   ]
  },
  {
   "cell_type": "markdown",
   "id": "90b441b1",
   "metadata": {},
   "source": [
    "# KNN"
   ]
  },
  {
   "cell_type": "code",
   "execution_count": 7,
   "id": "34d6d014",
   "metadata": {},
   "outputs": [
    {
     "name": "stdout",
     "output_type": "stream",
     "text": [
      "[[ 13  99   1   1   0]\n",
      " [  0 104   0   0   0]\n",
      " [  0 176  13   1   0]\n",
      " [  0 109   0   6   0]\n",
      " [  0 133   0   0   5]]\n",
      "               precision    recall  f1-score   support\n",
      "\n",
      "        Crime       1.00      0.11      0.20       114\n",
      "Entertainment       0.17      1.00      0.29       104\n",
      "        Other       0.93      0.07      0.13       190\n",
      "     Politics       0.75      0.05      0.10       115\n",
      "        Sport       1.00      0.04      0.07       138\n",
      "\n",
      "     accuracy                           0.21       661\n",
      "    macro avg       0.77      0.25      0.16       661\n",
      " weighted avg       0.80      0.21      0.15       661\n",
      "\n"
     ]
    }
   ],
   "source": [
    "from sklearn.model_selection import train_test_split\n",
    "\n",
    "X = df['STEMMING WORDS'] \n",
    "y = df['LABEL']\n",
    "\n",
    "X_train, X_test, y_train, y_test = train_test_split(X, y, test_size=0.33, random_state=42)\n",
    "from sklearn.feature_extraction.text import TfidfVectorizer\n",
    "vectorizer = TfidfVectorizer()\n",
    "\n",
    "X_train_tfidf = vectorizer.fit_transform(X_train) # remember to use the original X_train set\n",
    "X_train_tfidf.shape\n",
    "\n",
    "from sklearn.neighbors import KNeighborsClassifier\n",
    "neigh = KNeighborsClassifier(n_neighbors=3)\n",
    "neigh.fit(X_train_tfidf,y_train)\n",
    "\n",
    "from sklearn.pipeline import Pipeline\n",
    "# from sklearn.feature_extraction.text import TfidfVectorizer\n",
    "# from sklearn.svm import LinearSVC\n",
    "\n",
    "KNN_text_clf = Pipeline([('tfidf', TfidfVectorizer(analyzer = 'word', max_features = 10000, ngram_range=(1,3))),\n",
    "                     ('neigh', KNeighborsClassifier(n_neighbors=3)),\n",
    "])\n",
    "#\n",
    "# Feed the training data through the pipeline\n",
    "KNN_text_clf.fit(X_train, y_train)\n",
    "KNN_predictions = KNN_text_clf.predict(X_test)\n",
    "\n",
    "from sklearn import metrics\n",
    "\n",
    "print(metrics.confusion_matrix(y_test,KNN_predictions))\n",
    "print(metrics.classification_report(y_test,KNN_predictions))\n"
   ]
  },
  {
   "cell_type": "markdown",
   "id": "18482416",
   "metadata": {},
   "source": [
    "# SGD"
   ]
  },
  {
   "cell_type": "code",
   "execution_count": 8,
   "id": "d4b02242",
   "metadata": {},
   "outputs": [
    {
     "name": "stdout",
     "output_type": "stream",
     "text": [
      "[[ 81   2  19   9   3]\n",
      " [  4  53  29   5  13]\n",
      " [ 13  21 109  35  12]\n",
      " [  2   3  18  89   3]\n",
      " [  9  11  16   7  95]]\n",
      "               precision    recall  f1-score   support\n",
      "\n",
      "        Crime       0.74      0.71      0.73       114\n",
      "Entertainment       0.59      0.51      0.55       104\n",
      "        Other       0.57      0.57      0.57       190\n",
      "     Politics       0.61      0.77      0.68       115\n",
      "        Sport       0.75      0.69      0.72       138\n",
      "\n",
      "     accuracy                           0.65       661\n",
      "    macro avg       0.65      0.65      0.65       661\n",
      " weighted avg       0.65      0.65      0.65       661\n",
      "\n"
     ]
    }
   ],
   "source": [
    "import numpy as np\n",
    "from sklearn.linear_model import SGDClassifier\n",
    "from sklearn.preprocessing import StandardScaler\n",
    "from sklearn.pipeline import make_pipeline\n",
    "from sklearn.feature_extraction.text import TfidfVectorizer\n",
    "\n",
    "X = df['STEMMING WORDS'] \n",
    "y = df['LABEL']\n",
    "\n",
    "X_train, X_test, y_train, y_test = train_test_split(X, y, test_size=0.33, random_state=42)\n",
    "\n",
    "vectorizer = TfidfVectorizer()\n",
    "\n",
    "X_train_tfidf = vectorizer.fit_transform(X_train) # remember to use the original X_train set\n",
    "X_train_tfidf.shape\n",
    "\n",
    "\n",
    "sdg = SGDClassifier(max_iter=1000, tol=1e-3)\n",
    "sdg.fit(X_train_tfidf,y_train)\n",
    "\n",
    "from sklearn.pipeline import Pipeline\n",
    "# from sklearn.feature_extraction.text import TfidfVectorizer\n",
    "# from sklearn.svm import LinearSVC\n",
    "\n",
    "SDG_text_clf = Pipeline([('tfidf', TfidfVectorizer(analyzer = 'word', max_features = 10000, ngram_range=(1,3))),\n",
    "                     ('sdg', SGDClassifier(max_iter=1000, tol=1e-3)),\n",
    "])\n",
    "#\n",
    "# Feed the training data through the pipeline\n",
    "SDG_text_clf.fit(X_train, y_train)\n",
    "SDG_predictions = SDG_text_clf.predict(X_test)\n",
    "\n",
    "from sklearn import metrics\n",
    "\n",
    "print(metrics.confusion_matrix(y_test,SDG_predictions))\n",
    "print(metrics.classification_report(y_test,SDG_predictions))\n"
   ]
  },
  {
   "cell_type": "code",
   "execution_count": 9,
   "id": "46faf239",
   "metadata": {},
   "outputs": [
    {
     "name": "stdout",
     "output_type": "stream",
     "text": [
      "['Entertainment']\n",
      "['Entertainment']\n",
      "['Entertainment']\n"
     ]
    }
   ],
   "source": [
    "predi = KNN_text_clf.predict([\"ඔලිම්පික් ක්‍රීඩාවේ නිරත වන්නන් ටෝකියෝ බලා පිටත් වේ\"])\n",
    "print(predi)\n",
    "predi = KNN_text_clf.predict([\"ගුරු වැටුප් විෂමතා වලට විසඳුම් ලැබේ\"])\n",
    "print(predi)\n",
    "predi = KNN_text_clf.predict([\" ටෝකියෝ අත්අඩංගුවට පත්වේ\"])\n",
    "print(predi)"
   ]
  },
  {
   "cell_type": "code",
   "execution_count": null,
   "id": "8c8b8f23",
   "metadata": {},
   "outputs": [],
   "source": []
  },
  {
   "cell_type": "code",
   "execution_count": null,
   "id": "a5caf972",
   "metadata": {},
   "outputs": [],
   "source": []
  }
 ],
 "metadata": {
  "kernelspec": {
   "display_name": "Python 3",
   "language": "python",
   "name": "python3"
  },
  "language_info": {
   "codemirror_mode": {
    "name": "ipython",
    "version": 3
   },
   "file_extension": ".py",
   "mimetype": "text/x-python",
   "name": "python",
   "nbconvert_exporter": "python",
   "pygments_lexer": "ipython3",
   "version": "3.7.0"
  }
 },
 "nbformat": 4,
 "nbformat_minor": 5
}
