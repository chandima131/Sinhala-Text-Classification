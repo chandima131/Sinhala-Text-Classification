{
 "cells": [
  {
   "cell_type": "code",
   "execution_count": 1,
   "id": "cec4c2a1",
   "metadata": {},
   "outputs": [
    {
     "name": "stdout",
     "output_type": "stream",
     "text": [
      "Requirement already satisfied: spacy in c:\\users\\chandima samarakoon\\appdata\\local\\programs\\python\\python37\\lib\\site-packages (3.0.6)"
     ]
    },
    {
     "name": "stderr",
     "output_type": "stream",
     "text": [
      "WARNING: You are using pip version 21.1.3; however, version 21.2.4 is available.\n",
      "You should consider upgrading via the 'c:\\users\\chandima samarakoon\\appdata\\local\\programs\\python\\python37\\python.exe -m pip install --upgrade pip' command.\n"
     ]
    },
    {
     "name": "stdout",
     "output_type": "stream",
     "text": [
      "\n",
      "Requirement already satisfied: blis<0.8.0,>=0.4.0 in c:\\users\\chandima samarakoon\\appdata\\local\\programs\\python\\python37\\lib\\site-packages (from spacy) (0.7.4)\n",
      "Requirement already satisfied: srsly<3.0.0,>=2.4.1 in c:\\users\\chandima samarakoon\\appdata\\local\\programs\\python\\python37\\lib\\site-packages (from spacy) (2.4.1)\n",
      "Requirement already satisfied: requests<3.0.0,>=2.13.0 in c:\\users\\chandima samarakoon\\appdata\\local\\programs\\python\\python37\\lib\\site-packages (from spacy) (2.25.1)\n",
      "Requirement already satisfied: typing-extensions<4.0.0.0,>=3.7.4 in c:\\users\\chandima samarakoon\\appdata\\local\\programs\\python\\python37\\lib\\site-packages (from spacy) (3.7.4.3)\n",
      "Requirement already satisfied: packaging>=20.0 in c:\\users\\chandima samarakoon\\appdata\\local\\programs\\python\\python37\\lib\\site-packages (from spacy) (20.9)\n",
      "Requirement already satisfied: catalogue<2.1.0,>=2.0.3 in c:\\users\\chandima samarakoon\\appdata\\local\\programs\\python\\python37\\lib\\site-packages (from spacy) (2.0.3)\n",
      "Requirement already satisfied: tqdm<5.0.0,>=4.38.0 in c:\\users\\chandima samarakoon\\appdata\\local\\programs\\python\\python37\\lib\\site-packages (from spacy) (4.60.0)\n",
      "Requirement already satisfied: pydantic<1.8.0,>=1.7.1 in c:\\users\\chandima samarakoon\\appdata\\local\\programs\\python\\python37\\lib\\site-packages (from spacy) (1.7.3)\n",
      "Requirement already satisfied: cymem<2.1.0,>=2.0.2 in c:\\users\\chandima samarakoon\\appdata\\local\\programs\\python\\python37\\lib\\site-packages (from spacy) (2.0.5)\n",
      "Requirement already satisfied: setuptools in c:\\users\\chandima samarakoon\\appdata\\local\\programs\\python\\python37\\lib\\site-packages (from spacy) (39.0.1)\n",
      "Requirement already satisfied: numpy>=1.15.0 in c:\\users\\chandima samarakoon\\appdata\\local\\programs\\python\\python37\\lib\\site-packages (from spacy) (1.20.2)\n",
      "Requirement already satisfied: murmurhash<1.1.0,>=0.28.0 in c:\\users\\chandima samarakoon\\appdata\\local\\programs\\python\\python37\\lib\\site-packages (from spacy) (1.0.5)\n",
      "Requirement already satisfied: wasabi<1.1.0,>=0.8.1 in c:\\users\\chandima samarakoon\\appdata\\local\\programs\\python\\python37\\lib\\site-packages (from spacy) (0.8.2)\n",
      "Requirement already satisfied: preshed<3.1.0,>=3.0.2 in c:\\users\\chandima samarakoon\\appdata\\local\\programs\\python\\python37\\lib\\site-packages (from spacy) (3.0.5)\n",
      "Requirement already satisfied: spacy-legacy<3.1.0,>=3.0.4 in c:\\users\\chandima samarakoon\\appdata\\local\\programs\\python\\python37\\lib\\site-packages (from spacy) (3.0.5)\n",
      "Requirement already satisfied: typer<0.4.0,>=0.3.0 in c:\\users\\chandima samarakoon\\appdata\\local\\programs\\python\\python37\\lib\\site-packages (from spacy) (0.3.2)\n",
      "Requirement already satisfied: thinc<8.1.0,>=8.0.3 in c:\\users\\chandima samarakoon\\appdata\\local\\programs\\python\\python37\\lib\\site-packages (from spacy) (8.0.3)\n",
      "Requirement already satisfied: pathy>=0.3.5 in c:\\users\\chandima samarakoon\\appdata\\local\\programs\\python\\python37\\lib\\site-packages (from spacy) (0.5.2)\n",
      "Requirement already satisfied: jinja2 in c:\\users\\chandima samarakoon\\appdata\\local\\programs\\python\\python37\\lib\\site-packages (from spacy) (2.11.3)\n",
      "Requirement already satisfied: zipp>=0.5 in c:\\users\\chandima samarakoon\\appdata\\local\\programs\\python\\python37\\lib\\site-packages (from catalogue<2.1.0,>=2.0.3->spacy) (3.4.1)\n",
      "Requirement already satisfied: pyparsing>=2.0.2 in c:\\users\\chandima samarakoon\\appdata\\local\\programs\\python\\python37\\lib\\site-packages (from packaging>=20.0->spacy) (2.4.7)\n",
      "Requirement already satisfied: smart-open<4.0.0,>=2.2.0 in c:\\users\\chandima samarakoon\\appdata\\local\\programs\\python\\python37\\lib\\site-packages (from pathy>=0.3.5->spacy) (3.0.0)\n",
      "Requirement already satisfied: urllib3<1.27,>=1.21.1 in c:\\users\\chandima samarakoon\\appdata\\local\\programs\\python\\python37\\lib\\site-packages (from requests<3.0.0,>=2.13.0->spacy) (1.26.4)\n",
      "Requirement already satisfied: certifi>=2017.4.17 in c:\\users\\chandima samarakoon\\appdata\\local\\programs\\python\\python37\\lib\\site-packages (from requests<3.0.0,>=2.13.0->spacy) (2020.12.5)\n",
      "Requirement already satisfied: idna<3,>=2.5 in c:\\users\\chandima samarakoon\\appdata\\local\\programs\\python\\python37\\lib\\site-packages (from requests<3.0.0,>=2.13.0->spacy) (2.10)\n",
      "Requirement already satisfied: chardet<5,>=3.0.2 in c:\\users\\chandima samarakoon\\appdata\\local\\programs\\python\\python37\\lib\\site-packages (from requests<3.0.0,>=2.13.0->spacy) (4.0.0)\n",
      "Requirement already satisfied: click<7.2.0,>=7.1.1 in c:\\users\\chandima samarakoon\\appdata\\local\\programs\\python\\python37\\lib\\site-packages (from typer<0.4.0,>=0.3.0->spacy) (7.1.2)\n",
      "Requirement already satisfied: MarkupSafe>=0.23 in c:\\users\\chandima samarakoon\\appdata\\local\\programs\\python\\python37\\lib\\site-packages (from jinja2->spacy) (1.1.1)\n"
     ]
    }
   ],
   "source": [
    "!pip install spacy"
   ]
  },
  {
   "cell_type": "code",
   "execution_count": 2,
   "id": "b5b04c4a",
   "metadata": {},
   "outputs": [
    {
     "name": "stdout",
     "output_type": "stream",
     "text": [
      "Requirement already satisfied: spacy in c:\\users\\chandima samarakoon\\appdata\\local\\programs\\python\\python37\\lib\\site-packages (3.0.6)\n",
      "Collecting spacy\n",
      "  Downloading spacy-3.1.2-cp37-cp37m-win_amd64.whl (11.8 MB)\n",
      "Requirement already satisfied: jinja2 in c:\\users\\chandima samarakoon\\appdata\\local\\programs\\python\\python37\\lib\\site-packages (from spacy) (2.11.3)\n",
      "Collecting spacy-legacy<3.1.0,>=3.0.7\n",
      "  Downloading spacy_legacy-3.0.8-py2.py3-none-any.whl (14 kB)\n",
      "Collecting pydantic!=1.8,!=1.8.1,<1.9.0,>=1.7.4\n",
      "  Downloading pydantic-1.8.2-cp37-cp37m-win_amd64.whl (1.9 MB)\n",
      "Requirement already satisfied: typing-extensions<4.0.0.0,>=3.7.4 in c:\\users\\chandima samarakoon\\appdata\\local\\programs\\python\\python37\\lib\\site-packages (from spacy) (3.7.4.3)\n",
      "Requirement already satisfied: setuptools in c:\\users\\chandima samarakoon\\appdata\\local\\programs\\python\\python37\\lib\\site-packages (from spacy) (39.0.1)\n",
      "Requirement already satisfied: wasabi<1.1.0,>=0.8.1 in c:\\users\\chandima samarakoon\\appdata\\local\\programs\\python\\python37\\lib\\site-packages (from spacy) (0.8.2)\n",
      "Collecting thinc<8.1.0,>=8.0.8\n",
      "  Downloading thinc-8.0.10-cp37-cp37m-win_amd64.whl (1.0 MB)\n",
      "Requirement already satisfied: srsly<3.0.0,>=2.4.1 in c:\\users\\chandima samarakoon\\appdata\\local\\programs\\python\\python37\\lib\\site-packages (from spacy) (2.4.1)\n",
      "Requirement already satisfied: preshed<3.1.0,>=3.0.2 in c:\\users\\chandima samarakoon\\appdata\\local\\programs\\python\\python37\\lib\\site-packages (from spacy) (3.0.5)\n",
      "Requirement already satisfied: numpy>=1.15.0 in c:\\users\\chandima samarakoon\\appdata\\local\\programs\\python\\python37\\lib\\site-packages (from spacy) (1.20.2)\n",
      "Requirement already satisfied: murmurhash<1.1.0,>=0.28.0 in c:\\users\\chandima samarakoon\\appdata\\local\\programs\\python\\python37\\lib\\site-packages (from spacy) (1.0.5)\n",
      "Collecting catalogue<2.1.0,>=2.0.4\n",
      "  Downloading catalogue-2.0.6-py3-none-any.whl (17 kB)\n",
      "Requirement already satisfied: packaging>=20.0 in c:\\users\\chandima samarakoon\\appdata\\local\\programs\\python\\python37\\lib\\site-packages (from spacy) (20.9)\n",
      "Requirement already satisfied: tqdm<5.0.0,>=4.38.0 in c:\\users\\chandima samarakoon\\appdata\\local\\programs\\python\\python37\\lib\\site-packages (from spacy) (4.60.0)\n",
      "Requirement already satisfied: cymem<2.1.0,>=2.0.2 in c:\\users\\chandima samarakoon\\appdata\\local\\programs\\python\\python37\\lib\\site-packages (from spacy) (2.0.5)\n",
      "Requirement already satisfied: typer<0.4.0,>=0.3.0 in c:\\users\\chandima samarakoon\\appdata\\local\\programs\\python\\python37\\lib\\site-packages (from spacy) (0.3.2)\n",
      "Requirement already satisfied: requests<3.0.0,>=2.13.0 in c:\\users\\chandima samarakoon\\appdata\\local\\programs\\python\\python37\\lib\\site-packages (from spacy) (2.25.1)\n",
      "Requirement already satisfied: pathy>=0.3.5 in c:\\users\\chandima samarakoon\\appdata\\local\\programs\\python\\python37\\lib\\site-packages (from spacy) (0.5.2)\n",
      "Requirement already satisfied: blis<0.8.0,>=0.4.0 in c:\\users\\chandima samarakoon\\appdata\\local\\programs\\python\\python37\\lib\\site-packages (from spacy) (0.7.4)\n",
      "Requirement already satisfied: zipp>=0.5 in c:\\users\\chandima samarakoon\\appdata\\local\\programs\\python\\python37\\lib\\site-packages (from catalogue<2.1.0,>=2.0.4->spacy) (3.4.1)\n",
      "Requirement already satisfied: pyparsing>=2.0.2 in c:\\users\\chandima samarakoon\\appdata\\local\\programs\\python\\python37\\lib\\site-packages (from packaging>=20.0->spacy) (2.4.7)\n",
      "Requirement already satisfied: smart-open<4.0.0,>=2.2.0 in c:\\users\\chandima samarakoon\\appdata\\local\\programs\\python\\python37\\lib\\site-packages (from pathy>=0.3.5->spacy) (3.0.0)\n",
      "Requirement already satisfied: chardet<5,>=3.0.2 in c:\\users\\chandima samarakoon\\appdata\\local\\programs\\python\\python37\\lib\\site-packages (from requests<3.0.0,>=2.13.0->spacy) (4.0.0)\n",
      "Requirement already satisfied: urllib3<1.27,>=1.21.1 in c:\\users\\chandima samarakoon\\appdata\\local\\programs\\python\\python37\\lib\\site-packages (from requests<3.0.0,>=2.13.0->spacy) (1.26.4)\n",
      "Requirement already satisfied: certifi>=2017.4.17 in c:\\users\\chandima samarakoon\\appdata\\local\\programs\\python\\python37\\lib\\site-packages (from requests<3.0.0,>=2.13.0->spacy) (2020.12.5)\n",
      "Requirement already satisfied: idna<3,>=2.5 in c:\\users\\chandima samarakoon\\appdata\\local\\programs\\python\\python37\\lib\\site-packages (from requests<3.0.0,>=2.13.0->spacy) (2.10)\n",
      "Requirement already satisfied: click<7.2.0,>=7.1.1 in c:\\users\\chandima samarakoon\\appdata\\local\\programs\\python\\python37\\lib\\site-packages (from typer<0.4.0,>=0.3.0->spacy) (7.1.2)\n",
      "Requirement already satisfied: MarkupSafe>=0.23 in c:\\users\\chandima samarakoon\\appdata\\local\\programs\\python\\python37\\lib\\site-packages (from jinja2->spacy) (1.1.1)\n",
      "Installing collected packages: catalogue, pydantic, thinc, spacy-legacy, spacy\n",
      "  Attempting uninstall: catalogue\n",
      "    Found existing installation: catalogue 2.0.3\n",
      "    Uninstalling catalogue-2.0.3:\n",
      "      Successfully uninstalled catalogue-2.0.3\n",
      "  Attempting uninstall: pydantic\n",
      "    Found existing installation: pydantic 1.7.3\n",
      "    Uninstalling pydantic-1.7.3:\n",
      "      Successfully uninstalled pydantic-1.7.3\n",
      "  Attempting uninstall: thinc\n",
      "    Found existing installation: thinc 8.0.3\n",
      "    Uninstalling thinc-8.0.3:\n",
      "      Successfully uninstalled thinc-8.0.3\n",
      "  Attempting uninstall: spacy-legacy\n",
      "    Found existing installation: spacy-legacy 3.0.5\n",
      "    Uninstalling spacy-legacy-3.0.5:\n",
      "      Successfully uninstalled spacy-legacy-3.0.5\n",
      "  Attempting uninstall: spacy\n",
      "    Found existing installation: spacy 3.0.6\n",
      "    Uninstalling spacy-3.0.6:\n",
      "      Successfully uninstalled spacy-3.0.6\n",
      "Successfully installed catalogue-2.0.6 pydantic-1.8.2 spacy-3.1.2 spacy-legacy-3.0.8 thinc-8.0.10\n"
     ]
    },
    {
     "name": "stderr",
     "output_type": "stream",
     "text": [
      "WARNING: You are using pip version 21.1.3; however, version 21.2.4 is available.\n",
      "You should consider upgrading via the 'c:\\users\\chandima samarakoon\\appdata\\local\\programs\\python\\python37\\python.exe -m pip install --upgrade pip' command.\n"
     ]
    }
   ],
   "source": [
    "!pip install -U spacy"
   ]
  },
  {
   "cell_type": "code",
   "execution_count": null,
   "id": "29ba3c9b",
   "metadata": {},
   "outputs": [],
   "source": [
    "!pip install -U spacy-lookups-data"
   ]
  },
  {
   "cell_type": "code",
   "execution_count": null,
   "id": "fe2192af",
   "metadata": {},
   "outputs": [],
   "source": []
  }
 ],
 "metadata": {
  "kernelspec": {
   "display_name": "Python 3",
   "language": "python",
   "name": "python3"
  },
  "language_info": {
   "codemirror_mode": {
    "name": "ipython",
    "version": 3
   },
   "file_extension": ".py",
   "mimetype": "text/x-python",
   "name": "python",
   "nbconvert_exporter": "python",
   "pygments_lexer": "ipython3",
   "version": "3.7.0"
  }
 },
 "nbformat": 4,
 "nbformat_minor": 5
}
