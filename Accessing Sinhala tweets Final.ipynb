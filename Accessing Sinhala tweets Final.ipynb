{
 "cells": [
  {
   "cell_type": "code",
   "execution_count": 1,
   "id": "73974c34",
   "metadata": {},
   "outputs": [],
   "source": [
    "import tweepy\n",
    "import re\n",
    "import string\n",
    "import nltk\n",
    "from nltk import FreqDist\n",
    "from nltk.tokenize import word_tokenize\n",
    "from csv import reader"
   ]
  },
  {
   "cell_type": "code",
   "execution_count": 2,
   "id": "7766da90",
   "metadata": {},
   "outputs": [],
   "source": [
    "consumer_key = 'WIbMrSSW0BUeUx7aY1fcdaS4h'\n",
    "consumer_secret='mRUi2zN6dMIjIJF5XicHPAGMSN3kKjxWlVv8NrOoCmzteU3T4S'\n",
    "access_token = '1349380034700533764-mPojYykP7Cmk5SeKfJbN8O1RG7hVFx'\n",
    "access_secret = 'FK1p1wqbzP8Hkj3ZsnOkPXs47lum9QTT6tAAyCiyTwmUt'"
   ]
  },
  {
   "cell_type": "code",
   "execution_count": 3,
   "id": "65769b96",
   "metadata": {},
   "outputs": [],
   "source": [
    "auth = tweepy.OAuthHandler(consumer_key, consumer_secret)\n",
    "auth.set_access_token(access_token, access_secret)\n",
    "api = tweepy.API(auth)"
   ]
  },
  {
   "cell_type": "code",
   "execution_count": 4,
   "id": "e03a4a4b",
   "metadata": {},
   "outputs": [],
   "source": [
    "# coding=utf-8\n",
    "import tweepy\n",
    "import pandas as pd\n",
    "import csv  # Import csv"
   ]
  },
  {
   "cell_type": "code",
   "execution_count": 34,
   "id": "b172152c",
   "metadata": {
    "scrolled": false
   },
   "outputs": [],
   "source": [
    "tweetsIds = []  # the list containing the tweet ids\n",
    "tweets = []  # the list containing the tweets\n",
    "\n",
    "search_words = \"ක්‍රීඩා\"\n",
    "# opening the csv file  and getting the twitter id coloumns\n",
    "csvfile = open('Single label dataset.csv', encoding=\"utf-8\")\n",
    "\n",
    "readCSV = csv.reader(csvfile, delimiter=',')\n",
    "for row in readCSV:\n",
    "    if (row and row[1] != ''):\n",
    "        tweetsIds.append(row[1])\n",
    "\n",
    "       # print(tweetsIds)\n",
    "\n",
    "auth = tweepy.OAuthHandler(consumer_key, consumer_secret)\n",
    "auth.set_access_token(access_token, access_secret)\n",
    "api = tweepy.API(auth)\n",
    "# create a dataframe  to append tweets information\n",
    "tweets_df = pd.DataFrame(columns=['ID', 'FULL TEXT', 'CREATED AT','LIKE COUNT','FOLLOWERS COUNT','RETWEET COUNT',])\n",
    "\n",
    "for tweet in tweepy.Cursor(api.search,\n",
    "                           q=search_words,\n",
    "                 lang=\"si\", tweet_mode='extended').items():\n",
    "\n",
    "    if (tweet.id_str not in tweetsIds) and ('RT @' not in           tweet.full_text) and (not tweet.retweeted):\n",
    "        # create a dataframe from the existing information\n",
    "        df = pd.DataFrame([[ tweet.id_str, tweet.full_text, tweet.created_at,tweet.favorite_count,tweet.user.followers_count,tweet.retweet_count]],\n",
    "                          columns=['ID', 'FULL TEXT', 'CREATED AT','LIKE COUNT','FOLLOWERS COUNT','RETWEET COUNT'])\n",
    "\n",
    "        # append it to the tweets_df\n",
    "        tweets_df =  tweets_df.append(df , ignore_index=True)\n",
    "\n",
    "\n",
    "#print ( tweets_df)\n",
    "with open('Single label dataset.csv', 'a', encoding=\"utf-8\") as f:\n",
    "    tweets_df.to_csv(f, header=f.tell() == 0)"
   ]
  },
  {
   "cell_type": "code",
   "execution_count": 35,
   "id": "d629e942",
   "metadata": {},
   "outputs": [],
   "source": [
    "# with open('get_tweets.csv', 'r',encoding=\"utf-8\") as file:\n",
    "#     reader = csv.reader(file)\n",
    "#     for row in reader:\n",
    "#         print(row)"
   ]
  },
  {
   "cell_type": "code",
   "execution_count": 36,
   "id": "ff67ab3a",
   "metadata": {},
   "outputs": [
    {
     "name": "stdout",
     "output_type": "stream",
     "text": [
      "9833\n"
     ]
    }
   ],
   "source": [
    "csvfile = open('Single label dataset.csv', encoding=\"utf-8\")\n",
    "lines= len(csvfile.readlines())\n",
    "print(lines)"
   ]
  },
  {
   "cell_type": "code",
   "execution_count": 37,
   "id": "e556fb68",
   "metadata": {},
   "outputs": [
    {
     "data": {
      "text/html": [
       "<div>\n",
       "<style scoped>\n",
       "    .dataframe tbody tr th:only-of-type {\n",
       "        vertical-align: middle;\n",
       "    }\n",
       "\n",
       "    .dataframe tbody tr th {\n",
       "        vertical-align: top;\n",
       "    }\n",
       "\n",
       "    .dataframe thead th {\n",
       "        text-align: right;\n",
       "    }\n",
       "</style>\n",
       "<table border=\"1\" class=\"dataframe\">\n",
       "  <thead>\n",
       "    <tr style=\"text-align: right;\">\n",
       "      <th></th>\n",
       "      <th>Unnamed: 0</th>\n",
       "      <th>ID</th>\n",
       "      <th>FULL TEXT</th>\n",
       "      <th>CREATED AT</th>\n",
       "      <th>LIKE COUNT</th>\n",
       "      <th>FOLLOWERS COUNT</th>\n",
       "      <th>RETWEET COUNT</th>\n",
       "      <th>LABEL</th>\n",
       "    </tr>\n",
       "  </thead>\n",
       "  <tbody>\n",
       "    <tr>\n",
       "      <th>0</th>\n",
       "      <td>0</td>\n",
       "      <td>1436326903552614405</td>\n",
       "      <td>ශ්‍රී ලංකාව හා දකුණු අප්‍රිකාව අතර අද(10) පැවැ...</td>\n",
       "      <td>2021-09-10 13:53:14</td>\n",
       "      <td>0</td>\n",
       "      <td>116</td>\n",
       "      <td>0</td>\n",
       "      <td>NaN</td>\n",
       "    </tr>\n",
       "    <tr>\n",
       "      <th>1</th>\n",
       "      <td>1</td>\n",
       "      <td>1436315945258012673</td>\n",
       "      <td>අද තරගයට ක්‍රීඩා කරන කන්ඩායම් දෙක. චන්දි ඉන්. ...</td>\n",
       "      <td>2021-09-10 13:09:41</td>\n",
       "      <td>3</td>\n",
       "      <td>1344</td>\n",
       "      <td>0</td>\n",
       "      <td>NaN</td>\n",
       "    </tr>\n",
       "    <tr>\n",
       "      <th>2</th>\n",
       "      <td>2</td>\n",
       "      <td>1436180401593020445</td>\n",
       "      <td>ක්‍රීඩාවෙන් ජාත්‍යන්තරය ජයගත් ඔබේ කතාව අනාගත ප...</td>\n",
       "      <td>2021-09-10 04:11:05</td>\n",
       "      <td>0</td>\n",
       "      <td>373</td>\n",
       "      <td>0</td>\n",
       "      <td>NaN</td>\n",
       "    </tr>\n",
       "    <tr>\n",
       "      <th>3</th>\n",
       "      <td>3</td>\n",
       "      <td>1436139990413557776</td>\n",
       "      <td>ඒසේනම් ප්‍රිය ක්‍රීඩා ලෝලී හිතවතුනි අද තමා දවස...</td>\n",
       "      <td>2021-09-10 01:30:30</td>\n",
       "      <td>5</td>\n",
       "      <td>88</td>\n",
       "      <td>0</td>\n",
       "      <td>NaN</td>\n",
       "    </tr>\n",
       "    <tr>\n",
       "      <th>4</th>\n",
       "      <td>4</td>\n",
       "      <td>1436037575492390917</td>\n",
       "      <td>වත්මන් ශ්‍රී ලංකා කණ්ඩායමට ලොකු ගමනක් යා හැකි ...</td>\n",
       "      <td>2021-09-09 18:43:32</td>\n",
       "      <td>7</td>\n",
       "      <td>7425</td>\n",
       "      <td>0</td>\n",
       "      <td>NaN</td>\n",
       "    </tr>\n",
       "  </tbody>\n",
       "</table>\n",
       "</div>"
      ],
      "text/plain": [
       "   Unnamed: 0                   ID  \\\n",
       "0           0  1436326903552614405   \n",
       "1           1  1436315945258012673   \n",
       "2           2  1436180401593020445   \n",
       "3           3  1436139990413557776   \n",
       "4           4  1436037575492390917   \n",
       "\n",
       "                                           FULL TEXT           CREATED AT  \\\n",
       "0  ශ්‍රී ලංකාව හා දකුණු අප්‍රිකාව අතර අද(10) පැවැ...  2021-09-10 13:53:14   \n",
       "1  අද තරගයට ක්‍රීඩා කරන කන්ඩායම් දෙක. චන්දි ඉන්. ...  2021-09-10 13:09:41   \n",
       "2  ක්‍රීඩාවෙන් ජාත්‍යන්තරය ජයගත් ඔබේ කතාව අනාගත ප...  2021-09-10 04:11:05   \n",
       "3  ඒසේනම් ප්‍රිය ක්‍රීඩා ලෝලී හිතවතුනි අද තමා දවස...  2021-09-10 01:30:30   \n",
       "4  වත්මන් ශ්‍රී ලංකා කණ්ඩායමට ලොකු ගමනක් යා හැකි ...  2021-09-09 18:43:32   \n",
       "\n",
       "   LIKE COUNT  FOLLOWERS COUNT  RETWEET COUNT  LABEL  \n",
       "0           0              116              0    NaN  \n",
       "1           3             1344              0    NaN  \n",
       "2           0              373              0    NaN  \n",
       "3           5               88              0    NaN  \n",
       "4           7             7425              0    NaN  "
      ]
     },
     "execution_count": 37,
     "metadata": {},
     "output_type": "execute_result"
    }
   ],
   "source": [
    "data = pd.read_csv(\"Single label dataset.csv\") \n",
    "data.head()"
   ]
  },
  {
   "cell_type": "code",
   "execution_count": 53,
   "id": "1bc65e4c",
   "metadata": {},
   "outputs": [
    {
     "ename": "SyntaxError",
     "evalue": "invalid character in identifier (<ipython-input-53-fa75581db75d>, line 1)",
     "output_type": "error",
     "traceback": [
      "\u001b[1;36m  File \u001b[1;32m\"<ipython-input-53-fa75581db75d>\"\u001b[1;36m, line \u001b[1;32m1\u001b[0m\n\u001b[1;33m    ක්‍රීඩා සිනමා ධ්‍යාපන ඇමති මන්ත්‍රී පාලකයා ගෝඨාභය රාජපක්ෂ අපරාධ මරනවා මරණ පරීක්ෂණ පොලිසිය ඔලිම්පික් ්‍රීඩා තරගය හදට යාම නවෝත්පාදන භ්‍යවකාශ තරණ\u001b[0m\n\u001b[1;37m          ^\u001b[0m\n\u001b[1;31mSyntaxError\u001b[0m\u001b[1;31m:\u001b[0m invalid character in identifier\n"
     ]
    }
   ],
   "source": [
    "ක්‍රීඩා සිනමා ධ්‍යාපන ඇමති මන්ත්‍රී පාලකයා ගෝඨාභය රාජපක්ෂ අපරාධ මරනවා මරණ පරීක්ෂණ පොලිසිය ඔලිම්පික් ්‍රීඩා තරගය හදට යාම නවෝත්පාදන භ්‍යවකාශ තරණ"
   ]
  },
  {
   "cell_type": "code",
   "execution_count": 54,
   "id": "39b6856c",
   "metadata": {},
   "outputs": [
    {
     "ename": "SyntaxError",
     "evalue": "invalid syntax (<ipython-input-54-389dcfb0a539>, line 1)",
     "output_type": "error",
     "traceback": [
      "\u001b[1;36m  File \u001b[1;32m\"<ipython-input-54-389dcfb0a539>\"\u001b[1;36m, line \u001b[1;32m1\u001b[0m\n\u001b[1;33m    විනෝදාස්වය විනෝදාංශය යුක්තිය\u001b[0m\n\u001b[1;37m                       ^\u001b[0m\n\u001b[1;31mSyntaxError\u001b[0m\u001b[1;31m:\u001b[0m invalid syntax\n"
     ]
    }
   ],
   "source": [
    "විනෝදාස්වය විනෝදාංශය යුක්තිය\n",
    "අයුක්තිය\n",
    "අසාධාරණ\n",
    "අපයෝජන\n",
    "ළමා \n",
    "මෙහෙකාර සේවය\n",
    "අලුත් තොරතුරු\n",
    "\n",
    "චිත්‍ර සංගීත නැටුම් කලා කුසලතා සිනමා නළු නිළි අධ්‍යක්ෂක"
   ]
  },
  {
   "cell_type": "code",
   "execution_count": null,
   "id": "c46920b7",
   "metadata": {},
   "outputs": [],
   "source": []
  }
 ],
 "metadata": {
  "kernelspec": {
   "display_name": "Python 3",
   "language": "python",
   "name": "python3"
  },
  "language_info": {
   "codemirror_mode": {
    "name": "ipython",
    "version": 3
   },
   "file_extension": ".py",
   "mimetype": "text/x-python",
   "name": "python",
   "nbconvert_exporter": "python",
   "pygments_lexer": "ipython3",
   "version": "3.7.0"
  }
 },
 "nbformat": 4,
 "nbformat_minor": 5
}
